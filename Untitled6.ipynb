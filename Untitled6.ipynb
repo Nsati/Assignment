{
  "nbformat": 4,
  "nbformat_minor": 0,
  "metadata": {
    "colab": {
      "provenance": [],
      "authorship_tag": "ABX9TyMOiA4yJlYJTBeCjftLAXj5",
      "include_colab_link": true
    },
    "kernelspec": {
      "name": "python3",
      "display_name": "Python 3"
    },
    "language_info": {
      "name": "python"
    }
  },
  "cells": [
    {
      "cell_type": "markdown",
      "metadata": {
        "id": "view-in-github",
        "colab_type": "text"
      },
      "source": [
        "<a href=\"https://colab.research.google.com/github/Nsati/Assignment/blob/main/Untitled6.ipynb\" target=\"_parent\"><img src=\"https://colab.research.google.com/assets/colab-badge.svg\" alt=\"Open In Colab\"/></a>"
      ]
    },
    {
      "cell_type": "code",
      "source": [
        "!git clone https://github.com/Nsati/MovieRecommendation.git"
      ],
      "metadata": {
        "id": "QBgKmb0s6_lg",
        "outputId": "75a3ba9b-7bc9-4352-fc83-97864528cad0",
        "colab": {
          "base_uri": "https://localhost:8080/"
        }
      },
      "execution_count": 86,
      "outputs": [
        {
          "output_type": "stream",
          "name": "stdout",
          "text": [
            "Cloning into 'MovieRecommendation'...\n",
            "warning: You appear to have cloned an empty repository.\n"
          ]
        }
      ]
    },
    {
      "cell_type": "code",
      "execution_count": 6,
      "metadata": {
        "id": "Cv_z70zriTU1"
      },
      "outputs": [],
      "source": [
        "import pandas as pd"
      ]
    },
    {
      "cell_type": "code",
      "source": [
        "df = pd.read_csv('https://raw.githubusercontent.com/YBI-Foundation/Dataset/main/Movies%20Recommendation.csv')"
      ],
      "metadata": {
        "id": "rdpRLVigkn8Y"
      },
      "execution_count": 8,
      "outputs": []
    },
    {
      "cell_type": "code",
      "source": [
        "df.head()"
      ],
      "metadata": {
        "colab": {
          "base_uri": "https://localhost:8080/",
          "height": 672
        },
        "id": "kJcBplcBkskf",
        "outputId": "2937e49c-d3d8-456b-9a0b-cb991fc4ce33"
      },
      "execution_count": 9,
      "outputs": [
        {
          "output_type": "execute_result",
          "data": {
            "text/plain": [
              "   Movie_ID      Movie_Title                       Movie_Genre Movie_Language  \\\n",
              "0         1       Four Rooms                      Crime Comedy             en   \n",
              "1         2        Star Wars  Adventure Action Science Fiction             en   \n",
              "2         3     Finding Nemo                  Animation Family             en   \n",
              "3         4     Forrest Gump              Comedy Drama Romance             en   \n",
              "4         5  American Beauty                             Drama             en   \n",
              "\n",
              "   Movie_Budget  Movie_Popularity Movie_Release_Date  Movie_Revenue  \\\n",
              "0       4000000         22.876230         09-12-1995        4300000   \n",
              "1      11000000        126.393695         25-05-1977      775398007   \n",
              "2      94000000         85.688789         30-05-2003      940335536   \n",
              "3      55000000        138.133331         06-07-1994      677945399   \n",
              "4      15000000         80.878605         15-09-1999      356296601   \n",
              "\n",
              "   Movie_Runtime  Movie_Vote  ...  \\\n",
              "0           98.0         6.5  ...   \n",
              "1          121.0         8.1  ...   \n",
              "2          100.0         7.6  ...   \n",
              "3          142.0         8.2  ...   \n",
              "4          122.0         7.9  ...   \n",
              "\n",
              "                                      Movie_Homepage  \\\n",
              "0                                                NaN   \n",
              "1  http://www.starwars.com/films/star-wars-episod...   \n",
              "2              http://movies.disney.com/finding-nemo   \n",
              "3                                                NaN   \n",
              "4                      http://www.dreamworks.com/ab/   \n",
              "\n",
              "                                      Movie_Keywords  \\\n",
              "0          hotel new year's eve witch bet hotel room   \n",
              "1        android galaxy hermit death star lightsaber   \n",
              "2  father son relationship harbor underwater fish...   \n",
              "3  vietnam veteran hippie mentally disabled runni...   \n",
              "4  male nudity female nudity adultery midlife cri...   \n",
              "\n",
              "                                      Movie_Overview  \\\n",
              "0  It's Ted the Bellhop's first night on the job....   \n",
              "1  Princess Leia is captured and held hostage by ...   \n",
              "2  Nemo, an adventurous young clownfish, is unexp...   \n",
              "3  A man with a low IQ has accomplished great thi...   \n",
              "4  Lester Burnham, a depressed suburban father in...   \n",
              "\n",
              "                              Movie_Production_House  \\\n",
              "0  [{\"name\": \"Miramax Films\", \"id\": 14}, {\"name\":...   \n",
              "1  [{\"name\": \"Lucasfilm\", \"id\": 1}, {\"name\": \"Twe...   \n",
              "2     [{\"name\": \"Pixar Animation Studios\", \"id\": 3}]   \n",
              "3          [{\"name\": \"Paramount Pictures\", \"id\": 4}]   \n",
              "4  [{\"name\": \"DreamWorks SKG\", \"id\": 27}, {\"name\"...   \n",
              "\n",
              "                            Movie_Production_Country  \\\n",
              "0  [{\"iso_3166_1\": \"US\", \"name\": \"United States o...   \n",
              "1  [{\"iso_3166_1\": \"US\", \"name\": \"United States o...   \n",
              "2  [{\"iso_3166_1\": \"US\", \"name\": \"United States o...   \n",
              "3  [{\"iso_3166_1\": \"US\", \"name\": \"United States o...   \n",
              "4  [{\"iso_3166_1\": \"US\", \"name\": \"United States o...   \n",
              "\n",
              "                      Movie_Spoken_Language  \\\n",
              "0  [{\"iso_639_1\": \"en\", \"name\": \"English\"}]   \n",
              "1  [{\"iso_639_1\": \"en\", \"name\": \"English\"}]   \n",
              "2  [{\"iso_639_1\": \"en\", \"name\": \"English\"}]   \n",
              "3  [{\"iso_639_1\": \"en\", \"name\": \"English\"}]   \n",
              "4  [{\"iso_639_1\": \"en\", \"name\": \"English\"}]   \n",
              "\n",
              "                                       Movie_Tagline  \\\n",
              "0  Twelve outrageous guests. Four scandalous requ...   \n",
              "1       A long time ago in a galaxy far, far away...   \n",
              "2  There are 3.7 trillion fish in the ocean, they...   \n",
              "3  The world will never be the same, once you've ...   \n",
              "4                                       Look closer.   \n",
              "\n",
              "                                          Movie_Cast  \\\n",
              "0  Tim Roth Antonio Banderas Jennifer Beals Madon...   \n",
              "1  Mark Hamill Harrison Ford Carrie Fisher Peter ...   \n",
              "2  Albert Brooks Ellen DeGeneres Alexander Gould ...   \n",
              "3  Tom Hanks Robin Wright Gary Sinise Mykelti Wil...   \n",
              "4  Kevin Spacey Annette Bening Thora Birch Wes Be...   \n",
              "\n",
              "                                          Movie_Crew   Movie_Director  \n",
              "0  [{'name': 'Allison Anders', 'gender': 1, 'depa...   Allison Anders  \n",
              "1  [{'name': 'George Lucas', 'gender': 2, 'depart...     George Lucas  \n",
              "2  [{'name': 'Andrew Stanton', 'gender': 2, 'depa...   Andrew Stanton  \n",
              "3  [{'name': 'Alan Silvestri', 'gender': 2, 'depa...  Robert Zemeckis  \n",
              "4  [{'name': 'Thomas Newman', 'gender': 2, 'depar...       Sam Mendes  \n",
              "\n",
              "[5 rows x 21 columns]"
            ],
            "text/html": [
              "\n",
              "  <div id=\"df-7891ce18-ad4b-40d5-a97e-76c054700014\" class=\"colab-df-container\">\n",
              "    <div>\n",
              "<style scoped>\n",
              "    .dataframe tbody tr th:only-of-type {\n",
              "        vertical-align: middle;\n",
              "    }\n",
              "\n",
              "    .dataframe tbody tr th {\n",
              "        vertical-align: top;\n",
              "    }\n",
              "\n",
              "    .dataframe thead th {\n",
              "        text-align: right;\n",
              "    }\n",
              "</style>\n",
              "<table border=\"1\" class=\"dataframe\">\n",
              "  <thead>\n",
              "    <tr style=\"text-align: right;\">\n",
              "      <th></th>\n",
              "      <th>Movie_ID</th>\n",
              "      <th>Movie_Title</th>\n",
              "      <th>Movie_Genre</th>\n",
              "      <th>Movie_Language</th>\n",
              "      <th>Movie_Budget</th>\n",
              "      <th>Movie_Popularity</th>\n",
              "      <th>Movie_Release_Date</th>\n",
              "      <th>Movie_Revenue</th>\n",
              "      <th>Movie_Runtime</th>\n",
              "      <th>Movie_Vote</th>\n",
              "      <th>...</th>\n",
              "      <th>Movie_Homepage</th>\n",
              "      <th>Movie_Keywords</th>\n",
              "      <th>Movie_Overview</th>\n",
              "      <th>Movie_Production_House</th>\n",
              "      <th>Movie_Production_Country</th>\n",
              "      <th>Movie_Spoken_Language</th>\n",
              "      <th>Movie_Tagline</th>\n",
              "      <th>Movie_Cast</th>\n",
              "      <th>Movie_Crew</th>\n",
              "      <th>Movie_Director</th>\n",
              "    </tr>\n",
              "  </thead>\n",
              "  <tbody>\n",
              "    <tr>\n",
              "      <th>0</th>\n",
              "      <td>1</td>\n",
              "      <td>Four Rooms</td>\n",
              "      <td>Crime Comedy</td>\n",
              "      <td>en</td>\n",
              "      <td>4000000</td>\n",
              "      <td>22.876230</td>\n",
              "      <td>09-12-1995</td>\n",
              "      <td>4300000</td>\n",
              "      <td>98.0</td>\n",
              "      <td>6.5</td>\n",
              "      <td>...</td>\n",
              "      <td>NaN</td>\n",
              "      <td>hotel new year's eve witch bet hotel room</td>\n",
              "      <td>It's Ted the Bellhop's first night on the job....</td>\n",
              "      <td>[{\"name\": \"Miramax Films\", \"id\": 14}, {\"name\":...</td>\n",
              "      <td>[{\"iso_3166_1\": \"US\", \"name\": \"United States o...</td>\n",
              "      <td>[{\"iso_639_1\": \"en\", \"name\": \"English\"}]</td>\n",
              "      <td>Twelve outrageous guests. Four scandalous requ...</td>\n",
              "      <td>Tim Roth Antonio Banderas Jennifer Beals Madon...</td>\n",
              "      <td>[{'name': 'Allison Anders', 'gender': 1, 'depa...</td>\n",
              "      <td>Allison Anders</td>\n",
              "    </tr>\n",
              "    <tr>\n",
              "      <th>1</th>\n",
              "      <td>2</td>\n",
              "      <td>Star Wars</td>\n",
              "      <td>Adventure Action Science Fiction</td>\n",
              "      <td>en</td>\n",
              "      <td>11000000</td>\n",
              "      <td>126.393695</td>\n",
              "      <td>25-05-1977</td>\n",
              "      <td>775398007</td>\n",
              "      <td>121.0</td>\n",
              "      <td>8.1</td>\n",
              "      <td>...</td>\n",
              "      <td>http://www.starwars.com/films/star-wars-episod...</td>\n",
              "      <td>android galaxy hermit death star lightsaber</td>\n",
              "      <td>Princess Leia is captured and held hostage by ...</td>\n",
              "      <td>[{\"name\": \"Lucasfilm\", \"id\": 1}, {\"name\": \"Twe...</td>\n",
              "      <td>[{\"iso_3166_1\": \"US\", \"name\": \"United States o...</td>\n",
              "      <td>[{\"iso_639_1\": \"en\", \"name\": \"English\"}]</td>\n",
              "      <td>A long time ago in a galaxy far, far away...</td>\n",
              "      <td>Mark Hamill Harrison Ford Carrie Fisher Peter ...</td>\n",
              "      <td>[{'name': 'George Lucas', 'gender': 2, 'depart...</td>\n",
              "      <td>George Lucas</td>\n",
              "    </tr>\n",
              "    <tr>\n",
              "      <th>2</th>\n",
              "      <td>3</td>\n",
              "      <td>Finding Nemo</td>\n",
              "      <td>Animation Family</td>\n",
              "      <td>en</td>\n",
              "      <td>94000000</td>\n",
              "      <td>85.688789</td>\n",
              "      <td>30-05-2003</td>\n",
              "      <td>940335536</td>\n",
              "      <td>100.0</td>\n",
              "      <td>7.6</td>\n",
              "      <td>...</td>\n",
              "      <td>http://movies.disney.com/finding-nemo</td>\n",
              "      <td>father son relationship harbor underwater fish...</td>\n",
              "      <td>Nemo, an adventurous young clownfish, is unexp...</td>\n",
              "      <td>[{\"name\": \"Pixar Animation Studios\", \"id\": 3}]</td>\n",
              "      <td>[{\"iso_3166_1\": \"US\", \"name\": \"United States o...</td>\n",
              "      <td>[{\"iso_639_1\": \"en\", \"name\": \"English\"}]</td>\n",
              "      <td>There are 3.7 trillion fish in the ocean, they...</td>\n",
              "      <td>Albert Brooks Ellen DeGeneres Alexander Gould ...</td>\n",
              "      <td>[{'name': 'Andrew Stanton', 'gender': 2, 'depa...</td>\n",
              "      <td>Andrew Stanton</td>\n",
              "    </tr>\n",
              "    <tr>\n",
              "      <th>3</th>\n",
              "      <td>4</td>\n",
              "      <td>Forrest Gump</td>\n",
              "      <td>Comedy Drama Romance</td>\n",
              "      <td>en</td>\n",
              "      <td>55000000</td>\n",
              "      <td>138.133331</td>\n",
              "      <td>06-07-1994</td>\n",
              "      <td>677945399</td>\n",
              "      <td>142.0</td>\n",
              "      <td>8.2</td>\n",
              "      <td>...</td>\n",
              "      <td>NaN</td>\n",
              "      <td>vietnam veteran hippie mentally disabled runni...</td>\n",
              "      <td>A man with a low IQ has accomplished great thi...</td>\n",
              "      <td>[{\"name\": \"Paramount Pictures\", \"id\": 4}]</td>\n",
              "      <td>[{\"iso_3166_1\": \"US\", \"name\": \"United States o...</td>\n",
              "      <td>[{\"iso_639_1\": \"en\", \"name\": \"English\"}]</td>\n",
              "      <td>The world will never be the same, once you've ...</td>\n",
              "      <td>Tom Hanks Robin Wright Gary Sinise Mykelti Wil...</td>\n",
              "      <td>[{'name': 'Alan Silvestri', 'gender': 2, 'depa...</td>\n",
              "      <td>Robert Zemeckis</td>\n",
              "    </tr>\n",
              "    <tr>\n",
              "      <th>4</th>\n",
              "      <td>5</td>\n",
              "      <td>American Beauty</td>\n",
              "      <td>Drama</td>\n",
              "      <td>en</td>\n",
              "      <td>15000000</td>\n",
              "      <td>80.878605</td>\n",
              "      <td>15-09-1999</td>\n",
              "      <td>356296601</td>\n",
              "      <td>122.0</td>\n",
              "      <td>7.9</td>\n",
              "      <td>...</td>\n",
              "      <td>http://www.dreamworks.com/ab/</td>\n",
              "      <td>male nudity female nudity adultery midlife cri...</td>\n",
              "      <td>Lester Burnham, a depressed suburban father in...</td>\n",
              "      <td>[{\"name\": \"DreamWorks SKG\", \"id\": 27}, {\"name\"...</td>\n",
              "      <td>[{\"iso_3166_1\": \"US\", \"name\": \"United States o...</td>\n",
              "      <td>[{\"iso_639_1\": \"en\", \"name\": \"English\"}]</td>\n",
              "      <td>Look closer.</td>\n",
              "      <td>Kevin Spacey Annette Bening Thora Birch Wes Be...</td>\n",
              "      <td>[{'name': 'Thomas Newman', 'gender': 2, 'depar...</td>\n",
              "      <td>Sam Mendes</td>\n",
              "    </tr>\n",
              "  </tbody>\n",
              "</table>\n",
              "<p>5 rows × 21 columns</p>\n",
              "</div>\n",
              "    <div class=\"colab-df-buttons\">\n",
              "\n",
              "  <div class=\"colab-df-container\">\n",
              "    <button class=\"colab-df-convert\" onclick=\"convertToInteractive('df-7891ce18-ad4b-40d5-a97e-76c054700014')\"\n",
              "            title=\"Convert this dataframe to an interactive table.\"\n",
              "            style=\"display:none;\">\n",
              "\n",
              "  <svg xmlns=\"http://www.w3.org/2000/svg\" height=\"24px\" viewBox=\"0 -960 960 960\">\n",
              "    <path d=\"M120-120v-720h720v720H120Zm60-500h600v-160H180v160Zm220 220h160v-160H400v160Zm0 220h160v-160H400v160ZM180-400h160v-160H180v160Zm440 0h160v-160H620v160ZM180-180h160v-160H180v160Zm440 0h160v-160H620v160Z\"/>\n",
              "  </svg>\n",
              "    </button>\n",
              "\n",
              "  <style>\n",
              "    .colab-df-container {\n",
              "      display:flex;\n",
              "      gap: 12px;\n",
              "    }\n",
              "\n",
              "    .colab-df-convert {\n",
              "      background-color: #E8F0FE;\n",
              "      border: none;\n",
              "      border-radius: 50%;\n",
              "      cursor: pointer;\n",
              "      display: none;\n",
              "      fill: #1967D2;\n",
              "      height: 32px;\n",
              "      padding: 0 0 0 0;\n",
              "      width: 32px;\n",
              "    }\n",
              "\n",
              "    .colab-df-convert:hover {\n",
              "      background-color: #E2EBFA;\n",
              "      box-shadow: 0px 1px 2px rgba(60, 64, 67, 0.3), 0px 1px 3px 1px rgba(60, 64, 67, 0.15);\n",
              "      fill: #174EA6;\n",
              "    }\n",
              "\n",
              "    .colab-df-buttons div {\n",
              "      margin-bottom: 4px;\n",
              "    }\n",
              "\n",
              "    [theme=dark] .colab-df-convert {\n",
              "      background-color: #3B4455;\n",
              "      fill: #D2E3FC;\n",
              "    }\n",
              "\n",
              "    [theme=dark] .colab-df-convert:hover {\n",
              "      background-color: #434B5C;\n",
              "      box-shadow: 0px 1px 3px 1px rgba(0, 0, 0, 0.15);\n",
              "      filter: drop-shadow(0px 1px 2px rgba(0, 0, 0, 0.3));\n",
              "      fill: #FFFFFF;\n",
              "    }\n",
              "  </style>\n",
              "\n",
              "    <script>\n",
              "      const buttonEl =\n",
              "        document.querySelector('#df-7891ce18-ad4b-40d5-a97e-76c054700014 button.colab-df-convert');\n",
              "      buttonEl.style.display =\n",
              "        google.colab.kernel.accessAllowed ? 'block' : 'none';\n",
              "\n",
              "      async function convertToInteractive(key) {\n",
              "        const element = document.querySelector('#df-7891ce18-ad4b-40d5-a97e-76c054700014');\n",
              "        const dataTable =\n",
              "          await google.colab.kernel.invokeFunction('convertToInteractive',\n",
              "                                                    [key], {});\n",
              "        if (!dataTable) return;\n",
              "\n",
              "        const docLinkHtml = 'Like what you see? Visit the ' +\n",
              "          '<a target=\"_blank\" href=https://colab.research.google.com/notebooks/data_table.ipynb>data table notebook</a>'\n",
              "          + ' to learn more about interactive tables.';\n",
              "        element.innerHTML = '';\n",
              "        dataTable['output_type'] = 'display_data';\n",
              "        await google.colab.output.renderOutput(dataTable, element);\n",
              "        const docLink = document.createElement('div');\n",
              "        docLink.innerHTML = docLinkHtml;\n",
              "        element.appendChild(docLink);\n",
              "      }\n",
              "    </script>\n",
              "  </div>\n",
              "\n",
              "\n",
              "<div id=\"df-adedd75b-9077-4d43-aedd-eab289dcf18f\">\n",
              "  <button class=\"colab-df-quickchart\" onclick=\"quickchart('df-adedd75b-9077-4d43-aedd-eab289dcf18f')\"\n",
              "            title=\"Suggest charts\"\n",
              "            style=\"display:none;\">\n",
              "\n",
              "<svg xmlns=\"http://www.w3.org/2000/svg\" height=\"24px\"viewBox=\"0 0 24 24\"\n",
              "     width=\"24px\">\n",
              "    <g>\n",
              "        <path d=\"M19 3H5c-1.1 0-2 .9-2 2v14c0 1.1.9 2 2 2h14c1.1 0 2-.9 2-2V5c0-1.1-.9-2-2-2zM9 17H7v-7h2v7zm4 0h-2V7h2v10zm4 0h-2v-4h2v4z\"/>\n",
              "    </g>\n",
              "</svg>\n",
              "  </button>\n",
              "\n",
              "<style>\n",
              "  .colab-df-quickchart {\n",
              "      --bg-color: #E8F0FE;\n",
              "      --fill-color: #1967D2;\n",
              "      --hover-bg-color: #E2EBFA;\n",
              "      --hover-fill-color: #174EA6;\n",
              "      --disabled-fill-color: #AAA;\n",
              "      --disabled-bg-color: #DDD;\n",
              "  }\n",
              "\n",
              "  [theme=dark] .colab-df-quickchart {\n",
              "      --bg-color: #3B4455;\n",
              "      --fill-color: #D2E3FC;\n",
              "      --hover-bg-color: #434B5C;\n",
              "      --hover-fill-color: #FFFFFF;\n",
              "      --disabled-bg-color: #3B4455;\n",
              "      --disabled-fill-color: #666;\n",
              "  }\n",
              "\n",
              "  .colab-df-quickchart {\n",
              "    background-color: var(--bg-color);\n",
              "    border: none;\n",
              "    border-radius: 50%;\n",
              "    cursor: pointer;\n",
              "    display: none;\n",
              "    fill: var(--fill-color);\n",
              "    height: 32px;\n",
              "    padding: 0;\n",
              "    width: 32px;\n",
              "  }\n",
              "\n",
              "  .colab-df-quickchart:hover {\n",
              "    background-color: var(--hover-bg-color);\n",
              "    box-shadow: 0 1px 2px rgba(60, 64, 67, 0.3), 0 1px 3px 1px rgba(60, 64, 67, 0.15);\n",
              "    fill: var(--button-hover-fill-color);\n",
              "  }\n",
              "\n",
              "  .colab-df-quickchart-complete:disabled,\n",
              "  .colab-df-quickchart-complete:disabled:hover {\n",
              "    background-color: var(--disabled-bg-color);\n",
              "    fill: var(--disabled-fill-color);\n",
              "    box-shadow: none;\n",
              "  }\n",
              "\n",
              "  .colab-df-spinner {\n",
              "    border: 2px solid var(--fill-color);\n",
              "    border-color: transparent;\n",
              "    border-bottom-color: var(--fill-color);\n",
              "    animation:\n",
              "      spin 1s steps(1) infinite;\n",
              "  }\n",
              "\n",
              "  @keyframes spin {\n",
              "    0% {\n",
              "      border-color: transparent;\n",
              "      border-bottom-color: var(--fill-color);\n",
              "      border-left-color: var(--fill-color);\n",
              "    }\n",
              "    20% {\n",
              "      border-color: transparent;\n",
              "      border-left-color: var(--fill-color);\n",
              "      border-top-color: var(--fill-color);\n",
              "    }\n",
              "    30% {\n",
              "      border-color: transparent;\n",
              "      border-left-color: var(--fill-color);\n",
              "      border-top-color: var(--fill-color);\n",
              "      border-right-color: var(--fill-color);\n",
              "    }\n",
              "    40% {\n",
              "      border-color: transparent;\n",
              "      border-right-color: var(--fill-color);\n",
              "      border-top-color: var(--fill-color);\n",
              "    }\n",
              "    60% {\n",
              "      border-color: transparent;\n",
              "      border-right-color: var(--fill-color);\n",
              "    }\n",
              "    80% {\n",
              "      border-color: transparent;\n",
              "      border-right-color: var(--fill-color);\n",
              "      border-bottom-color: var(--fill-color);\n",
              "    }\n",
              "    90% {\n",
              "      border-color: transparent;\n",
              "      border-bottom-color: var(--fill-color);\n",
              "    }\n",
              "  }\n",
              "</style>\n",
              "\n",
              "  <script>\n",
              "    async function quickchart(key) {\n",
              "      const quickchartButtonEl =\n",
              "        document.querySelector('#' + key + ' button');\n",
              "      quickchartButtonEl.disabled = true;  // To prevent multiple clicks.\n",
              "      quickchartButtonEl.classList.add('colab-df-spinner');\n",
              "      try {\n",
              "        const charts = await google.colab.kernel.invokeFunction(\n",
              "            'suggestCharts', [key], {});\n",
              "      } catch (error) {\n",
              "        console.error('Error during call to suggestCharts:', error);\n",
              "      }\n",
              "      quickchartButtonEl.classList.remove('colab-df-spinner');\n",
              "      quickchartButtonEl.classList.add('colab-df-quickchart-complete');\n",
              "    }\n",
              "    (() => {\n",
              "      let quickchartButtonEl =\n",
              "        document.querySelector('#df-adedd75b-9077-4d43-aedd-eab289dcf18f button');\n",
              "      quickchartButtonEl.style.display =\n",
              "        google.colab.kernel.accessAllowed ? 'block' : 'none';\n",
              "    })();\n",
              "  </script>\n",
              "</div>\n",
              "\n",
              "    </div>\n",
              "  </div>\n"
            ]
          },
          "metadata": {},
          "execution_count": 9
        }
      ]
    },
    {
      "cell_type": "code",
      "source": [
        "df.info()"
      ],
      "metadata": {
        "colab": {
          "base_uri": "https://localhost:8080/"
        },
        "id": "1PxTBfdukt0i",
        "outputId": "60119617-ea98-4acf-97b4-24adc9b21061"
      },
      "execution_count": 10,
      "outputs": [
        {
          "output_type": "stream",
          "name": "stdout",
          "text": [
            "<class 'pandas.core.frame.DataFrame'>\n",
            "RangeIndex: 4760 entries, 0 to 4759\n",
            "Data columns (total 21 columns):\n",
            " #   Column                    Non-Null Count  Dtype  \n",
            "---  ------                    --------------  -----  \n",
            " 0   Movie_ID                  4760 non-null   int64  \n",
            " 1   Movie_Title               4760 non-null   object \n",
            " 2   Movie_Genre               4760 non-null   object \n",
            " 3   Movie_Language            4760 non-null   object \n",
            " 4   Movie_Budget              4760 non-null   int64  \n",
            " 5   Movie_Popularity          4760 non-null   float64\n",
            " 6   Movie_Release_Date        4760 non-null   object \n",
            " 7   Movie_Revenue             4760 non-null   int64  \n",
            " 8   Movie_Runtime             4758 non-null   float64\n",
            " 9   Movie_Vote                4760 non-null   float64\n",
            " 10  Movie_Vote_Count          4760 non-null   int64  \n",
            " 11  Movie_Homepage            1699 non-null   object \n",
            " 12  Movie_Keywords            4373 non-null   object \n",
            " 13  Movie_Overview            4757 non-null   object \n",
            " 14  Movie_Production_House    4760 non-null   object \n",
            " 15  Movie_Production_Country  4760 non-null   object \n",
            " 16  Movie_Spoken_Language     4760 non-null   object \n",
            " 17  Movie_Tagline             3942 non-null   object \n",
            " 18  Movie_Cast                4733 non-null   object \n",
            " 19  Movie_Crew                4760 non-null   object \n",
            " 20  Movie_Director            4738 non-null   object \n",
            "dtypes: float64(3), int64(4), object(14)\n",
            "memory usage: 781.1+ KB\n"
          ]
        }
      ]
    },
    {
      "cell_type": "code",
      "source": [
        "df.shape"
      ],
      "metadata": {
        "colab": {
          "base_uri": "https://localhost:8080/"
        },
        "id": "yhsobsaokt3L",
        "outputId": "fa4e8dca-5fe8-4b2b-d725-b2bfbd1b5d73"
      },
      "execution_count": 11,
      "outputs": [
        {
          "output_type": "execute_result",
          "data": {
            "text/plain": [
              "(4760, 21)"
            ]
          },
          "metadata": {},
          "execution_count": 11
        }
      ]
    },
    {
      "cell_type": "code",
      "source": [
        "df_features = df[['Movie_Genre','Movie_Keywords' ,'Movie_Tagline' ,'Movie_Cast', 'Movie_Director' ]]"
      ],
      "metadata": {
        "id": "eiF0TyAnkt6D"
      },
      "execution_count": 14,
      "outputs": []
    },
    {
      "cell_type": "code",
      "source": [
        "df_features.shape"
      ],
      "metadata": {
        "colab": {
          "base_uri": "https://localhost:8080/"
        },
        "id": "yoYeIJnPkt8p",
        "outputId": "e06b38c6-2972-46cb-8daf-4ed63cdf17a4"
      },
      "execution_count": 16,
      "outputs": [
        {
          "output_type": "execute_result",
          "data": {
            "text/plain": [
              "(4760, 5)"
            ]
          },
          "metadata": {},
          "execution_count": 16
        }
      ]
    },
    {
      "cell_type": "code",
      "source": [
        "df_features"
      ],
      "metadata": {
        "colab": {
          "base_uri": "https://localhost:8080/",
          "height": 1000
        },
        "id": "1ptDl97Ekt_Y",
        "outputId": "08102cfd-8151-4b7b-a99a-d4788d84afac"
      },
      "execution_count": 17,
      "outputs": [
        {
          "output_type": "execute_result",
          "data": {
            "text/plain": [
              "                           Movie_Genre  \\\n",
              "0                         Crime Comedy   \n",
              "1     Adventure Action Science Fiction   \n",
              "2                     Animation Family   \n",
              "3                 Comedy Drama Romance   \n",
              "4                                Drama   \n",
              "...                                ...   \n",
              "4755                            Horror   \n",
              "4756               Comedy Family Drama   \n",
              "4757                    Thriller Drama   \n",
              "4758                            Family   \n",
              "4759                       Documentary   \n",
              "\n",
              "                                         Movie_Keywords  \\\n",
              "0             hotel new year's eve witch bet hotel room   \n",
              "1           android galaxy hermit death star lightsaber   \n",
              "2     father son relationship harbor underwater fish...   \n",
              "3     vietnam veteran hippie mentally disabled runni...   \n",
              "4     male nudity female nudity adultery midlife cri...   \n",
              "...                                                 ...   \n",
              "4755                                                NaN   \n",
              "4756                                                NaN   \n",
              "4757                     christian film sex trafficking   \n",
              "4758                                                NaN   \n",
              "4759  music actors legendary perfomer classic hollyw...   \n",
              "\n",
              "                                          Movie_Tagline  \\\n",
              "0     Twelve outrageous guests. Four scandalous requ...   \n",
              "1          A long time ago in a galaxy far, far away...   \n",
              "2     There are 3.7 trillion fish in the ocean, they...   \n",
              "3     The world will never be the same, once you've ...   \n",
              "4                                          Look closer.   \n",
              "...                                                 ...   \n",
              "4755                The hot spot where Satan's waitin'.   \n",
              "4756           It’s better to stand out than to fit in.   \n",
              "4757           She never knew it could happen to her...   \n",
              "4758                                                NaN   \n",
              "4759                                                NaN   \n",
              "\n",
              "                                             Movie_Cast     Movie_Director  \n",
              "0     Tim Roth Antonio Banderas Jennifer Beals Madon...     Allison Anders  \n",
              "1     Mark Hamill Harrison Ford Carrie Fisher Peter ...       George Lucas  \n",
              "2     Albert Brooks Ellen DeGeneres Alexander Gould ...     Andrew Stanton  \n",
              "3     Tom Hanks Robin Wright Gary Sinise Mykelti Wil...    Robert Zemeckis  \n",
              "4     Kevin Spacey Annette Bening Thora Birch Wes Be...         Sam Mendes  \n",
              "...                                                 ...                ...  \n",
              "4755  Lisa Hart Carroll Michael Des Barres Paul Drak...         Pece Dingo  \n",
              "4756  Roni Akurati Brighton Sharbino Jason Lee Anjul...       Frank Lotito  \n",
              "4757  Nicole Smolen Kim Baldwin Ariana Stephens Brys...       Jaco Booyens  \n",
              "4758                                                NaN                NaN  \n",
              "4759                                    Tony Oppedisano  Simon Napier-Bell  \n",
              "\n",
              "[4760 rows x 5 columns]"
            ],
            "text/html": [
              "\n",
              "  <div id=\"df-19f92ad5-15c4-461f-9ae7-1f4e55bde58f\" class=\"colab-df-container\">\n",
              "    <div>\n",
              "<style scoped>\n",
              "    .dataframe tbody tr th:only-of-type {\n",
              "        vertical-align: middle;\n",
              "    }\n",
              "\n",
              "    .dataframe tbody tr th {\n",
              "        vertical-align: top;\n",
              "    }\n",
              "\n",
              "    .dataframe thead th {\n",
              "        text-align: right;\n",
              "    }\n",
              "</style>\n",
              "<table border=\"1\" class=\"dataframe\">\n",
              "  <thead>\n",
              "    <tr style=\"text-align: right;\">\n",
              "      <th></th>\n",
              "      <th>Movie_Genre</th>\n",
              "      <th>Movie_Keywords</th>\n",
              "      <th>Movie_Tagline</th>\n",
              "      <th>Movie_Cast</th>\n",
              "      <th>Movie_Director</th>\n",
              "    </tr>\n",
              "  </thead>\n",
              "  <tbody>\n",
              "    <tr>\n",
              "      <th>0</th>\n",
              "      <td>Crime Comedy</td>\n",
              "      <td>hotel new year's eve witch bet hotel room</td>\n",
              "      <td>Twelve outrageous guests. Four scandalous requ...</td>\n",
              "      <td>Tim Roth Antonio Banderas Jennifer Beals Madon...</td>\n",
              "      <td>Allison Anders</td>\n",
              "    </tr>\n",
              "    <tr>\n",
              "      <th>1</th>\n",
              "      <td>Adventure Action Science Fiction</td>\n",
              "      <td>android galaxy hermit death star lightsaber</td>\n",
              "      <td>A long time ago in a galaxy far, far away...</td>\n",
              "      <td>Mark Hamill Harrison Ford Carrie Fisher Peter ...</td>\n",
              "      <td>George Lucas</td>\n",
              "    </tr>\n",
              "    <tr>\n",
              "      <th>2</th>\n",
              "      <td>Animation Family</td>\n",
              "      <td>father son relationship harbor underwater fish...</td>\n",
              "      <td>There are 3.7 trillion fish in the ocean, they...</td>\n",
              "      <td>Albert Brooks Ellen DeGeneres Alexander Gould ...</td>\n",
              "      <td>Andrew Stanton</td>\n",
              "    </tr>\n",
              "    <tr>\n",
              "      <th>3</th>\n",
              "      <td>Comedy Drama Romance</td>\n",
              "      <td>vietnam veteran hippie mentally disabled runni...</td>\n",
              "      <td>The world will never be the same, once you've ...</td>\n",
              "      <td>Tom Hanks Robin Wright Gary Sinise Mykelti Wil...</td>\n",
              "      <td>Robert Zemeckis</td>\n",
              "    </tr>\n",
              "    <tr>\n",
              "      <th>4</th>\n",
              "      <td>Drama</td>\n",
              "      <td>male nudity female nudity adultery midlife cri...</td>\n",
              "      <td>Look closer.</td>\n",
              "      <td>Kevin Spacey Annette Bening Thora Birch Wes Be...</td>\n",
              "      <td>Sam Mendes</td>\n",
              "    </tr>\n",
              "    <tr>\n",
              "      <th>...</th>\n",
              "      <td>...</td>\n",
              "      <td>...</td>\n",
              "      <td>...</td>\n",
              "      <td>...</td>\n",
              "      <td>...</td>\n",
              "    </tr>\n",
              "    <tr>\n",
              "      <th>4755</th>\n",
              "      <td>Horror</td>\n",
              "      <td>NaN</td>\n",
              "      <td>The hot spot where Satan's waitin'.</td>\n",
              "      <td>Lisa Hart Carroll Michael Des Barres Paul Drak...</td>\n",
              "      <td>Pece Dingo</td>\n",
              "    </tr>\n",
              "    <tr>\n",
              "      <th>4756</th>\n",
              "      <td>Comedy Family Drama</td>\n",
              "      <td>NaN</td>\n",
              "      <td>It’s better to stand out than to fit in.</td>\n",
              "      <td>Roni Akurati Brighton Sharbino Jason Lee Anjul...</td>\n",
              "      <td>Frank Lotito</td>\n",
              "    </tr>\n",
              "    <tr>\n",
              "      <th>4757</th>\n",
              "      <td>Thriller Drama</td>\n",
              "      <td>christian film sex trafficking</td>\n",
              "      <td>She never knew it could happen to her...</td>\n",
              "      <td>Nicole Smolen Kim Baldwin Ariana Stephens Brys...</td>\n",
              "      <td>Jaco Booyens</td>\n",
              "    </tr>\n",
              "    <tr>\n",
              "      <th>4758</th>\n",
              "      <td>Family</td>\n",
              "      <td>NaN</td>\n",
              "      <td>NaN</td>\n",
              "      <td>NaN</td>\n",
              "      <td>NaN</td>\n",
              "    </tr>\n",
              "    <tr>\n",
              "      <th>4759</th>\n",
              "      <td>Documentary</td>\n",
              "      <td>music actors legendary perfomer classic hollyw...</td>\n",
              "      <td>NaN</td>\n",
              "      <td>Tony Oppedisano</td>\n",
              "      <td>Simon Napier-Bell</td>\n",
              "    </tr>\n",
              "  </tbody>\n",
              "</table>\n",
              "<p>4760 rows × 5 columns</p>\n",
              "</div>\n",
              "    <div class=\"colab-df-buttons\">\n",
              "\n",
              "  <div class=\"colab-df-container\">\n",
              "    <button class=\"colab-df-convert\" onclick=\"convertToInteractive('df-19f92ad5-15c4-461f-9ae7-1f4e55bde58f')\"\n",
              "            title=\"Convert this dataframe to an interactive table.\"\n",
              "            style=\"display:none;\">\n",
              "\n",
              "  <svg xmlns=\"http://www.w3.org/2000/svg\" height=\"24px\" viewBox=\"0 -960 960 960\">\n",
              "    <path d=\"M120-120v-720h720v720H120Zm60-500h600v-160H180v160Zm220 220h160v-160H400v160Zm0 220h160v-160H400v160ZM180-400h160v-160H180v160Zm440 0h160v-160H620v160ZM180-180h160v-160H180v160Zm440 0h160v-160H620v160Z\"/>\n",
              "  </svg>\n",
              "    </button>\n",
              "\n",
              "  <style>\n",
              "    .colab-df-container {\n",
              "      display:flex;\n",
              "      gap: 12px;\n",
              "    }\n",
              "\n",
              "    .colab-df-convert {\n",
              "      background-color: #E8F0FE;\n",
              "      border: none;\n",
              "      border-radius: 50%;\n",
              "      cursor: pointer;\n",
              "      display: none;\n",
              "      fill: #1967D2;\n",
              "      height: 32px;\n",
              "      padding: 0 0 0 0;\n",
              "      width: 32px;\n",
              "    }\n",
              "\n",
              "    .colab-df-convert:hover {\n",
              "      background-color: #E2EBFA;\n",
              "      box-shadow: 0px 1px 2px rgba(60, 64, 67, 0.3), 0px 1px 3px 1px rgba(60, 64, 67, 0.15);\n",
              "      fill: #174EA6;\n",
              "    }\n",
              "\n",
              "    .colab-df-buttons div {\n",
              "      margin-bottom: 4px;\n",
              "    }\n",
              "\n",
              "    [theme=dark] .colab-df-convert {\n",
              "      background-color: #3B4455;\n",
              "      fill: #D2E3FC;\n",
              "    }\n",
              "\n",
              "    [theme=dark] .colab-df-convert:hover {\n",
              "      background-color: #434B5C;\n",
              "      box-shadow: 0px 1px 3px 1px rgba(0, 0, 0, 0.15);\n",
              "      filter: drop-shadow(0px 1px 2px rgba(0, 0, 0, 0.3));\n",
              "      fill: #FFFFFF;\n",
              "    }\n",
              "  </style>\n",
              "\n",
              "    <script>\n",
              "      const buttonEl =\n",
              "        document.querySelector('#df-19f92ad5-15c4-461f-9ae7-1f4e55bde58f button.colab-df-convert');\n",
              "      buttonEl.style.display =\n",
              "        google.colab.kernel.accessAllowed ? 'block' : 'none';\n",
              "\n",
              "      async function convertToInteractive(key) {\n",
              "        const element = document.querySelector('#df-19f92ad5-15c4-461f-9ae7-1f4e55bde58f');\n",
              "        const dataTable =\n",
              "          await google.colab.kernel.invokeFunction('convertToInteractive',\n",
              "                                                    [key], {});\n",
              "        if (!dataTable) return;\n",
              "\n",
              "        const docLinkHtml = 'Like what you see? Visit the ' +\n",
              "          '<a target=\"_blank\" href=https://colab.research.google.com/notebooks/data_table.ipynb>data table notebook</a>'\n",
              "          + ' to learn more about interactive tables.';\n",
              "        element.innerHTML = '';\n",
              "        dataTable['output_type'] = 'display_data';\n",
              "        await google.colab.output.renderOutput(dataTable, element);\n",
              "        const docLink = document.createElement('div');\n",
              "        docLink.innerHTML = docLinkHtml;\n",
              "        element.appendChild(docLink);\n",
              "      }\n",
              "    </script>\n",
              "  </div>\n",
              "\n",
              "\n",
              "<div id=\"df-f5e295d0-39e5-4209-8ebe-a8821ec6abc0\">\n",
              "  <button class=\"colab-df-quickchart\" onclick=\"quickchart('df-f5e295d0-39e5-4209-8ebe-a8821ec6abc0')\"\n",
              "            title=\"Suggest charts\"\n",
              "            style=\"display:none;\">\n",
              "\n",
              "<svg xmlns=\"http://www.w3.org/2000/svg\" height=\"24px\"viewBox=\"0 0 24 24\"\n",
              "     width=\"24px\">\n",
              "    <g>\n",
              "        <path d=\"M19 3H5c-1.1 0-2 .9-2 2v14c0 1.1.9 2 2 2h14c1.1 0 2-.9 2-2V5c0-1.1-.9-2-2-2zM9 17H7v-7h2v7zm4 0h-2V7h2v10zm4 0h-2v-4h2v4z\"/>\n",
              "    </g>\n",
              "</svg>\n",
              "  </button>\n",
              "\n",
              "<style>\n",
              "  .colab-df-quickchart {\n",
              "      --bg-color: #E8F0FE;\n",
              "      --fill-color: #1967D2;\n",
              "      --hover-bg-color: #E2EBFA;\n",
              "      --hover-fill-color: #174EA6;\n",
              "      --disabled-fill-color: #AAA;\n",
              "      --disabled-bg-color: #DDD;\n",
              "  }\n",
              "\n",
              "  [theme=dark] .colab-df-quickchart {\n",
              "      --bg-color: #3B4455;\n",
              "      --fill-color: #D2E3FC;\n",
              "      --hover-bg-color: #434B5C;\n",
              "      --hover-fill-color: #FFFFFF;\n",
              "      --disabled-bg-color: #3B4455;\n",
              "      --disabled-fill-color: #666;\n",
              "  }\n",
              "\n",
              "  .colab-df-quickchart {\n",
              "    background-color: var(--bg-color);\n",
              "    border: none;\n",
              "    border-radius: 50%;\n",
              "    cursor: pointer;\n",
              "    display: none;\n",
              "    fill: var(--fill-color);\n",
              "    height: 32px;\n",
              "    padding: 0;\n",
              "    width: 32px;\n",
              "  }\n",
              "\n",
              "  .colab-df-quickchart:hover {\n",
              "    background-color: var(--hover-bg-color);\n",
              "    box-shadow: 0 1px 2px rgba(60, 64, 67, 0.3), 0 1px 3px 1px rgba(60, 64, 67, 0.15);\n",
              "    fill: var(--button-hover-fill-color);\n",
              "  }\n",
              "\n",
              "  .colab-df-quickchart-complete:disabled,\n",
              "  .colab-df-quickchart-complete:disabled:hover {\n",
              "    background-color: var(--disabled-bg-color);\n",
              "    fill: var(--disabled-fill-color);\n",
              "    box-shadow: none;\n",
              "  }\n",
              "\n",
              "  .colab-df-spinner {\n",
              "    border: 2px solid var(--fill-color);\n",
              "    border-color: transparent;\n",
              "    border-bottom-color: var(--fill-color);\n",
              "    animation:\n",
              "      spin 1s steps(1) infinite;\n",
              "  }\n",
              "\n",
              "  @keyframes spin {\n",
              "    0% {\n",
              "      border-color: transparent;\n",
              "      border-bottom-color: var(--fill-color);\n",
              "      border-left-color: var(--fill-color);\n",
              "    }\n",
              "    20% {\n",
              "      border-color: transparent;\n",
              "      border-left-color: var(--fill-color);\n",
              "      border-top-color: var(--fill-color);\n",
              "    }\n",
              "    30% {\n",
              "      border-color: transparent;\n",
              "      border-left-color: var(--fill-color);\n",
              "      border-top-color: var(--fill-color);\n",
              "      border-right-color: var(--fill-color);\n",
              "    }\n",
              "    40% {\n",
              "      border-color: transparent;\n",
              "      border-right-color: var(--fill-color);\n",
              "      border-top-color: var(--fill-color);\n",
              "    }\n",
              "    60% {\n",
              "      border-color: transparent;\n",
              "      border-right-color: var(--fill-color);\n",
              "    }\n",
              "    80% {\n",
              "      border-color: transparent;\n",
              "      border-right-color: var(--fill-color);\n",
              "      border-bottom-color: var(--fill-color);\n",
              "    }\n",
              "    90% {\n",
              "      border-color: transparent;\n",
              "      border-bottom-color: var(--fill-color);\n",
              "    }\n",
              "  }\n",
              "</style>\n",
              "\n",
              "  <script>\n",
              "    async function quickchart(key) {\n",
              "      const quickchartButtonEl =\n",
              "        document.querySelector('#' + key + ' button');\n",
              "      quickchartButtonEl.disabled = true;  // To prevent multiple clicks.\n",
              "      quickchartButtonEl.classList.add('colab-df-spinner');\n",
              "      try {\n",
              "        const charts = await google.colab.kernel.invokeFunction(\n",
              "            'suggestCharts', [key], {});\n",
              "      } catch (error) {\n",
              "        console.error('Error during call to suggestCharts:', error);\n",
              "      }\n",
              "      quickchartButtonEl.classList.remove('colab-df-spinner');\n",
              "      quickchartButtonEl.classList.add('colab-df-quickchart-complete');\n",
              "    }\n",
              "    (() => {\n",
              "      let quickchartButtonEl =\n",
              "        document.querySelector('#df-f5e295d0-39e5-4209-8ebe-a8821ec6abc0 button');\n",
              "      quickchartButtonEl.style.display =\n",
              "        google.colab.kernel.accessAllowed ? 'block' : 'none';\n",
              "    })();\n",
              "  </script>\n",
              "</div>\n",
              "\n",
              "  <div id=\"id_d9e28387-fbfc-46b4-8e36-faf6fa6947c5\">\n",
              "    <style>\n",
              "      .colab-df-generate {\n",
              "        background-color: #E8F0FE;\n",
              "        border: none;\n",
              "        border-radius: 50%;\n",
              "        cursor: pointer;\n",
              "        display: none;\n",
              "        fill: #1967D2;\n",
              "        height: 32px;\n",
              "        padding: 0 0 0 0;\n",
              "        width: 32px;\n",
              "      }\n",
              "\n",
              "      .colab-df-generate:hover {\n",
              "        background-color: #E2EBFA;\n",
              "        box-shadow: 0px 1px 2px rgba(60, 64, 67, 0.3), 0px 1px 3px 1px rgba(60, 64, 67, 0.15);\n",
              "        fill: #174EA6;\n",
              "      }\n",
              "\n",
              "      [theme=dark] .colab-df-generate {\n",
              "        background-color: #3B4455;\n",
              "        fill: #D2E3FC;\n",
              "      }\n",
              "\n",
              "      [theme=dark] .colab-df-generate:hover {\n",
              "        background-color: #434B5C;\n",
              "        box-shadow: 0px 1px 3px 1px rgba(0, 0, 0, 0.15);\n",
              "        filter: drop-shadow(0px 1px 2px rgba(0, 0, 0, 0.3));\n",
              "        fill: #FFFFFF;\n",
              "      }\n",
              "    </style>\n",
              "    <button class=\"colab-df-generate\" onclick=\"generateWithVariable('df_features')\"\n",
              "            title=\"Generate code using this dataframe.\"\n",
              "            style=\"display:none;\">\n",
              "\n",
              "  <svg xmlns=\"http://www.w3.org/2000/svg\" height=\"24px\"viewBox=\"0 0 24 24\"\n",
              "       width=\"24px\">\n",
              "    <path d=\"M7,19H8.4L18.45,9,17,7.55,7,17.6ZM5,21V16.75L18.45,3.32a2,2,0,0,1,2.83,0l1.4,1.43a1.91,1.91,0,0,1,.58,1.4,1.91,1.91,0,0,1-.58,1.4L9.25,21ZM18.45,9,17,7.55Zm-12,3A5.31,5.31,0,0,0,4.9,8.1,5.31,5.31,0,0,0,1,6.5,5.31,5.31,0,0,0,4.9,4.9,5.31,5.31,0,0,0,6.5,1,5.31,5.31,0,0,0,8.1,4.9,5.31,5.31,0,0,0,12,6.5,5.46,5.46,0,0,0,6.5,12Z\"/>\n",
              "  </svg>\n",
              "    </button>\n",
              "    <script>\n",
              "      (() => {\n",
              "      const buttonEl =\n",
              "        document.querySelector('#id_d9e28387-fbfc-46b4-8e36-faf6fa6947c5 button.colab-df-generate');\n",
              "      buttonEl.style.display =\n",
              "        google.colab.kernel.accessAllowed ? 'block' : 'none';\n",
              "\n",
              "      buttonEl.onclick = () => {\n",
              "        google.colab.notebook.generateWithVariable('df_features');\n",
              "      }\n",
              "      })();\n",
              "    </script>\n",
              "  </div>\n",
              "\n",
              "    </div>\n",
              "  </div>\n"
            ]
          },
          "metadata": {},
          "execution_count": 17
        }
      ]
    },
    {
      "cell_type": "code",
      "source": [
        " X = df_features['Movie_Genre'] +' ' + df_features['Movie_Keywords'] + ' ' + df_features['Movie_Keywords']  +''+ df_features['Movie_Keywords']"
      ],
      "metadata": {
        "id": "nLpLKIibkuFN"
      },
      "execution_count": 20,
      "outputs": []
    },
    {
      "cell_type": "code",
      "source": [
        "for i, doc in enumerate(X):\n",
        "    if not isinstance(doc, str):\n",
        "        X[i] = str(doc)"
      ],
      "metadata": {
        "id": "VnJzJEp-kuIs"
      },
      "execution_count": 36,
      "outputs": []
    },
    {
      "cell_type": "code",
      "source": [
        "from sklearn.feature_extraction.text import TfidfVectorizer"
      ],
      "metadata": {
        "id": "5t02G9eDksnf"
      },
      "execution_count": 22,
      "outputs": []
    },
    {
      "cell_type": "code",
      "source": [
        "nitin = TfidfVectorizer()"
      ],
      "metadata": {
        "id": "OOBoUqOPksq7"
      },
      "execution_count": 29,
      "outputs": []
    },
    {
      "cell_type": "code",
      "source": [
        "X = nitin.fit_transform(X)"
      ],
      "metadata": {
        "id": "3FD8jzlmoiYI"
      },
      "execution_count": 37,
      "outputs": []
    },
    {
      "cell_type": "code",
      "source": [
        "X.shape"
      ],
      "metadata": {
        "colab": {
          "base_uri": "https://localhost:8080/"
        },
        "id": "vh8JSW95oia1",
        "outputId": "51e143aa-70ea-4772-8dda-49ae483688c4"
      },
      "execution_count": 38,
      "outputs": [
        {
          "output_type": "execute_result",
          "data": {
            "text/plain": [
              "(4760, 8395)"
            ]
          },
          "metadata": {},
          "execution_count": 38
        }
      ]
    },
    {
      "cell_type": "code",
      "source": [
        "print(X)"
      ],
      "metadata": {
        "colab": {
          "base_uri": "https://localhost:8080/"
        },
        "id": "D279t8xIqo8u",
        "outputId": "694c5359-2252-4847-c059-358b433965f3"
      },
      "execution_count": 40,
      "outputs": [
        {
          "output_type": "stream",
          "name": "stdout",
          "text": [
            "  (0, 6370)\t0.16254030807343495\n",
            "  (0, 6369)\t0.2504366273511768\n",
            "  (0, 790)\t0.4040409688515781\n",
            "  (0, 8244)\t0.315855035810404\n",
            "  (0, 2618)\t0.39818619886754575\n",
            "  (0, 8347)\t0.39818619886754575\n",
            "  (0, 5171)\t0.23545131172334485\n",
            "  (0, 3686)\t0.5203163713766251\n",
            "  (0, 1553)\t0.039072028043788856\n",
            "  (0, 1806)\t0.05523647298335959\n",
            "  (1, 4409)\t0.18036470815938738\n",
            "  (1, 4408)\t0.3440613713557154\n",
            "  (1, 7088)\t0.3579303914677624\n",
            "  (1, 1953)\t0.3050098141344219\n",
            "  (1, 3528)\t0.5410941244781622\n",
            "  (1, 3178)\t0.49835280787450653\n",
            "  (1, 345)\t0.2681822842135639\n",
            "  (1, 2842)\t0.0667115592106221\n",
            "  (1, 6554)\t0.06663015621906797\n",
            "  (1, 94)\t0.0511417378522767\n",
            "  (1, 147)\t0.05813428858242199\n",
            "  (2, 6114)\t0.13963823535197148\n",
            "  (2, 6113)\t0.27927647070394296\n",
            "  (2, 688)\t0.3591087922367319\n",
            "  (2, 3358)\t0.3260184937628187\n",
            "  :\t:\n",
            "  (4754, 2767)\t0.10206300815183235\n",
            "  (4754, 2729)\t0.09311014115925915\n",
            "  (4754, 372)\t0.12087457801448515\n",
            "  (4754, 94)\t0.0735639181375948\n",
            "  (4754, 147)\t0.25086668301833354\n",
            "  (4755, 5110)\t1.0\n",
            "  (4756, 5110)\t1.0\n",
            "  (4757, 7675)\t0.30949789781339937\n",
            "  (4757, 7673)\t0.5306255172084722\n",
            "  (4757, 1403)\t0.4498475383713285\n",
            "  (4757, 6666)\t0.4909498454235582\n",
            "  (4757, 2882)\t0.40985696345103806\n",
            "  (4757, 7568)\t0.08470994573560241\n",
            "  (4757, 2294)\t0.06398865399689288\n",
            "  (4758, 5110)\t1.0\n",
            "  (4759, 6785)\t0.13333049468842806\n",
            "  (4759, 6784)\t0.2666609893768561\n",
            "  (4759, 3066)\t0.3999914840652842\n",
            "  (4759, 5547)\t0.3999914840652842\n",
            "  (4759, 4347)\t0.3999914840652842\n",
            "  (4759, 107)\t0.3999914840652842\n",
            "  (4759, 3607)\t0.3222844066839612\n",
            "  (4759, 1453)\t0.38150927623960096\n",
            "  (4759, 2241)\t0.07451052046801741\n",
            "  (4759, 5057)\t0.12717610751548203\n"
          ]
        }
      ]
    },
    {
      "cell_type": "code",
      "source": [
        "from sklearn.metrics.pairwise import cosine_similarity"
      ],
      "metadata": {
        "id": "rAPu1zH2oihL"
      },
      "execution_count": 45,
      "outputs": []
    },
    {
      "cell_type": "code",
      "source": [
        "similarity_score = cosine_similarity(X)"
      ],
      "metadata": {
        "id": "KMj-7N8Br1O8"
      },
      "execution_count": 47,
      "outputs": []
    },
    {
      "cell_type": "code",
      "source": [
        "similarity_score"
      ],
      "metadata": {
        "colab": {
          "base_uri": "https://localhost:8080/"
        },
        "id": "Y234FZFor1RW",
        "outputId": "03663b60-3148-4c76-df9b-3983436ebe94"
      },
      "execution_count": 48,
      "outputs": [
        {
          "output_type": "execute_result",
          "data": {
            "text/plain": [
              "array([[1., 0., 0., ..., 0., 0., 0.],\n",
              "       [0., 1., 0., ..., 0., 0., 0.],\n",
              "       [0., 0., 1., ..., 0., 0., 0.],\n",
              "       ...,\n",
              "       [0., 0., 0., ..., 1., 0., 0.],\n",
              "       [0., 0., 0., ..., 0., 1., 0.],\n",
              "       [0., 0., 0., ..., 0., 0., 1.]])"
            ]
          },
          "metadata": {},
          "execution_count": 48
        }
      ]
    },
    {
      "cell_type": "code",
      "source": [
        "similarity_score.shape"
      ],
      "metadata": {
        "colab": {
          "base_uri": "https://localhost:8080/"
        },
        "id": "zxm8Dqu-r1Uu",
        "outputId": "3f7e145c-86ed-4171-9672-464cdb8b94d1"
      },
      "execution_count": 49,
      "outputs": [
        {
          "output_type": "execute_result",
          "data": {
            "text/plain": [
              "(4760, 4760)"
            ]
          },
          "metadata": {},
          "execution_count": 49
        }
      ]
    },
    {
      "cell_type": "code",
      "source": [
        "\n",
        "Favriout_Movies_Name = input('enter your favriout movie name: ')"
      ],
      "metadata": {
        "colab": {
          "base_uri": "https://localhost:8080/"
        },
        "id": "As-7kM55sghD",
        "outputId": "4079d57d-92f8-4de5-e7e7-84a60840b0f3"
      },
      "execution_count": 59,
      "outputs": [
        {
          "name": "stdout",
          "output_type": "stream",
          "text": [
            "enter your favriout movie name: avtaar\n"
          ]
        }
      ]
    },
    {
      "cell_type": "code",
      "source": [
        "All_Movies_Title_List = df['Movie_Title'].tolist()"
      ],
      "metadata": {
        "id": "NTFbnf6msgk2"
      },
      "execution_count": 61,
      "outputs": []
    },
    {
      "cell_type": "code",
      "source": [
        "import difflib"
      ],
      "metadata": {
        "id": "b0UhviMksgob"
      },
      "execution_count": 62,
      "outputs": []
    },
    {
      "cell_type": "code",
      "source": [
        "Movie_Recommendation = difflib.get_close_matches(Favriout_Movies_Name, All_Movies_Title_List)\n",
        "print(Movie_Recommendation)"
      ],
      "metadata": {
        "colab": {
          "base_uri": "https://localhost:8080/"
        },
        "id": "fv6tFWnQsgvW",
        "outputId": "da24f9d0-08a3-463c-ce98-9d2786551c98"
      },
      "execution_count": 67,
      "outputs": [
        {
          "output_type": "stream",
          "name": "stdout",
          "text": [
            "['Avatar', 'Gattaca']\n"
          ]
        }
      ]
    },
    {
      "cell_type": "code",
      "source": [
        "Close_Match = Movie_Recommendation[0]\n",
        "print(Close_Match )"
      ],
      "metadata": {
        "colab": {
          "base_uri": "https://localhost:8080/"
        },
        "id": "1f1164F3sgyv",
        "outputId": "62f083e0-7106-4b50-8c8e-41a3a96b77df"
      },
      "execution_count": 69,
      "outputs": [
        {
          "output_type": "stream",
          "name": "stdout",
          "text": [
            "Avatar\n"
          ]
        }
      ]
    },
    {
      "cell_type": "code",
      "source": [
        "Index_of_Close_Match_Movies = df[df.Movie_Title == Close_Match ]['Movie_ID'].values[0]\n",
        "print(Index_of_Close_Match_Movies)\n"
      ],
      "metadata": {
        "colab": {
          "base_uri": "https://localhost:8080/"
        },
        "id": "UGLNJxKFsg3f",
        "outputId": "ba8bdb55-c2b5-491e-9e32-914ed2a206bd"
      },
      "execution_count": 72,
      "outputs": [
        {
          "output_type": "stream",
          "name": "stdout",
          "text": [
            "2692\n"
          ]
        }
      ]
    },
    {
      "cell_type": "code",
      "source": [
        "Recommandation_Score = list(enumerate(similarity_score[Index_of_Close_Match_Movies]))\n",
        "print(Recommandation_Score)"
      ],
      "metadata": {
        "colab": {
          "base_uri": "https://localhost:8080/"
        },
        "id": "-lnJFE_9xB-4",
        "outputId": "76374434-a088-4bf4-e02f-5df66fbf1947"
      },
      "execution_count": 74,
      "outputs": [
        {
          "output_type": "stream",
          "name": "stdout",
          "text": [
            "[(0, 0.0030120165261056857), (1, 0.0), (2, 0.0), (3, 0.0011247055826844575), (4, 0.0011377624300746075), (5, 0.0053515688011423245), (6, 0.00258960588339552), (7, 0.0011206061965018527), (8, 0.0011650083559359373), (9, 0.0), (10, 0.0033660697903564346), (11, 0.000991863122517526), (12, 0.0013095928504033726), (13, 0.0), (14, 0.0), (15, 0.0012861788156935422), (16, 0.0035244475525385665), (17, 0.0), (18, 0.006761631009190945), (19, 0.0), (20, 0.0012039351449233023), (21, 0.008035250164357122), (22, 0.0), (23, 0.0012616589206488236), (24, 0.0011620586096382887), (25, 0.0010463359681838562), (26, 0.0011260068531657355), (27, 0.001974261471590938), (28, 0.0), (29, 0.0013097423819405185), (30, 0.0023441909043461526), (31, 0.003052894588284117), (32, 0.0012032980555782681), (33, 0.0014624587193972456), (34, 0.0034423606734688954), (35, 0.0), (36, 0.0), (37, 0.0), (38, 0.00376802007892552), (39, 0.0023237004243030664), (40, 0.0028243602831438913), (41, 0.0011814082077571462), (42, 0.003720440983881448), (43, 0.004514787887459871), (44, 0.0033773747428053943), (45, 0.2742681079776349), (46, 0.0018887848425113338), (47, 0.004098911935437222), (48, 0.007856017119991374), (49, 0.0), (50, 0.003063579575354511), (51, 0.0067483494727175655), (52, 0.004921592394371269), (53, 0.0), (54, 0.0), (55, 0.0), (56, 0.0), (57, 0.0), (58, 0.0), (59, 0.0), (60, 0.0010022348211631423), (61, 0.001045841843518657), (62, 0.0013092078673382533), (63, 0.0012546459945546402), (64, 0.0), (65, 0.1084613430534166), (66, 0.0011431321605583327), (67, 0.10950579104370575), (68, 0.016799987695088153), (69, 0.0), (70, 0.004837923405285452), (71, 0.0011087565003218426), (72, 0.003948050228280658), (73, 0.0), (74, 0.0016113377418315714), (75, 0.0), (76, 0.0020198273075640056), (77, 0.001856324209336909), (78, 0.0015861826007639514), (79, 0.0011830147284814098), (80, 0.0017240774292415861), (81, 0.003039900619496553), (82, 0.0008913768487842518), (83, 0.0053145567252658715), (84, 0.08215910158480824), (85, 0.004296497302726609), (86, 0.00342223626463465), (87, 0.007199045622959201), (88, 0.0036704797217681166), (89, 0.007314458634601615), (90, 0.0016547967098561249), (91, 0.0), (92, 0.001137562613695946), (93, 0.002205027892655938), (94, 0.0019325209398634463), (95, 0.0024542712436203106), (96, 0.00421634157862432), (97, 0.0009943385041226306), (98, 0.001425498523311958), (99, 0.004651070593069637), (100, 0.0), (101, 0.0), (102, 0.002180217766705214), (103, 0.0011578155364376057), (104, 0.0012349668698388027), (105, 0.006190631291422054), (106, 0.0036112843826100467), (107, 0.0034824221301932154), (108, 0.0033891692205154957), (109, 0.009561045628122267), (110, 0.0), (111, 0.00451562346920549), (112, 0.007300126202126172), (113, 0.0009623868513295032), (114, 0.001114710259450621), (115, 0.001213611819401124), (116, 0.002551110598045512), (117, 0.0), (118, 0.0024455269107670494), (119, 0.0009270826728969561), (120, 0.003958585353314382), (121, 0.001486638893181706), (122, 0.009290398487636329), (123, 0.014679286244187729), (124, 0.008204571141498505), (125, 0.0023465014733981336), (126, 0.00456054870199569), (127, 0.0013384444767788601), (128, 0.0020800208877665123), (129, 0.0010676794162699911), (130, 0.0), (131, 0.0), (132, 0.0014087647938089104), (133, 0.0), (134, 0.0), (135, 0.0018632167702535977), (136, 0.0008753279447522691), (137, 0.00589617962113146), (138, 0.005935177059799804), (139, 0.003414296967335759), (140, 0.0011456387081262972), (141, 0.0), (142, 0.004990060352714106), (143, 0.0034047305466524506), (144, 0.00489063732694754), (145, 0.006696476010914172), (146, 0.0), (147, 0.005262579812662907), (148, 0.006250462811764077), (149, 0.0061451973198960765), (150, 0.0), (151, 0.0), (152, 0.0019490886286976739), (153, 0.0), (154, 0.001085635179832747), (155, 0.0), (156, 0.001150462524778221), (157, 0.001453861572886778), (158, 0.0010806642478789503), (159, 0.0012451736889952875), (160, 0.0019123533160944756), (161, 0.001169426052994302), (162, 0.010723954114333028), (163, 0.0), (164, 0.0012273283386361235), (165, 0.001253172730124152), (166, 0.0059928109308704635), (167, 0.0012179176101344209), (168, 0.0), (169, 0.00123324409851534), (170, 0.004575315842140426), (171, 0.0), (172, 0.1310884808443028), (173, 0.0041294365782806345), (174, 0.0010691440441440618), (175, 0.0012487434967581867), (176, 0.0011397247993156082), (177, 0.0), (178, 0.001376498339221399), (179, 0.1271221103268168), (180, 0.003037032244839885), (181, 0.011882277820196225), (182, 0.0011263334296636115), (183, 0.001221891097196955), (184, 0.001171812974793483), (185, 0.0), (186, 0.0), (187, 0.002078326139417387), (188, 0.0), (189, 0.0017346808883527333), (190, 0.007203129309482144), (191, 0.0021333763037419172), (192, 0.0012498658305472986), (193, 0.001302335402426685), (194, 0.0008396481229669315), (195, 0.0011335925355067521), (196, 0.0010253861044984772), (197, 0.0012354404814152722), (198, 0.0014968479124380417), (199, 0.006459449594224113), (200, 0.0030444460852680653), (201, 0.00537334813343999), (202, 0.001271213970193063), (203, 0.0014255563881852818), (204, 0.0013132609576151904), (205, 0.0), (206, 0.004295490206840505), (207, 0.006193782628444763), (208, 0.003111632464391177), (209, 0.0051840997256014645), (210, 0.008354365339045787), (211, 0.0010258515276804676), (212, 0.0012629648531978577), (213, 0.12202779597244334), (214, 0.0), (215, 0.0011865624594139465), (216, 0.004533699144144823), (217, 0.003937557646213178), (218, 0.001305619748614112), (219, 0.0), (220, 0.0020902890288186215), (221, 0.0015084529707210062), (222, 0.0036164020783725245), (223, 0.0), (224, 0.009458145670754457), (225, 0.0), (226, 0.0016132186750294117), (227, 0.001048160753429343), (228, 0.0012432822729912852), (229, 0.0010096644970363545), (230, 0.0), (231, 0.0), (232, 0.0), (233, 0.002739636883566732), (234, 0.0020374431281487467), (235, 0.0011956888312040102), (236, 0.0080534088027959), (237, 0.0), (238, 0.0038995610558666093), (239, 0.0020020899630568763), (240, 0.0021353848609592784), (241, 0.0017791411563521653), (242, 0.0011957129398028413), (243, 0.003186195956247479), (244, 0.0045019738000228945), (245, 0.0), (246, 0.0014620233113733752), (247, 0.001419083193544108), (248, 0.0), (249, 0.0015083234072687313), (250, 0.002131984875865383), (251, 0.004003028944712045), (252, 0.0010348604406342104), (253, 0.001210687080663837), (254, 0.004203083494034717), (255, 0.0035485028410296472), (256, 0.004838844614353996), (257, 0.0), (258, 0.0), (259, 0.0), (260, 0.0017696740169411117), (261, 0.0019499185593524824), (262, 0.0013298305427094277), (263, 0.0), (264, 0.0), (265, 0.0), (266, 0.003769925053746429), (267, 0.0013295111393250138), (268, 0.0011070555528036625), (269, 0.0011499782858768641), (270, 0.004512688542236946), (271, 0.002682309077399767), (272, 0.0), (273, 0.0018063747608744356), (274, 0.005413698276942259), (275, 0.0), (276, 0.005558021669090835), (277, 0.09183811655589966), (278, 0.0014547594490050277), (279, 0.0012283312558238897), (280, 0.003640585720769034), (281, 0.004540608709591938), (282, 0.004791919276721658), (283, 0.0013312034691554224), (284, 0.0024516340812456507), (285, 0.0038795859154296683), (286, 0.001134413221177524), (287, 0.005104647066923048), (288, 0.0024363522691870274), (289, 0.0014761269599219962), (290, 0.0021419314015331038), (291, 0.0061961926347314875), (292, 0.001143502669834699), (293, 0.0010679124882981856), (294, 0.0024156809337242662), (295, 0.002230971843380942), (296, 0.0030078157544878954), (297, 0.0), (298, 0.0), (299, 0.0), (300, 0.0), (301, 0.0), (302, 0.0), (303, 0.0021168446411070248), (304, 0.005993756769028619), (305, 0.0021339968431607612), (306, 0.0021400754155491376), (307, 0.0011182848111848899), (308, 0.0010749353504022757), (309, 0.0011069487769690548), (310, 0.002404232279608534), (311, 0.003030556694735998), (312, 0.0), (313, 0.0022664596026083536), (314, 0.0017209938596057372), (315, 0.0023847941802893355), (316, 0.0017960182777356716), (317, 0.0009601277715199691), (318, 0.0012349752925337274), (319, 0.0), (320, 0.0022681733313958375), (321, 0.002106071436411017), (322, 0.002132677412673494), (323, 0.0017967593925581203), (324, 0.0011466474359415446), (325, 0.0009723551816406308), (326, 0.001471135734775798), (327, 0.002058248434290701), (328, 0.11129743740553262), (329, 0.002767073770218206), (330, 0.0012750997556219303), (331, 0.0), (332, 0.0022567986977167012), (333, 0.004119909829309942), (334, 0.005526340713451524), (335, 0.0), (336, 0.0), (337, 0.0), (338, 0.0), (339, 0.0), (340, 0.0), (341, 0.0023045660280145825), (342, 0.0052516666860569295), (343, 0.0011250784071680112), (344, 0.0), (345, 0.0034884042210033043), (346, 0.0010519594744499872), (347, 0.002301179366386953), (348, 0.0011613721512909979), (349, 0.001084728394933685), (350, 0.0034444617883910103), (351, 0.001248150551200875), (352, 0.0), (353, 0.00120155116194304), (354, 0.0023444289750683828), (355, 0.0013641451713098094), (356, 0.003566282080298691), (357, 0.0010714456811865072), (358, 0.0012975063117213889), (359, 0.0009682358158638927), (360, 0.09110701843146318), (361, 0.0), (362, 0.0), (363, 0.0), (364, 0.0011062113345575904), (365, 0.0), (366, 0.0), (367, 0.0035195710480600165), (368, 0.0036229217204573334), (369, 0.0032229069303807904), (370, 0.005984847520954713), (371, 0.003500483648779816), (372, 0.0011300688094190697), (373, 0.0012040770375615752), (374, 0.001286957434938518), (375, 0.0024408595523420103), (376, 0.0), (377, 0.0010505352347991756), (378, 0.0012843705702968128), (379, 0.0), (380, 0.0025981036488511144), (381, 0.12236269742391226), (382, 0.0), (383, 0.0), (384, 0.0), (385, 0.0033925708065807923), (386, 0.0), (387, 0.09311780915565378), (388, 0.0013879997623652194), (389, 0.0022609595328980277), (390, 0.0), (391, 0.0), (392, 0.0), (393, 0.0), (394, 0.0), (395, 0.0011560008470730724), (396, 0.005978459357474527), (397, 0.001968669538505467), (398, 0.0), (399, 0.0013945895387835134), (400, 0.0010975639412367888), (401, 0.0), (402, 0.0012434701808014372), (403, 0.0010025507856650385), (404, 0.0), (405, 0.0), (406, 0.003317413908252162), (407, 0.0012328638347535354), (408, 0.0034197767496431733), (409, 0.0), (410, 0.0009839725122753895), (411, 0.0), (412, 0.0010132118493547035), (413, 0.0), (414, 0.0), (415, 0.0), (416, 0.0009497199352888481), (417, 0.003668627022700002), (418, 0.007119443102593695), (419, 0.0013355980803213168), (420, 0.002249988425589716), (421, 0.0), (422, 0.006509454266317026), (423, 0.0), (424, 0.0028044314422981786), (425, 0.0026245884788123446), (426, 0.0023954656294262557), (427, 0.0), (428, 0.0011977506631598539), (429, 0.009879902351636344), (430, 0.0012972964141048323), (431, 0.0013957155219797475), (432, 0.0014720040716150401), (433, 0.0029523337161060995), (434, 0.001798635237186292), (435, 0.004941491310808934), (436, 0.004424209771201347), (437, 0.0010212157675316968), (438, 0.0019046865424209522), (439, 0.0), (440, 0.0), (441, 0.0011398317399915622), (442, 0.002772061646934113), (443, 0.004134394673187407), (444, 0.0012963683967688868), (445, 0.0012124104109919116), (446, 0.0011559425545796787), (447, 0.008391471213102356), (448, 0.001265595854091261), (449, 0.0013161198539096135), (450, 0.009582560815108398), (451, 0.0017539214119581517), (452, 0.0009957216838551559), (453, 0.0011851274307374746), (454, 0.0), (455, 0.10569909879095347), (456, 0.0015249553298682433), (457, 0.001447083034897899), (458, 0.012373451805498065), (459, 0.0), (460, 0.0021991365566349946), (461, 0.00996254356492217), (462, 0.0), (463, 0.00553505131332708), (464, 0.0014399042842812323), (465, 0.0010608563316489852), (466, 0.0012999178593857913), (467, 0.002008531615341121), (468, 0.0019489081265174578), (469, 0.0020339270018613414), (470, 0.004148551317516316), (471, 0.0011853210656802748), (472, 0.0011769084569203813), (473, 0.0010777813222875945), (474, 0.002854243127268441), (475, 0.0013055558777185885), (476, 0.0011424570548709378), (477, 0.0), (478, 0.0013946186265668579), (479, 0.005296054975460429), (480, 0.001353070023459009), (481, 0.008849639242194337), (482, 0.0029183047640309653), (483, 0.005481817115039518), (484, 0.0), (485, 0.005528494557593157), (486, 0.0), (487, 0.0016943079269552944), (488, 0.000995627415879978), (489, 0.0013193704381923316), (490, 0.001579460684776959), (491, 0.0), (492, 0.0), (493, 0.0035720047292975825), (494, 0.003945448181427781), (495, 0.0014270805466990567), (496, 0.0010335426554290883), (497, 0.007406350613003671), (498, 0.0), (499, 0.001532263210025811), (500, 0.007229770012770008), (501, 0.006475916015382756), (502, 0.006451152548625941), (503, 0.0026666646553028905), (504, 0.0012254530580796355), (505, 0.0008360969545085168), (506, 0.0), (507, 0.0009312269693995353), (508, 0.0014424591959079965), (509, 0.0030812307618264378), (510, 0.0013153859858590152), (511, 0.0020371120920308346), (512, 0.002888119332949469), (513, 0.0027834635963638237), (514, 0.002732743085390671), (515, 0.003467179278431461), (516, 0.0), (517, 0.0), (518, 0.0013290708236153705), (519, 0.003172275836989417), (520, 0.0), (521, 0.0), (522, 0.0014111453012075267), (523, 0.002772245558752833), (524, 0.0010596162595790126), (525, 0.0), (526, 0.002408732490853301), (527, 0.001127672694438203), (528, 0.0), (529, 0.0), (530, 0.0064174704921462385), (531, 0.0), (532, 0.007498120714452196), (533, 0.007263109442109937), (534, 0.007061103900057942), (535, 0.0), (536, 0.0), (537, 0.0023112334133235726), (538, 0.0), (539, 0.0027287351612757943), (540, 0.0024007738538107766), (541, 0.0013083301663751959), (542, 0.006544531956219464), (543, 0.0061314643635886346), (544, 0.004775195955955981), (545, 0.0), (546, 0.0), (547, 0.004760787064498057), (548, 0.0), (549, 0.0), (550, 0.001996063117196206), (551, 0.0012507699836143693), (552, 0.0), (553, 0.0), (554, 0.0), (555, 0.0), (556, 0.0), (557, 0.0), (558, 0.0050400279869232895), (559, 0.00214799357509584), (560, 0.006082442609728179), (561, 0.0), (562, 0.0026559353054750024), (563, 0.0042972620768346025), (564, 0.0010427122175486045), (565, 0.0), (566, 0.0037079910958561623), (567, 0.0), (568, 0.0), (569, 0.0), (570, 0.0), (571, 0.00261952080452843), (572, 0.0), (573, 0.0), (574, 0.0), (575, 0.0), (576, 0.0012026883668314924), (577, 0.0), (578, 0.0011233332279262567), (579, 0.00148045988381499), (580, 0.0037270446641421524), (581, 0.004203243429928432), (582, 0.0), (583, 0.0), (584, 0.008629334218702558), (585, 0.0), (586, 0.0), (587, 0.0016301734724888978), (588, 0.0011465023860697567), (589, 0.0016425443277255122), (590, 0.11993471085753152), (591, 0.0), (592, 0.0), (593, 0.0010051831172824925), (594, 0.0009392749250902419), (595, 0.0019418878906908704), (596, 0.0011879366454045335), (597, 0.0011997211352248976), (598, 0.000919934464426734), (599, 0.0), (600, 0.0), (601, 0.0), (602, 0.0), (603, 0.0), (604, 0.005282494145256052), (605, 0.0015671352113598308), (606, 0.004077217983698764), (607, 0.0012000791826315917), (608, 0.0032666958046766743), (609, 0.0011376324264840171), (610, 0.0), (611, 0.0010597387256588808), (612, 0.0024686451990862737), (613, 0.00941922086736914), (614, 0.0014289018066332758), (615, 0.0), (616, 0.001197150420142171), (617, 0.002902870679872482), (618, 0.0), (619, 0.00198871496663725), (620, 0.0010179130007367376), (621, 0.007476410919666712), (622, 0.007641528395547334), (623, 0.0017037104851191987), (624, 0.0018761910527679824), (625, 0.0020222109744452736), (626, 0.00135299528968983), (627, 0.0011877713234055612), (628, 0.24110087739814715), (629, 0.006119616665206254), (630, 0.0), (631, 0.0013085664350938361), (632, 0.0029479539968178497), (633, 0.00260604853890745), (634, 0.0030580044276217085), (635, 0.0024477110745703998), (636, 0.003005137455048601), (637, 0.004211737507947474), (638, 0.0013551987343057585), (639, 0.0015974060100902034), (640, 0.0019102707654131835), (641, 0.001077296338266222), (642, 0.0029383022044347984), (643, 0.008445918393179264), (644, 0.004381208694730145), (645, 0.0011056050076812787), (646, 0.0011555116063798926), (647, 0.0009996228223144593), (648, 0.0), (649, 0.0), (650, 0.0), (651, 0.0012788369484920295), (652, 0.00656554738559836), (653, 0.005613297268726551), (654, 0.006162137151909724), (655, 0.0014675628125094735), (656, 0.0), (657, 0.0012297840416632129), (658, 0.0), (659, 0.0012355300452483854), (660, 0.003606242894552235), (661, 0.0016844464221323144), (662, 0.0), (663, 0.0), (664, 0.0028966181544452137), (665, 0.0), (666, 0.0024616753192731864), (667, 0.00488129318581694), (668, 0.0038422241274278985), (669, 0.006421068614355572), (670, 0.008553403071503058), (671, 0.0), (672, 0.0012103934071997441), (673, 0.008656089851474437), (674, 0.0), (675, 0.008598270835061119), (676, 0.00780827844795213), (677, 0.0), (678, 0.023059282516910355), (679, 0.0), (680, 0.0009819958546586423), (681, 0.0), (682, 0.010779852931572735), (683, 0.005204368479671271), (684, 0.004722258173677773), (685, 0.002168218606141434), (686, 0.0), (687, 0.0), (688, 0.0036330629178029953), (689, 0.007840288174235838), (690, 0.008080159057879137), (691, 0.000982094647621134), (692, 0.004159778834139314), (693, 0.0013110079812824948), (694, 0.14451311372206938), (695, 0.0053486851779865775), (696, 0.004499231511117413), (697, 0.0010063829838801999), (698, 0.0012365257355050519), (699, 0.0), (700, 0.0), (701, 0.008023150481716115), (702, 0.0), (703, 0.0009882239616556849), (704, 0.0), (705, 0.0010842624120916443), (706, 0.0008286262164246216), (707, 0.0010133061468674926), (708, 0.0), (709, 0.0), (710, 0.07260406727389282), (711, 0.0), (712, 0.0008140879793580578), (713, 0.0), (714, 0.0), (715, 0.001396366991831316), (716, 0.004153754143790456), (717, 0.0011519603729970545), (718, 0.0), (719, 0.003914437485620347), (720, 0.0), (721, 0.0017419060339739438), (722, 0.0009656718902141095), (723, 0.0017943450290137883), (724, 0.0), (725, 0.0), (726, 0.0), (727, 0.0035063459515607687), (728, 0.004261477674358783), (729, 0.003979433715171139), (730, 0.0), (731, 0.001436786749401961), (732, 0.003968001076522329), (733, 0.0032643912588915095), (734, 0.0010675754064898872), (735, 0.0048937566016630405), (736, 0.0), (737, 0.001358141865936166), (738, 0.002699889466977129), (739, 0.00135655305785894), (740, 0.0012472635229448506), (741, 0.0), (742, 0.002610047377627012), (743, 0.0039277508842775755), (744, 0.0030000827564589413), (745, 0.003294781348520616), (746, 0.0), (747, 0.0), (748, 0.0), (749, 0.0012231300699631388), (750, 0.0039109518387067934), (751, 0.0), (752, 0.0), (753, 0.0070220952765960845), (754, 0.0), (755, 0.0009354729911680897), (756, 0.0018758937596548271), (757, 0.004784262211069697), (758, 0.0), (759, 0.0012214236072977064), (760, 0.011573014194477909), (761, 0.004222646758638737), (762, 0.002236923475639887), (763, 0.0), (764, 0.0), (765, 0.0019455220350762814), (766, 0.0011392309213268186), (767, 0.0013915448527237896), (768, 0.0), (769, 0.0033442652673745816), (770, 0.0), (771, 0.0), (772, 0.0), (773, 0.0), (774, 0.0014386830645730926), (775, 0.0023071793536192727), (776, 0.0), (777, 0.0014709059814638225), (778, 0.0), (779, 0.0027397432113589948), (780, 0.0), (781, 0.0), (782, 0.0013302804917179026), (783, 0.0017989777818776525), (784, 0.0), (785, 0.0), (786, 0.0), (787, 0.0011847050152671609), (788, 0.0013775276604151697), (789, 0.0), (790, 0.004886723469215049), (791, 0.005144464466323139), (792, 0.004756393736056182), (793, 0.0026880736778726157), (794, 0.001090340043858711), (795, 0.015003503241088482), (796, 0.0011896052667325074), (797, 0.0), (798, 0.0011122877391450004), (799, 0.006531010009490167), (800, 0.003291610303317119), (801, 0.004834339794412935), (802, 0.0028298557710243187), (803, 0.0020936590456274223), (804, 0.003568130733017376), (805, 0.0010480946805168482), (806, 0.006070759742612071), (807, 0.0), (808, 0.00384571846991991), (809, 0.0019384952588550992), (810, 0.0025685015621260284), (811, 0.002642622434279204), (812, 0.0), (813, 0.0017507939684576078), (814, 0.0), (815, 0.0010291323447115801), (816, 0.0044810894502786535), (817, 0.0013009173666482232), (818, 0.0009998379924057122), (819, 0.0), (820, 0.0), (821, 0.0), (822, 0.0), (823, 0.0012464046417375728), (824, 0.0008582658128358841), (825, 0.007234029097569439), (826, 0.0014562826476608808), (827, 0.005460929546875562), (828, 0.003555971977851829), (829, 0.004150372698931299), (830, 0.14477695907809576), (831, 0.003819638253088414), (832, 0.004610739601334429), (833, 0.003693504630408589), (834, 0.0), (835, 0.0), (836, 0.09960879158005152), (837, 0.0), (838, 0.0011558918467045871), (839, 0.0), (840, 0.0), (841, 0.0), (842, 0.006647982121707318), (843, 0.0009912386140780223), (844, 0.0036416228779551315), (845, 0.004292856673243337), (846, 0.0), (847, 0.0015918626600711387), (848, 0.0012939795878918942), (849, 0.0027682748810594284), (850, 0.0012554889067590317), (851, 0.0038612732513998212), (852, 0.0009772082893548025), (853, 0.007348191515296064), (854, 0.0009772804365516447), (855, 0.002467765662962908), (856, 0.0010661214550282184), (857, 0.0014886376988304602), (858, 0.0011590896944082341), (859, 0.0), (860, 0.0068676224725643525), (861, 0.012915873101012755), (862, 0.002215228093692494), (863, 0.00260636994835363), (864, 0.003874754247942649), (865, 0.0011311103523238251), (866, 0.006590807968569388), (867, 0.001110759532053484), (868, 0.0033123183596908117), (869, 0.004112889372584704), (870, 0.006823886975486174), (871, 0.001271686504854456), (872, 0.0012279144119677183), (873, 0.11202302731528962), (874, 0.005108346177349098), (875, 0.008874944911958279), (876, 0.006046090210927135), (877, 0.001769020503463399), (878, 0.006906339661944032), (879, 0.008210136132475485), (880, 0.003843429155265065), (881, 0.0), (882, 0.0), (883, 0.001234797391991534), (884, 0.0010497110219615943), (885, 0.0014367188068090953), (886, 0.0010304447324270233), (887, 0.0012463013571456332), (888, 0.03555250474290521), (889, 0.0015680685739680302), (890, 0.0010868923689263195), (891, 0.005349395922459009), (892, 0.0), (893, 0.0018028895603212367), (894, 0.004149063133618848), (895, 0.0009763489959945715), (896, 0.007210624678201141), (897, 0.0012746031040508814), (898, 0.0015206126298946297), (899, 0.0010621138409407972), (900, 0.0031143361027648492), (901, 0.0012029766481487403), (902, 0.00220448399399884), (903, 0.001558883891286188), (904, 0.020706978625881806), (905, 0.0278583724900265), (906, 0.0), (907, 0.0011023353573558462), (908, 0.0033765502813361105), (909, 0.0), (910, 0.004512496039225405), (911, 0.0043305745741577945), (912, 0.0), (913, 0.0), (914, 0.0), (915, 0.006026576395520669), (916, 0.00511840414518186), (917, 0.0010889704818134941), (918, 0.0073312203039698765), (919, 0.002633762131538064), (920, 0.0), (921, 0.0012726309316614239), (922, 0.0012998574386315661), (923, 0.004152925175719662), (924, 0.0010344860456091298), (925, 0.0025095914069873377), (926, 0.0), (927, 0.003344879076581075), (928, 0.010611728548971798), (929, 0.0010815729420764388), (930, 0.00525300006270004), (931, 0.0051849810277251), (932, 0.002504462785110636), (933, 0.00473252229386246), (934, 0.0012653287097721094), (935, 0.10828915751440701), (936, 0.003039235174115508), (937, 0.006906307434704731), (938, 0.0), (939, 0.00785097987860073), (940, 0.000968187315806002), (941, 0.002715462226218264), (942, 0.00632470087068443), (943, 0.0), (944, 0.0009764661996713473), (945, 0.0), (946, 0.0), (947, 0.025720138033047703), (948, 0.007532036749492161), (949, 0.0012921416424353826), (950, 0.0), (951, 0.0010226525624734014), (952, 0.006633150377625121), (953, 0.003112286010219614), (954, 0.0), (955, 0.0), (956, 0.0), (957, 0.0016073143488670961), (958, 0.0), (959, 0.0015118135978912984), (960, 0.0), (961, 0.0), (962, 0.0013951706025294472), (963, 0.0026524283650089147), (964, 0.0), (965, 0.0), (966, 0.0008730548071316296), (967, 0.008132979184798814), (968, 0.004505308936149136), (969, 0.0013789536870968215), (970, 0.0015473975856154483), (971, 0.0), (972, 0.0), (973, 0.0012412848434144369), (974, 0.0021644697793792534), (975, 0.0013750612522662577), (976, 0.005162673752711131), (977, 0.0), (978, 0.0), (979, 0.0017489836666293014), (980, 0.0033663821583673086), (981, 0.0038673710823322223), (982, 0.0), (983, 0.0), (984, 0.0013421589554789514), (985, 0.0016556556567141536), (986, 0.009908269593474638), (987, 0.001317724655672206), (988, 0.006985230843794531), (989, 0.005498952715377632), (990, 0.0), (991, 0.009543056674268758), (992, 0.002697473001370487), (993, 0.0011997371541748836), (994, 0.0044170360462698795), (995, 0.0), (996, 0.0), (997, 0.0019871937574560835), (998, 0.0012204801408000842), (999, 0.0011871633345483272), (1000, 0.004874672221677193), (1001, 0.0030579157540592894), (1002, 0.0010515821705884042), (1003, 0.0020882263762800556), (1004, 0.0010571138575594717), (1005, 0.0037263917770678535), (1006, 0.0010783889695145765), (1007, 0.0016817322369299876), (1008, 0.0), (1009, 0.00209651642166753), (1010, 0.0), (1011, 0.0), (1012, 0.0020366182128498085), (1013, 0.0), (1014, 0.0), (1015, 0.007938728976510226), (1016, 0.0), (1017, 0.0070320707895015966), (1018, 0.004860495490100125), (1019, 0.004905340446238548), (1020, 0.0010271702335695326), (1021, 0.001027845581487539), (1022, 0.0), (1023, 0.0024017903348178445), (1024, 0.006096356977434488), (1025, 0.0), (1026, 0.0012223610901216074), (1027, 0.0011729953127427811), (1028, 0.0), (1029, 0.0), (1030, 0.00332258864618708), (1031, 0.0), (1032, 0.0012030817667560297), (1033, 0.0012267185186499601), (1034, 0.0009256589185337879), (1035, 0.007231261604877647), (1036, 0.0012806631810787176), (1037, 0.0009463713569520172), (1038, 0.0), (1039, 0.0), (1040, 0.0010899088214611895), (1041, 0.0031195485614537158), (1042, 0.0008965362549396984), (1043, 0.001442450777192908), (1044, 0.0028361572450807176), (1045, 0.0), (1046, 0.0), (1047, 0.006698560955384056), (1048, 0.001214795493388036), (1049, 0.001619491492182648), (1050, 0.0034676590470893182), (1051, 0.0), (1052, 0.0012994210286326286), (1053, 0.0048240183552434), (1054, 0.006148179250097926), (1055, 0.0), (1056, 0.0), (1057, 0.0), (1058, 0.014347995974346136), (1059, 0.0014981291587439027), (1060, 0.001071777337382236), (1061, 0.005596118121443513), (1062, 0.0), (1063, 0.005318619491664476), (1064, 0.00842027671188477), (1065, 0.003635871809433094), (1066, 0.0), (1067, 0.0), (1068, 0.004325920977674379), (1069, 0.0), (1070, 0.29225212981417087), (1071, 0.006192810136816527), (1072, 0.0010802848153438614), (1073, 0.0), (1074, 0.005317397197885776), (1075, 0.001262127414409205), (1076, 0.00306160741367849), (1077, 0.000903269404995483), (1078, 0.0032732811228500885), (1079, 0.0009070526299756186), (1080, 0.0012738371702852758), (1081, 0.0), (1082, 0.001941845557212876), (1083, 0.0029615755567820655), (1084, 0.0011446469925692816), (1085, 0.0), (1086, 0.0), (1087, 0.0011542724285905648), (1088, 0.0023814881220809926), (1089, 0.0), (1090, 0.0), (1091, 0.0), (1092, 0.004986598642521966), (1093, 0.0), (1094, 0.0), (1095, 0.0), (1096, 0.001368130482092566), (1097, 0.0), (1098, 0.0012119126713935596), (1099, 0.002223119710125125), (1100, 0.0019521516236634322), (1101, 0.0), (1102, 0.001438948410601986), (1103, 0.0), (1104, 0.005824488665436597), (1105, 0.0), (1106, 0.0), (1107, 0.00540068150363868), (1108, 0.0), (1109, 0.0016470563354478956), (1110, 0.0014936721324466575), (1111, 0.0), (1112, 0.0012970354867028167), (1113, 0.0), (1114, 0.0010516132830548355), (1115, 0.015062328917360368), (1116, 0.00322003209938852), (1117, 0.0011403014521255048), (1118, 0.11375705923436288), (1119, 0.0068505132625016766), (1120, 0.0019056598216065435), (1121, 0.001280165330194803), (1122, 0.001231272261233718), (1123, 0.002672917102543887), (1124, 0.0013428880329624134), (1125, 0.0), (1126, 0.0), (1127, 0.002358694313682511), (1128, 0.0028896499693695796), (1129, 0.0020793823624878456), (1130, 0.0), (1131, 0.0011645704488422223), (1132, 0.007310016006026359), (1133, 0.0), (1134, 0.002237825525786677), (1135, 0.0), (1136, 0.0009055046131414323), (1137, 0.005690947605010656), (1138, 0.004450605174877189), (1139, 0.0), (1140, 0.003416379881554429), (1141, 0.008102453791360154), (1142, 0.0), (1143, 0.0), (1144, 0.0010935841109102763), (1145, 0.003632464834089742), (1146, 0.0021272434744736223), (1147, 0.0), (1148, 0.09154970450291205), (1149, 0.0), (1150, 0.00222763551894871), (1151, 0.0), (1152, 0.0), (1153, 0.001658362782478294), (1154, 0.0026458115948731187), (1155, 0.0), (1156, 0.0), (1157, 0.0), (1158, 0.002319447065989149), (1159, 0.0), (1160, 0.004646106046970073), (1161, 0.0011821977834295624), (1162, 0.005517259891267053), (1163, 0.0012032089610256051), (1164, 0.001283904212656661), (1165, 0.0), (1166, 0.0), (1167, 0.002704616948009533), (1168, 0.001571485251957725), (1169, 0.0013742041998575229), (1170, 0.0012692267612768174), (1171, 0.0), (1172, 0.0), (1173, 0.004680890374849547), (1174, 0.0030902664802632714), (1175, 0.001355811631152043), (1176, 0.0011081818320044172), (1177, 0.0031205471729058697), (1178, 0.0), (1179, 0.0034610268495851573), (1180, 0.0), (1181, 0.001823424661634248), (1182, 0.000996125964587198), (1183, 0.007176729823244783), (1184, 0.007063895393374974), (1185, 0.0046982962976475605), (1186, 0.0010552299903585371), (1187, 0.001433181595780314), (1188, 0.004014174862586985), (1189, 0.0), (1190, 0.0), (1191, 0.00376850303300258), (1192, 0.004066279161722004), (1193, 0.0), (1194, 0.0022091187402789162), (1195, 0.0), (1196, 0.0), (1197, 0.0021259219523459593), (1198, 0.0), (1199, 0.0009914595068826952), (1200, 0.0), (1201, 0.0), (1202, 0.002280427076240288), (1203, 0.0010510199974933664), (1204, 0.0013483731248118682), (1205, 0.0), (1206, 0.0011806420478282815), (1207, 0.00203862409110491), (1208, 0.003193059551360653), (1209, 0.001166803931894461), (1210, 0.002305035429930813), (1211, 0.0020341238926839473), (1212, 0.0), (1213, 0.003313536905358909), (1214, 0.0029056761069437536), (1215, 0.0030836772703629767), (1216, 0.0011447815640572697), (1217, 0.0009738922007497315), (1218, 0.0), (1219, 0.0014282338174469917), (1220, 0.003024556083721475), (1221, 0.0), (1222, 0.0), (1223, 0.003445942822342051), (1224, 0.009075010096139615), (1225, 0.003504271804409572), (1226, 0.004476942108176163), (1227, 0.0), (1228, 0.0), (1229, 0.004231194992396192), (1230, 0.004850674783551444), (1231, 0.003698351016239653), (1232, 0.006453262848418394), (1233, 0.0), (1234, 0.004565592141653999), (1235, 0.0), (1236, 0.006003860655625126), (1237, 0.007419723745679308), (1238, 0.0), (1239, 0.0), (1240, 0.0), (1241, 0.0010018328928958528), (1242, 0.0), (1243, 0.0013875423540204838), (1244, 0.0), (1245, 0.0010938381834390558), (1246, 0.0), (1247, 0.0013332548105840828), (1248, 0.007517073964845054), (1249, 0.0), (1250, 0.0), (1251, 0.0014248912032247107), (1252, 0.006773690431498835), (1253, 0.0), (1254, 0.0016381744467873689), (1255, 0.003995748185817884), (1256, 0.0), (1257, 0.0044387991725312985), (1258, 0.0), (1259, 0.005288717684832011), (1260, 0.003528800372721744), (1261, 0.00113815974928532), (1262, 0.001960476395915267), (1263, 0.0), (1264, 0.007955026151872317), (1265, 0.0), (1266, 0.002117862421008), (1267, 0.0), (1268, 0.0), (1269, 0.0), (1270, 0.002200567341998897), (1271, 0.0), (1272, 0.0020289827417645503), (1273, 0.0009570648066409082), (1274, 0.0), (1275, 0.006948761799020603), (1276, 0.003785155981825907), (1277, 0.0007966253020408146), (1278, 0.0), (1279, 0.002628208194076561), (1280, 0.002890699667692614), (1281, 0.0019921134260882027), (1282, 0.0030616673289162698), (1283, 0.0), (1284, 0.001351358320373343), (1285, 0.0), (1286, 0.0015725386811673407), (1287, 0.0), (1288, 0.0), (1289, 0.0), (1290, 0.004038954986197442), (1291, 0.0), (1292, 0.005584128547089706), (1293, 0.0), (1294, 0.0011336571348359702), (1295, 0.0), (1296, 0.0), (1297, 0.0), (1298, 0.001043488215882472), (1299, 0.0), (1300, 0.0046208282213882216), (1301, 0.0012629522635478252), (1302, 0.0022564238360190322), (1303, 0.005283801117267251), (1304, 0.0010432243436836427), (1305, 0.0010305446689810964), (1306, 0.0012289113353937105), (1307, 0.0), (1308, 0.0010815762515747477), (1309, 0.001672190371865093), (1310, 0.0), (1311, 0.14242423481085406), (1312, 0.001103901075830606), (1313, 0.0010416767612897002), (1314, 0.00571125273424976), (1315, 0.0), (1316, 0.0), (1317, 0.005125158504421235), (1318, 0.0013388526249261414), (1319, 0.001080216843655079), (1320, 0.20201610267902306), (1321, 0.0), (1322, 0.0), (1323, 0.0), (1324, 0.0012673697128603206), (1325, 0.011339265326579659), (1326, 0.0), (1327, 0.0), (1328, 0.0), (1329, 0.0), (1330, 0.0039884083402691155), (1331, 0.0), (1332, 0.0029660197487768034), (1333, 0.0), (1334, 0.004682250331554564), (1335, 0.008504275467384331), (1336, 0.0), (1337, 0.006506965760324494), (1338, 0.004642328506983918), (1339, 0.0048855212609370735), (1340, 0.0009947502966352118), (1341, 0.0), (1342, 0.0), (1343, 0.00762545441502595), (1344, 0.0038829797158201596), (1345, 0.0), (1346, 0.0), (1347, 0.0021074144261964967), (1348, 0.004373446628930351), (1349, 0.0012395506445962387), (1350, 0.0012565076635678238), (1351, 0.0031528296543211092), (1352, 0.0010170194705522142), (1353, 0.0), (1354, 0.0), (1355, 0.0009899030558822846), (1356, 0.00278911752800067), (1357, 0.0016757967597142724), (1358, 0.0), (1359, 0.0014790951240781674), (1360, 0.007479581567244763), (1361, 0.0), (1362, 0.08578637284612006), (1363, 0.10229682166152011), (1364, 0.0012236224289515717), (1365, 0.0012281588269743723), (1366, 0.002580200309624148), (1367, 0.0011449930186964738), (1368, 0.0), (1369, 0.006450054807452018), (1370, 0.0012544476209714911), (1371, 0.0), (1372, 0.0010461373958347495), (1373, 0.0), (1374, 0.0), (1375, 0.003024603496178776), (1376, 0.0), (1377, 0.00438617793392131), (1378, 0.0013473924180159114), (1379, 0.0), (1380, 0.0023684262585169954), (1381, 0.002692496850828102), (1382, 0.001254093746245617), (1383, 0.003713348947144924), (1384, 0.0022962428996052674), (1385, 0.006123629951613958), (1386, 0.0), (1387, 0.005087464306326806), (1388, 0.010338737289915679), (1389, 0.0), (1390, 0.0), (1391, 0.002917694162123415), (1392, 0.001205638632256037), (1393, 0.0037164306105977583), (1394, 0.0010052247530867933), (1395, 0.0013859111449843766), (1396, 0.002426680989421543), (1397, 0.0010906162423927328), (1398, 0.002346965282606649), (1399, 0.0), (1400, 0.0034858469180789353), (1401, 0.0), (1402, 0.0012415451148383339), (1403, 0.001088140263562637), (1404, 0.001325238874991587), (1405, 0.0), (1406, 0.004912221054728588), (1407, 0.0023035669914590047), (1408, 0.0011092175408187427), (1409, 0.001266258057698456), (1410, 0.0016640850190110966), (1411, 0.0011348208284574302), (1412, 0.007281346549863326), (1413, 0.0034942825898174623), (1414, 0.0024776756756413193), (1415, 0.0011625556847779635), (1416, 0.001480254449700492), (1417, 0.007056355297930948), (1418, 0.0), (1419, 0.005728409237389896), (1420, 0.0024307484790981175), (1421, 0.002943513203875075), (1422, 0.0009800909670720727), (1423, 0.0011527995987608167), (1424, 0.0), (1425, 0.0), (1426, 0.002380453581906691), (1427, 0.000771986721033649), (1428, 0.002344905803893058), (1429, 0.0043079181161341), (1430, 0.0019626907557390954), (1431, 0.0024637477373036904), (1432, 0.005734851974304032), (1433, 0.003146901089029731), (1434, 0.0012246291665338762), (1435, 0.0026205979391299345), (1436, 0.0055820527176914485), (1437, 0.0), (1438, 0.004972724855548238), (1439, 0.0012276321625499275), (1440, 0.004736921922793602), (1441, 0.0), (1442, 0.009920952733866239), (1443, 0.0027377017537754166), (1444, 0.0), (1445, 0.0), (1446, 0.0011988056789636469), (1447, 0.0), (1448, 0.0025065669656009976), (1449, 0.002661755060178279), (1450, 0.0017166252568715289), (1451, 0.0019054652601767752), (1452, 0.0027066363042919828), (1453, 0.0), (1454, 0.003688859421159732), (1455, 0.004823710804567905), (1456, 0.0013973521647539678), (1457, 0.0), (1458, 0.0019997398957345577), (1459, 0.0), (1460, 0.0), (1461, 0.0027949056801810303), (1462, 0.003127711568497107), (1463, 0.001414463920673967), (1464, 0.001083645427443351), (1465, 0.0010170916312705468), (1466, 0.0), (1467, 0.0), (1468, 0.0), (1469, 0.0024307328055432845), (1470, 0.0), (1471, 0.005405227401815132), (1472, 0.003883420283096983), (1473, 0.0), (1474, 0.0012767099052815192), (1475, 0.0012200274536707239), (1476, 0.0012866151471571585), (1477, 0.001126042435797764), (1478, 0.006565840796213872), (1479, 0.0015711505875088073), (1480, 0.0023720306046774984), (1481, 0.007126639115701432), (1482, 0.0), (1483, 0.007776777157003858), (1484, 0.003980850809148295), (1485, 0.0), (1486, 0.0), (1487, 0.0), (1488, 0.003371498416786838), (1489, 0.004091647711530266), (1490, 0.0), (1491, 0.0), (1492, 0.0), (1493, 0.0017959030993534284), (1494, 0.0016354760505230142), (1495, 0.0), (1496, 0.0), (1497, 0.0012289690651788212), (1498, 0.004817137507032165), (1499, 0.0013951958285775272), (1500, 0.0011730738577026205), (1501, 0.0), (1502, 0.0027415944416276723), (1503, 0.0014654297416614127), (1504, 0.004086033645954166), (1505, 0.0), (1506, 0.00718111961479539), (1507, 0.004548258036706083), (1508, 0.0), (1509, 0.007035456164534533), (1510, 0.003716183163194443), (1511, 0.0), (1512, 0.0), (1513, 0.004097736692182032), (1514, 0.0009358969362032436), (1515, 0.0), (1516, 0.0012340174883340195), (1517, 0.0), (1518, 0.0017664760817969274), (1519, 0.0029482490132810403), (1520, 0.0), (1521, 0.0), (1522, 0.0), (1523, 0.0), (1524, 0.0), (1525, 0.0), (1526, 0.0), (1527, 0.005083734252211308), (1528, 0.0011038878428728189), (1529, 0.0), (1530, 0.002069403783049519), (1531, 0.002660072889950935), (1532, 0.0), (1533, 0.0017563724861409129), (1534, 0.0), (1535, 0.0), (1536, 0.003563162423969217), (1537, 0.0034477727862690195), (1538, 0.0008435688223775349), (1539, 0.0011705871700330728), (1540, 0.004571478999555977), (1541, 0.0), (1542, 0.007210081845747612), (1543, 0.0013138319004580856), (1544, 0.0035413978461158557), (1545, 0.0), (1546, 0.0026587740232969182), (1547, 0.0014850228517100663), (1548, 0.0), (1549, 0.0), (1550, 0.0011245994093775158), (1551, 0.00214085459764808), (1552, 0.0), (1553, 0.001283852332843172), (1554, 0.0021694219580833634), (1555, 0.003135612925336092), (1556, 0.0), (1557, 0.0), (1558, 0.0010029278460035112), (1559, 0.0017326607160008194), (1560, 0.0), (1561, 0.0), (1562, 0.0021420924773121056), (1563, 0.0), (1564, 0.0), (1565, 0.0012809817610767967), (1566, 0.00272969375777743), (1567, 0.004730927008221582), (1568, 0.002794602955675703), (1569, 0.0), (1570, 0.0012624194910194836), (1571, 0.0014070288261195509), (1572, 0.010480351239055562), (1573, 0.0024499090310725106), (1574, 0.0010062153508246733), (1575, 0.002584112673838553), (1576, 0.0019143420221485105), (1577, 0.0), (1578, 0.0), (1579, 0.0), (1580, 0.001367549891350701), (1581, 0.0), (1582, 0.004440270609382534), (1583, 0.0), (1584, 0.0), (1585, 0.003099257365988358), (1586, 0.0), (1587, 0.0018840472786430743), (1588, 0.002741000809824672), (1589, 0.0), (1590, 0.0021140957650158834), (1591, 0.006341880519733317), (1592, 0.0), (1593, 0.0019295945023851777), (1594, 0.0016699299826943785), (1595, 0.006296226652697967), (1596, 0.0), (1597, 0.0012532920113229654), (1598, 0.0011490494216375858), (1599, 0.0), (1600, 0.0), (1601, 0.0), (1602, 0.0), (1603, 0.0), (1604, 0.0), (1605, 0.0009735251586260484), (1606, 0.0), (1607, 0.0), (1608, 0.0033467727096129747), (1609, 0.0), (1610, 0.0), (1611, 0.0), (1612, 0.0010113375245411269), (1613, 0.0), (1614, 0.002306388576175979), (1615, 0.0), (1616, 0.0013465233942065928), (1617, 0.0013023715453849714), (1618, 0.0), (1619, 0.0015391669052549494), (1620, 0.0040406238507523454), (1621, 0.006338495280720023), (1622, 0.0021058048125791387), (1623, 0.0023007752312494303), (1624, 0.0008852280584073358), (1625, 0.0013467147570445331), (1626, 0.0), (1627, 0.0026574037070424324), (1628, 0.001158737097246052), (1629, 0.0061718787908243405), (1630, 0.0018405141090985426), (1631, 0.002558430930911435), (1632, 0.002397106888326795), (1633, 0.0019748123835878497), (1634, 0.0013087215599575915), (1635, 0.0018574828074486975), (1636, 0.0), (1637, 0.0016532264415235326), (1638, 0.0), (1639, 0.0), (1640, 0.0), (1641, 0.0010554547693645284), (1642, 0.0010592785039893016), (1643, 0.0033722723389965296), (1644, 0.0), (1645, 0.0010696204957346103), (1646, 0.0), (1647, 0.0), (1648, 0.001116076487514831), (1649, 0.0), (1650, 0.0013962325566707666), (1651, 0.0), (1652, 0.0), (1653, 0.0031748153013574994), (1654, 0.0), (1655, 0.001972809681994532), (1656, 0.0012344686908050781), (1657, 0.0), (1658, 0.0012635670860661212), (1659, 0.002234117243968971), (1660, 0.0013106607602674332), (1661, 0.0025938096540472793), (1662, 0.0023159710324170734), (1663, 0.0011533360659870162), (1664, 0.0), (1665, 0.0057400647748876155), (1666, 0.0014304135349111863), (1667, 0.006238526033383721), (1668, 0.0), (1669, 0.0), (1670, 0.0010676302306560168), (1671, 0.0059191584210498), (1672, 0.0010061418288463205), (1673, 0.0), (1674, 0.0030857656383002667), (1675, 0.0046940464787235785), (1676, 0.0), (1677, 0.0009722923743892943), (1678, 0.005880582312092144), (1679, 0.0), (1680, 0.006094972199384888), (1681, 0.007682248185712806), (1682, 0.0013068369594079208), (1683, 0.0015828850479562876), (1684, 0.0), (1685, 0.0011741401356552036), (1686, 0.0), (1687, 0.007065422702584084), (1688, 0.0012666839877061142), (1689, 0.0), (1690, 0.0010953350297081754), (1691, 0.0011663420722432623), (1692, 0.0), (1693, 0.0009470405415164657), (1694, 0.004507856193826439), (1695, 0.0), (1696, 0.0016255893359305503), (1697, 0.0), (1698, 0.0), (1699, 0.001554415315232406), (1700, 0.0), (1701, 0.001997466433627455), (1702, 0.0), (1703, 0.001025755525432959), (1704, 0.0), (1705, 0.0032220527976549074), (1706, 0.0011760179555776417), (1707, 0.003063974789482758), (1708, 0.0010496692726221692), (1709, 0.0), (1710, 0.0013255543708096836), (1711, 0.0015572282956610496), (1712, 0.001391852899249593), (1713, 0.0025727470931022622), (1714, 0.0), (1715, 0.0), (1716, 0.008705233443783131), (1717, 0.0014575979684801263), (1718, 0.0), (1719, 0.0012233557589600452), (1720, 0.0), (1721, 0.003045121424247227), (1722, 0.001253924323634244), (1723, 0.002435839311177394), (1724, 0.002473450573925758), (1725, 0.0), (1726, 0.0), (1727, 0.004975281285374611), (1728, 0.0), (1729, 0.0), (1730, 0.0010669068834119973), (1731, 0.0), (1732, 0.0019997575028265356), (1733, 0.0013509773066293991), (1734, 0.0), (1735, 0.004003369933221184), (1736, 0.005015452366209866), (1737, 0.0), (1738, 0.0031473804019336218), (1739, 0.006772005416025606), (1740, 0.007193214143888586), (1741, 0.0), (1742, 0.000981204466482061), (1743, 0.0010077208577164304), (1744, 0.0009965577037811852), (1745, 0.0), (1746, 0.0), (1747, 0.0008290066307154925), (1748, 0.0012695798994491602), (1749, 0.002236717300044388), (1750, 0.0), (1751, 0.0), (1752, 0.0), (1753, 0.001642361047799223), (1754, 0.004615355866350385), (1755, 0.0), (1756, 0.0), (1757, 0.0), (1758, 0.0), (1759, 0.0010849113456159708), (1760, 0.0033109054234289996), (1761, 0.0019457374401658397), (1762, 0.0011023336965982156), (1763, 0.0011385528296538505), (1764, 0.0014559786150582937), (1765, 0.0012438017603670095), (1766, 0.0), (1767, 0.0), (1768, 0.0013488786631052129), (1769, 0.0), (1770, 0.0), (1771, 0.0), (1772, 0.0022123214781314513), (1773, 0.002210333236857977), (1774, 0.004771577457364244), (1775, 0.0), (1776, 0.005585013234187723), (1777, 0.0), (1778, 0.0), (1779, 0.003304978938209126), (1780, 0.0013134254945255475), (1781, 0.003561721426820712), (1782, 0.0015286845484796933), (1783, 0.0), (1784, 0.0019561110875451833), (1785, 0.0), (1786, 0.0), (1787, 0.0), (1788, 0.0029904111677804715), (1789, 0.005670233545664351), (1790, 0.0), (1791, 0.0023698769723462716), (1792, 0.0011801202770261167), (1793, 0.001584166662963567), (1794, 0.0), (1795, 0.0), (1796, 0.004926426972296829), (1797, 0.0026178469938087845), (1798, 0.0011968145466066922), (1799, 0.005157030198318904), (1800, 0.0), (1801, 0.000880355935971422), (1802, 0.0), (1803, 0.0), (1804, 0.0), (1805, 0.0018078211739605515), (1806, 0.005403147555844729), (1807, 0.0012361320497969197), (1808, 0.001111516973207026), (1809, 0.0019565011823383664), (1810, 0.0), (1811, 0.003258074566348819), (1812, 0.0029227794778933936), (1813, 0.0017836218940235015), (1814, 0.001032304344634479), (1815, 0.007118304220416014), (1816, 0.0033770603467506537), (1817, 0.0026271853356393273), (1818, 0.0), (1819, 0.00343960987667311), (1820, 0.0), (1821, 0.13588282177815014), (1822, 0.0011664891012616574), (1823, 0.0), (1824, 0.0), (1825, 0.0), (1826, 0.0010801563052314344), (1827, 0.0012914054966826922), (1828, 0.001381933748462716), (1829, 0.0036270850535197506), (1830, 0.0011157618063512527), (1831, 0.0009587957507562976), (1832, 0.005680849325427867), (1833, 0.0008210962392118589), (1834, 0.0), (1835, 0.0), (1836, 0.0), (1837, 0.0), (1838, 0.0020645576230505667), (1839, 0.0), (1840, 0.0021764997351502503), (1841, 0.0), (1842, 0.0), (1843, 0.0011487225930681504), (1844, 0.0), (1845, 0.0028555490850388308), (1846, 0.002285332051285205), (1847, 0.002898132383400879), (1848, 0.0015932703113319816), (1849, 0.0), (1850, 0.0), (1851, 0.0013073031723940072), (1852, 0.0019692680802645903), (1853, 0.006044007093363709), (1854, 0.0037128577419363396), (1855, 0.0), (1856, 0.0), (1857, 0.0027762477146790012), (1858, 0.005733336200795457), (1859, 0.002576184173801092), (1860, 0.0013008933166497687), (1861, 0.004275079840543473), (1862, 0.0012430864840274147), (1863, 0.0), (1864, 0.003886081136664424), (1865, 0.003718340991171255), (1866, 0.004062331376181325), (1867, 0.0), (1868, 0.0), (1869, 0.0011079281977388444), (1870, 0.0), (1871, 0.0011941038681050225), (1872, 0.0012496539525449451), (1873, 0.0025269045613388174), (1874, 0.005167800943758153), (1875, 0.0012114235657876475), (1876, 0.004501332763067967), (1877, 0.0010882070358908247), (1878, 0.0013218954955154932), (1879, 0.0), (1880, 0.0), (1881, 0.0019281201950306934), (1882, 0.000960106183999076), (1883, 0.0), (1884, 0.0017501928087527042), (1885, 0.0013949343873489162), (1886, 0.0009857120912187935), (1887, 0.0014502561847115826), (1888, 0.0), (1889, 0.0), (1890, 0.0014188324639772233), (1891, 0.0010849864645373075), (1892, 0.0033306661085066615), (1893, 0.0012223569037028694), (1894, 0.0), (1895, 0.0), (1896, 0.001217990457359761), (1897, 0.003060881593011023), (1898, 0.0), (1899, 0.0), (1900, 0.002456195537692852), (1901, 0.0025338961652253454), (1902, 0.003348323273677994), (1903, 0.0), (1904, 0.0022837945375056953), (1905, 0.0014546103369573464), (1906, 0.0), (1907, 0.001306270704845354), (1908, 0.0), (1909, 0.0012244146632112481), (1910, 0.0021737312894244067), (1911, 0.0), (1912, 0.0), (1913, 0.0), (1914, 0.0020101960167515495), (1915, 0.0), (1916, 0.001598421219166163), (1917, 0.0), (1918, 0.00392904536140915), (1919, 0.0017584540629440417), (1920, 0.000957489964561573), (1921, 0.0010145766567058085), (1922, 0.003600111562510547), (1923, 0.005543686905056488), (1924, 0.0033270360890222594), (1925, 0.002640314879218506), (1926, 0.0), (1927, 0.002187757069316882), (1928, 0.0), (1929, 0.0016027972464819345), (1930, 0.0023412622029761938), (1931, 0.0035264190297421933), (1932, 0.0), (1933, 0.002603538922278838), (1934, 0.0023038978132126748), (1935, 0.0), (1936, 0.0010603017329275841), (1937, 0.004613282527304708), (1938, 0.0), (1939, 0.0042852735011861065), (1940, 0.0035467437990107536), (1941, 0.002408981296431364), (1942, 0.006734062127424924), (1943, 0.0010115811014247645), (1944, 0.0), (1945, 0.0029805270814745478), (1946, 0.0016916256747551304), (1947, 0.0014057970619493693), (1948, 0.0), (1949, 0.006606374056324745), (1950, 0.001059043996722405), (1951, 0.0014100188818460394), (1952, 0.0019657345339732946), (1953, 0.002051901191748118), (1954, 0.0010284743550709647), (1955, 0.0), (1956, 0.0), (1957, 0.0), (1958, 0.004899440997038349), (1959, 0.00151454210300915), (1960, 0.002827597130458709), (1961, 0.0), (1962, 0.002917180549942273), (1963, 0.0), (1964, 0.002886856236250995), (1965, 0.0), (1966, 0.0), (1967, 0.006192226373089794), (1968, 0.004808480174525334), (1969, 0.0009511200283720891), (1970, 0.005651515727454857), (1971, 0.004108699459977515), (1972, 0.0), (1973, 0.0023462655034112473), (1974, 0.0), (1975, 0.002890530303531959), (1976, 0.0025810874454787144), (1977, 0.0011608312386770364), (1978, 0.0), (1979, 0.0), (1980, 0.0007483734960901195), (1981, 0.00312026662893849), (1982, 0.09165046042038656), (1983, 0.007952508920038869), (1984, 0.0), (1985, 0.007630973203616442), (1986, 0.0030914405854940226), (1987, 0.004443552164494962), (1988, 0.0), (1989, 0.005150976235341796), (1990, 0.001788098877434833), (1991, 0.10322057863091746), (1992, 0.005456698204605155), (1993, 0.0025613702468518236), (1994, 0.0), (1995, 0.001585000823734363), (1996, 0.002314629567728757), (1997, 0.00816297818894032), (1998, 0.0022050132564887664), (1999, 0.0), (2000, 0.001286330160100039), (2001, 0.0), (2002, 0.0), (2003, 0.0), (2004, 0.0012029140417907141), (2005, 0.0), (2006, 0.0), (2007, 0.0), (2008, 0.002989060554674001), (2009, 0.0), (2010, 0.0008463444909160057), (2011, 0.0013755861166681591), (2012, 0.0027703541091533323), (2013, 0.0015771960840065087), (2014, 0.12706750106585923), (2015, 0.002111397417908153), (2016, 0.004550611682888272), (2017, 0.0), (2018, 0.0), (2019, 0.0), (2020, 0.0), (2021, 0.0), (2022, 0.0), (2023, 0.013041959062646748), (2024, 0.006836610451708407), (2025, 0.0), (2026, 0.14877555107895432), (2027, 0.0011868219805253842), (2028, 0.0), (2029, 0.005338025088667897), (2030, 0.0), (2031, 0.003957665320194691), (2032, 0.0), (2033, 0.0), (2034, 0.001288072451965132), (2035, 0.0011919352762894246), (2036, 0.0), (2037, 0.009651938415124099), (2038, 0.0), (2039, 0.0012041865943588717), (2040, 0.008229232944113124), (2041, 0.0), (2042, 0.0), (2043, 0.0), (2044, 0.0027191903058890535), (2045, 0.0031390756331427204), (2046, 0.0), (2047, 0.0013311923087315025), (2048, 0.001367793149933249), (2049, 0.0014220485712887426), (2050, 0.0), (2051, 0.001150720893317469), (2052, 0.0), (2053, 0.00884754645059933), (2054, 0.0), (2055, 0.003864712989008937), (2056, 0.0), (2057, 0.004906987832454896), (2058, 0.0), (2059, 0.0), (2060, 0.001658966016304067), (2061, 0.003996409363377853), (2062, 0.002136929187975997), (2063, 0.0), (2064, 0.0), (2065, 0.0036068023745612077), (2066, 0.0061205688421923105), (2067, 0.001015729273874022), (2068, 0.001230812262534933), (2069, 0.002845152934198604), (2070, 0.006494514449677694), (2071, 0.0), (2072, 0.002752022105497887), (2073, 0.0013296153505749078), (2074, 0.0024328574270787834), (2075, 0.00533402711209527), (2076, 0.0035210439497362516), (2077, 0.005094703841177482), (2078, 0.0023953461199117503), (2079, 0.0), (2080, 0.005588694832717761), (2081, 0.0), (2082, 0.004014474902669365), (2083, 0.0011136337702880217), (2084, 0.002499120865553371), (2085, 0.0), (2086, 0.0), (2087, 0.0010279413892289716), (2088, 0.0032072454940414944), (2089, 0.0037693631863818795), (2090, 0.0), (2091, 0.0028590642261032504), (2092, 0.0), (2093, 0.0034947902766121917), (2094, 0.002846546717192534), (2095, 0.0), (2096, 0.00808350636118638), (2097, 0.0060405238336078415), (2098, 0.0), (2099, 0.0014465171169357658), (2100, 0.0), (2101, 0.0), (2102, 0.0013020343471465737), (2103, 0.0011307862903481767), (2104, 0.003854112371619931), (2105, 0.0012747053391777487), (2106, 0.0), (2107, 0.0), (2108, 0.0013775715498572998), (2109, 0.0010986581453710162), (2110, 0.004686965861417862), (2111, 0.0017025140419792545), (2112, 0.007957305617893987), (2113, 0.0), (2114, 0.0), (2115, 0.0), (2116, 0.0013095860482764772), (2117, 0.0011951671255531152), (2118, 0.0), (2119, 0.005381152383826377), (2120, 0.0), (2121, 0.004179551910530611), (2122, 0.11590797849004182), (2123, 0.16661884333867813), (2124, 0.0), (2125, 0.0), (2126, 0.006142239874635013), (2127, 0.0008840374554789037), (2128, 0.0), (2129, 0.0010711612814063825), (2130, 0.0024875622391716734), (2131, 0.0012300676352339937), (2132, 0.0012174174568992697), (2133, 0.0014651174346235476), (2134, 0.0012255542272425382), (2135, 0.0), (2136, 0.0025424855979901103), (2137, 0.0), (2138, 0.0), (2139, 0.001953636987763522), (2140, 0.0), (2141, 0.0011548378023201508), (2142, 0.0013441294880357486), (2143, 0.0009720860415176796), (2144, 0.0013656182204477615), (2145, 0.0), (2146, 0.0010387769810296136), (2147, 0.09351112755557435), (2148, 0.0012659000680733696), (2149, 0.0015572369959314077), (2150, 0.0), (2151, 0.0013167026738130391), (2152, 0.0), (2153, 0.0), (2154, 0.00684902938944008), (2155, 0.079711119525493), (2156, 0.0), (2157, 0.0), (2158, 0.0041831181074075945), (2159, 0.0012558746387924661), (2160, 0.0), (2161, 0.0), (2162, 0.007862397698294783), (2163, 0.0011801869521681774), (2164, 0.0), (2165, 0.0), (2166, 0.0013590776185709158), (2167, 0.0), (2168, 0.0), (2169, 0.0011976559754112567), (2170, 0.0), (2171, 0.0), (2172, 0.0), (2173, 0.0014323375307279313), (2174, 0.005964862871500038), (2175, 0.0), (2176, 0.0011008711022496905), (2177, 0.0), (2178, 0.007499198082503163), (2179, 0.0), (2180, 0.0), (2181, 0.002464002469573313), (2182, 0.0), (2183, 0.0), (2184, 0.00246240100517321), (2185, 0.0), (2186, 0.0), (2187, 0.11131725642208265), (2188, 0.0), (2189, 0.00705238707022934), (2190, 0.0017925534203863864), (2191, 0.015640894512996144), (2192, 0.0010039040469927488), (2193, 0.002261434458678801), (2194, 0.0), (2195, 0.0012655357722083196), (2196, 0.00934830477195753), (2197, 0.002518772462617622), (2198, 0.0), (2199, 0.002189411086458096), (2200, 0.0), (2201, 0.0010774845947219963), (2202, 0.0), (2203, 0.0), (2204, 0.0), (2205, 0.0), (2206, 0.005593225816072613), (2207, 0.0), (2208, 0.0034565756420985782), (2209, 0.001146538746518219), (2210, 0.023031196518047352), (2211, 0.0008357655872150497), (2212, 0.005936855893115073), (2213, 0.0014300532731494364), (2214, 0.1546098415626877), (2215, 0.0), (2216, 0.00636667704357274), (2217, 0.0), (2218, 0.0), (2219, 0.0), (2220, 0.0), (2221, 0.0015463826699000274), (2222, 0.0), (2223, 0.001157078715376521), (2224, 0.006988292592790465), (2225, 0.0), (2226, 0.0018989693636930834), (2227, 0.0), (2228, 0.005074443981908918), (2229, 0.0), (2230, 0.0024377152952948923), (2231, 0.00239848138349341), (2232, 0.00199783619666911), (2233, 0.0), (2234, 0.0), (2235, 0.0), (2236, 0.0027227339795887905), (2237, 0.0031795633906123526), (2238, 0.0), (2239, 0.0), (2240, 0.0007472643668543696), (2241, 0.0), (2242, 0.0013507628594961732), (2243, 0.0), (2244, 0.0), (2245, 0.0022933946199026173), (2246, 0.0022164417961811904), (2247, 0.0), (2248, 0.001058331103615859), (2249, 0.0), (2250, 0.008083269622275424), (2251, 0.0), (2252, 0.0026216090921731433), (2253, 0.0), (2254, 0.008395267571303097), (2255, 0.0), (2256, 0.0), (2257, 0.0), (2258, 0.0), (2259, 0.0), (2260, 0.0011859904768492151), (2261, 0.0), (2262, 0.0), (2263, 0.0), (2264, 0.004121613317584393), (2265, 0.0015696536549686503), (2266, 0.0), (2267, 0.0), (2268, 0.001048507452304641), (2269, 0.0), (2270, 0.0009138082172195342), (2271, 0.0), (2272, 0.0), (2273, 0.0), (2274, 0.0), (2275, 0.0), (2276, 0.01183099088247591), (2277, 0.0011349141654151183), (2278, 0.002155755112636365), (2279, 0.0033008567109537724), (2280, 0.00621770392269414), (2281, 0.0), (2282, 0.0), (2283, 0.002330042911549977), (2284, 0.009803100173941124), (2285, 0.00091572216490084), (2286, 0.002109724717253826), (2287, 0.0009845229607926547), (2288, 0.0), (2289, 0.0), (2290, 0.0), (2291, 0.0), (2292, 0.0012538467287389592), (2293, 0.0027072610777355527), (2294, 0.0), (2295, 0.0), (2296, 0.0), (2297, 0.0), (2298, 0.0), (2299, 0.0), (2300, 0.0), (2301, 0.0012333796207900317), (2302, 0.0015217862148531485), (2303, 0.0014875302040997828), (2304, 0.004979915461582236), (2305, 0.0), (2306, 0.0016574866088179606), (2307, 0.0), (2308, 0.08343330658815276), (2309, 0.0012214447614793426), (2310, 0.0055206700377097425), (2311, 0.0), (2312, 0.0), (2313, 0.0010758301847149183), (2314, 0.0023274828285590435), (2315, 0.0), (2316, 0.004377149882796654), (2317, 0.006426419953168171), (2318, 0.005363516905029292), (2319, 0.0013172593598209201), (2320, 0.004605411395521507), (2321, 0.14094005415119465), (2322, 0.0), (2323, 0.0010599822673587923), (2324, 0.012149384644785769), (2325, 0.0), (2326, 0.0027684436977131036), (2327, 0.0), (2328, 0.0), (2329, 0.0), (2330, 0.0027423076019075575), (2331, 0.0), (2332, 0.0), (2333, 0.0), (2334, 0.006644249238589357), (2335, 0.0), (2336, 0.004814907751715592), (2337, 0.0), (2338, 0.001016013845809942), (2339, 0.0), (2340, 0.0020824437276554257), (2341, 0.0), (2342, 0.0), (2343, 0.0), (2344, 0.006419645645832932), (2345, 0.0), (2346, 0.0), (2347, 0.0008858191357767785), (2348, 0.0057335930433217025), (2349, 0.004666598430310488), (2350, 0.0040759915230388), (2351, 0.0), (2352, 0.0), (2353, 0.0), (2354, 0.0012954020348277982), (2355, 0.0030851300308489607), (2356, 0.0013651047203925792), (2357, 0.0), (2358, 0.0), (2359, 0.001253632220994803), (2360, 0.0), (2361, 0.0012736906866446546), (2362, 0.0018607759673079898), (2363, 0.0), (2364, 0.0), (2365, 0.0), (2366, 0.0), (2367, 0.0012090945142630865), (2368, 0.0), (2369, 0.0), (2370, 0.001331551965481738), (2371, 0.0), (2372, 0.0), (2373, 0.0), (2374, 0.0033217333282459975), (2375, 0.16096282133872608), (2376, 0.0), (2377, 0.0), (2378, 0.0015482069584051514), (2379, 0.0), (2380, 0.0), (2381, 0.0), (2382, 0.0010494396204710375), (2383, 0.0), (2384, 0.0), (2385, 0.0017223641446452945), (2386, 0.0013411940378401503), (2387, 0.001415537283300473), (2388, 0.009498206372506769), (2389, 0.0), (2390, 0.0011793011133822055), (2391, 0.004308549459375198), (2392, 0.0), (2393, 0.0012766534347443221), (2394, 0.0), (2395, 0.0), (2396, 0.001143767160502256), (2397, 0.0013189808254977409), (2398, 0.0), (2399, 0.0012944484025806207), (2400, 0.0), (2401, 0.004776870482437583), (2402, 0.0015205011100699946), (2403, 0.0012082871040968639), (2404, 0.0), (2405, 0.001308696211916956), (2406, 0.03162489317771136), (2407, 0.0), (2408, 0.0), (2409, 0.0), (2410, 0.004723188834658912), (2411, 0.0015697708060725488), (2412, 0.007000022197787708), (2413, 0.0027819776254178028), (2414, 0.0), (2415, 0.0), (2416, 0.006426419953168171), (2417, 0.001631009802930437), (2418, 0.0014729878559682327), (2419, 0.001185648953168714), (2420, 0.0), (2421, 0.002886952675986375), (2422, 0.0014051163598580517), (2423, 0.0), (2424, 0.0040477535419567055), (2425, 0.0), (2426, 0.0), (2427, 0.017197987576019876), (2428, 0.01269485593818145), (2429, 0.005460270391677673), (2430, 0.0013266358729044805), (2431, 0.0), (2432, 0.002011031937201326), (2433, 0.0), (2434, 0.004605411395521507), (2435, 0.0), (2436, 0.002130316765314635), (2437, 0.001969051666791216), (2438, 0.0018066077512131722), (2439, 0.0), (2440, 0.004622736896183321), (2441, 0.001059741466684193), (2442, 0.002288467651799573), (2443, 0.0036421132082483714), (2444, 0.0), (2445, 0.0), (2446, 0.0012102421016126192), (2447, 0.007201333648588045), (2448, 0.006616299483600913), (2449, 0.0), (2450, 0.0), (2451, 0.0), (2452, 0.0), (2453, 0.0018158164737878965), (2454, 0.0), (2455, 0.0), (2456, 0.0), (2457, 0.0011101075422587107), (2458, 0.0), (2459, 0.01267951846369918), (2460, 0.0), (2461, 0.0010327715022905525), (2462, 0.0), (2463, 0.0014091605334956723), (2464, 0.01850349351485751), (2465, 0.0), (2466, 0.001146797633772908), (2467, 0.0014853715081256222), (2468, 0.0), (2469, 0.0007205135680888791), (2470, 0.0), (2471, 0.0), (2472, 0.0), (2473, 0.0012567208990741136), (2474, 0.0012288767197890672), (2475, 0.005834190610312089), (2476, 0.0), (2477, 0.004351504362717113), (2478, 0.0015418101816730967), (2479, 0.0), (2480, 0.002639962657925472), (2481, 0.0011063115926439073), (2482, 0.0009503550047708224), (2483, 0.0), (2484, 0.0), (2485, 0.0), (2486, 0.009415101069974492), (2487, 0.01206302275380469), (2488, 0.0), (2489, 0.0042911734958629094), (2490, 0.0), (2491, 0.0), (2492, 0.0), (2493, 0.0), (2494, 0.0), (2495, 0.003364487959105581), (2496, 0.003063223682320841), (2497, 0.0), (2498, 0.0), (2499, 0.0), (2500, 0.0), (2501, 0.0024336026284203257), (2502, 0.0016432971638689923), (2503, 0.0), (2504, 0.0), (2505, 0.0016683970512721298), (2506, 0.009651461362973122), (2507, 0.0010676924585474401), (2508, 0.0), (2509, 0.0011903954783128573), (2510, 0.0), (2511, 0.0), (2512, 0.0051834759179267605), (2513, 0.0), (2514, 0.0), (2515, 0.0), (2516, 0.0), (2517, 0.0), (2518, 0.0), (2519, 0.014596923412591), (2520, 0.0019846676110861438), (2521, 0.0), (2522, 0.007388613969795573), (2523, 0.0), (2524, 0.006236918892118762), (2525, 0.0010190597397143877), (2526, 0.0012532057784107118), (2527, 0.0016534884132950506), (2528, 0.0012968148816575363), (2529, 0.0), (2530, 0.002609555690665496), (2531, 0.0), (2532, 0.0), (2533, 0.0017342093850508885), (2534, 0.001065197523479158), (2535, 0.002130924117508453), (2536, 0.0), (2537, 0.0047113039692163496), (2538, 0.0009825004334881738), (2539, 0.0), (2540, 0.13139443235851767), (2541, 0.0023668841007984756), (2542, 0.0), (2543, 0.0), (2544, 0.002145942598302615), (2545, 0.0014543653921881394), (2546, 0.00487748869660105), (2547, 0.0), (2548, 0.0), (2549, 0.0), (2550, 0.0), (2551, 0.0), (2552, 0.0012807727164800657), (2553, 0.0010217542213389321), (2554, 0.0015584590260352713), (2555, 0.006071706798062386), (2556, 0.0021935359891365413), (2557, 0.0015048198845233492), (2558, 0.34072397236458046), (2559, 0.006187603347477366), (2560, 0.0), (2561, 0.0), (2562, 0.0), (2563, 0.0016303299122193964), (2564, 0.0), (2565, 0.0012482807655901037), (2566, 0.0), (2567, 0.0024580922161289882), (2568, 0.0010319784248713825), (2569, 0.0), (2570, 0.004308549459375198), (2571, 0.001387597288197884), (2572, 0.0012914813286700054), (2573, 0.0014726828769693566), (2574, 0.0), (2575, 0.0), (2576, 0.002134902242326769), (2577, 0.0), (2578, 0.0), (2579, 0.001400210571462764), (2580, 0.00423524042113565), (2581, 0.0), (2582, 0.0), (2583, 0.0), (2584, 0.0), (2585, 0.002721833948462638), (2586, 0.0), (2587, 0.0009252055832489722), (2588, 0.0), (2589, 0.0), (2590, 0.0), (2591, 0.0), (2592, 0.0016464728934577424), (2593, 0.0015168996384247312), (2594, 0.0), (2595, 0.001257468385668389), (2596, 0.0), (2597, 0.0), (2598, 0.0033478690588748007), (2599, 0.0023207927999419815), (2600, 0.01744967495352341), (2601, 0.005779851178248089), (2602, 0.007280551213584438), (2603, 0.0011980536576561315), (2604, 0.0), (2605, 0.0), (2606, 0.0032423243738411746), (2607, 0.0061258099658745005), (2608, 0.0), (2609, 0.0012191203672409776), (2610, 0.001171690292104139), (2611, 0.0016369155495893507), (2612, 0.0012240059932420754), (2613, 0.004776870482437583), (2614, 0.004870692282307608), (2615, 0.0), (2616, 0.0), (2617, 0.007071646905107998), (2618, 0.0), (2619, 0.006077043981221155), (2620, 0.0), (2621, 0.004669548005452973), (2622, 0.0016692279750206021), (2623, 0.0018392062751376084), (2624, 0.006238129758888689), (2625, 0.011274053664171103), (2626, 0.002223510555292486), (2627, 0.0), (2628, 0.002721833948462638), (2629, 0.001414984976209073), (2630, 0.002095517352203063), (2631, 0.0), (2632, 0.0038159509254260563), (2633, 0.0), (2634, 0.001662539682642473), (2635, 0.004023748159236284), (2636, 0.004776870482437583), (2637, 0.0), (2638, 0.0), (2639, 0.0), (2640, 0.0030803507469089947), (2641, 0.0), (2642, 0.0019245081997787431), (2643, 0.0), (2644, 0.0), (2645, 0.007256018595025827), (2646, 0.0), (2647, 0.0035020074739411447), (2648, 0.0), (2649, 0.023706390181337855), (2650, 0.0013285439225916402), (2651, 0.0025227248434296825), (2652, 0.0), (2653, 0.00106025086113306), (2654, 0.0), (2655, 0.0), (2656, 0.0), (2657, 0.0), (2658, 0.0), (2659, 0.0), (2660, 0.0), (2661, 0.0008790127309498682), (2662, 0.0), (2663, 0.0), (2664, 0.0013235424143865516), (2665, 0.0), (2666, 0.0), (2667, 0.0), (2668, 0.008344379055905668), (2669, 0.0), (2670, 0.0), (2671, 0.0), (2672, 0.0), (2673, 0.0), (2674, 0.0022499751179452794), (2675, 0.0), (2676, 0.0), (2677, 0.0), (2678, 0.002763017931613603), (2679, 0.0012769868179104888), (2680, 0.003049027253742298), (2681, 0.0), (2682, 0.0023781929725772057), (2683, 0.004119912531096065), (2684, 0.0), (2685, 0.0), (2686, 0.0), (2687, 0.0016865258045398518), (2688, 0.0), (2689, 0.005319709837500673), (2690, 0.0), (2691, 0.0), (2692, 1.0000000000000002), (2693, 0.0), (2694, 0.17352845161396183), (2695, 0.007671135041808634), (2696, 0.004605411395521507), (2697, 0.0054441075070577535), (2698, 0.001317042871884984), (2699, 0.0), (2700, 0.0), (2701, 0.0), (2702, 0.0012818294923786712), (2703, 0.0), (2704, 0.0), (2705, 0.0), (2706, 0.0023103064891877257), (2707, 0.0), (2708, 0.0), (2709, 0.0), (2710, 0.0), (2711, 0.002507168133465527), (2712, 0.0), (2713, 0.0), (2714, 0.00312737952382707), (2715, 0.0), (2716, 0.15363162990669627), (2717, 0.0), (2718, 0.0), (2719, 0.0), (2720, 0.0029429186681567488), (2721, 0.00128491218340125), (2722, 0.0068463657302660205), (2723, 0.0013269210568260647), (2724, 0.003253326435258143), (2725, 0.001549357758547125), (2726, 0.0), (2727, 0.00862264265058457), (2728, 0.0011423805191411987), (2729, 0.0), (2730, 0.0), (2731, 0.0), (2732, 0.0), (2733, 0.002424218940722199), (2734, 0.0), (2735, 0.0009670160024313984), (2736, 0.0017696375590262729), (2737, 0.0), (2738, 0.004950048261118708), (2739, 0.007815115594105112), (2740, 0.005161286285718451), (2741, 0.001509484848202673), (2742, 0.005940597679394942), (2743, 0.0009136959156505177), (2744, 0.005367592923447368), (2745, 0.0011509625837985752), (2746, 0.0015033828127294351), (2747, 0.0016296098000826308), (2748, 0.0048937566016630405), (2749, 0.0), (2750, 0.0), (2751, 0.0), (2752, 0.0040951118649472425), (2753, 0.0012094989029600032), (2754, 0.0), (2755, 0.0020550571582371386), (2756, 0.0), (2757, 0.0), (2758, 0.0013251925246432958), (2759, 0.0), (2760, 0.002280903636782846), (2761, 0.0008316289376189873), (2762, 0.0), (2763, 0.0), (2764, 0.0), (2765, 0.0015127869741748728), (2766, 0.001230233412391711), (2767, 0.000819500224177611), (2768, 0.0), (2769, 0.001717801240169446), (2770, 0.0), (2771, 0.0068594267701798176), (2772, 0.0), (2773, 0.0), (2774, 0.0), (2775, 0.004666598430310488), (2776, 0.0011009448396688492), (2777, 0.011955034194966314), (2778, 0.0), (2779, 0.0013917910123286217), (2780, 0.0061071660256592905), (2781, 0.0), (2782, 0.0026739319311646303), (2783, 0.0013470857004742307), (2784, 0.006224647709164077), (2785, 0.0), (2786, 0.0015732416077928663), (2787, 0.002331687703812091), (2788, 0.006854571338265305), (2789, 0.002131677928648357), (2790, 0.0024561041338597043), (2791, 0.005264247457210406), (2792, 0.0012937213921673902), (2793, 0.0), (2794, 0.0), (2795, 0.02691159341039197), (2796, 0.0020398734581412673), (2797, 0.0017925308229406), (2798, 0.0012330343949378166), (2799, 0.0), (2800, 0.001128836899817535), (2801, 0.001466814698341626), (2802, 0.0017994932978825538), (2803, 0.003045592454012748), (2804, 0.0), (2805, 0.0), (2806, 0.0), (2807, 0.0), (2808, 0.006510956055857827), (2809, 0.004948622137474991), (2810, 0.0), (2811, 0.0), (2812, 0.001087970615172236), (2813, 0.0), (2814, 0.0), (2815, 0.011208049950001218), (2816, 0.0), (2817, 0.0), (2818, 0.0), (2819, 0.0028187161054754406), (2820, 0.0016947483172775832), (2821, 0.004438770679299311), (2822, 0.0), (2823, 0.0), (2824, 0.0), (2825, 0.0034266981611367413), (2826, 0.0010227565188025971), (2827, 0.0), (2828, 0.0), (2829, 0.0), (2830, 0.0014358528513047496), (2831, 0.0), (2832, 0.005175458692480502), (2833, 0.0034615807448300003), (2834, 0.0), (2835, 0.0), (2836, 0.0), (2837, 0.0), (2838, 0.0), (2839, 0.0), (2840, 0.0), (2841, 0.0013110887135192786), (2842, 0.0), (2843, 0.0), (2844, 0.0014003996119518797), (2845, 0.0017957647748429002), (2846, 0.14387756465248416), (2847, 0.0020435169851101553), (2848, 0.0016854547378621864), (2849, 0.0), (2850, 0.0), (2851, 0.0), (2852, 0.0), (2853, 0.001825606614977323), (2854, 0.0), (2855, 0.0), (2856, 0.0), (2857, 0.004605411395521507), (2858, 0.0), (2859, 0.1063188858825662), (2860, 0.0), (2861, 0.00705238707022934), (2862, 0.0012101918123254415), (2863, 0.0012796376415076217), (2864, 0.0), (2865, 0.0), (2866, 0.0), (2867, 0.0), (2868, 0.005041003554673947), (2869, 0.0), (2870, 0.0), (2871, 0.004727154510902194), (2872, 0.0), (2873, 0.0), (2874, 0.004008489500511534), (2875, 0.0), (2876, 0.001320303919898678), (2877, 0.0), (2878, 0.0013707403040892918), (2879, 0.011650547270843185), (2880, 0.0), (2881, 0.004665953967322515), (2882, 0.0030976244211735815), (2883, 0.004358525794569801), (2884, 0.0020189654177529396), (2885, 0.0), (2886, 0.005701446184928731), (2887, 0.001282275378259348), (2888, 0.0011207832008960305), (2889, 0.0), (2890, 0.004666598430310488), (2891, 0.0), (2892, 0.0), (2893, 0.0012136305120454066), (2894, 0.001348965753039134), (2895, 0.0016297461527756388), (2896, 0.0), (2897, 0.003714970125027389), (2898, 0.0), (2899, 0.00379382028438286), (2900, 0.0027829592976913206), (2901, 0.0), (2902, 0.0011260759441793571), (2903, 0.43474503817895854), (2904, 0.0014202132541014623), (2905, 0.0), (2906, 0.0), (2907, 0.0051008155790029895), (2908, 0.019254868324949492), (2909, 0.0012580528884043405), (2910, 0.0076603591903542205), (2911, 0.0014573231556025616), (2912, 0.0011783484507507634), (2913, 0.01419370576945459), (2914, 0.002930980779459385), (2915, 0.0010495732815469594), (2916, 0.0), (2917, 0.0030035226693488105), (2918, 0.006800543173137198), (2919, 0.006859128077490258), (2920, 0.0015390486199232498), (2921, 0.0), (2922, 0.0), (2923, 0.00444796083087595), (2924, 0.001549420666705742), (2925, 0.008125644507316324), (2926, 0.0013614407997991445), (2927, 0.0), (2928, 0.0), (2929, 0.002349622110452368), (2930, 0.0), (2931, 0.0011113198219744554), (2932, 0.0), (2933, 0.0012163054457505038), (2934, 0.004600893483238556), (2935, 0.0), (2936, 0.001279222419826326), (2937, 0.005810936111708224), (2938, 0.0), (2939, 0.012646812058009271), (2940, 0.001461314896489843), (2941, 0.0), (2942, 0.0012850460206366458), (2943, 0.001489425035276591), (2944, 0.002294617657713508), (2945, 0.0013857586434603128), (2946, 0.001873976326781984), (2947, 0.005667317848430087), (2948, 0.008178597030765535), (2949, 0.01453323521650949), (2950, 0.0), (2951, 0.0), (2952, 0.0), (2953, 0.0015985430708912384), (2954, 0.0013261052687457099), (2955, 0.0), (2956, 0.0), (2957, 0.0), (2958, 0.0), (2959, 0.0026655501714663177), (2960, 0.002535706902796), (2961, 0.0062053691365837205), (2962, 0.002484644448890416), (2963, 0.006657236942001967), (2964, 0.0013882270626307573), (2965, 0.001356731122043496), (2966, 0.00452212599943947), (2967, 0.0), (2968, 0.0), (2969, 0.001760936535948761), (2970, 0.0017156449266742366), (2971, 0.003953542110017313), (2972, 0.0014087900881556417), (2973, 0.0), (2974, 0.0018287461273474054), (2975, 0.0017878556824389154), (2976, 0.0012802644907196727), (2977, 0.001391506794488424), (2978, 0.007807915808702007), (2979, 0.0), (2980, 0.0013580263514775405), (2981, 0.002904880477736191), (2982, 0.0), (2983, 0.0), (2984, 0.0023104785551568132), (2985, 0.1684760552124264), (2986, 0.003493798593102669), (2987, 0.0012777815940869979), (2988, 0.0034536413249899862), (2989, 0.0), (2990, 0.0), (2991, 0.0019505556745736466), (2992, 0.0022692194361677853), (2993, 0.00705238707022934), (2994, 0.006118347989182559), (2995, 0.0013824961516236065), (2996, 0.008308098298340668), (2997, 0.0017932086534313285), (2998, 0.0), (2999, 0.0011117740735683177), (3000, 0.0015546514558820274), (3001, 0.0), (3002, 0.0), (3003, 0.0018727081419704814), (3004, 0.0), (3005, 0.0025885423180353074), (3006, 0.0), (3007, 0.002514224543406164), (3008, 0.0), (3009, 0.0), (3010, 0.002017838728435106), (3011, 0.0024958558774933843), (3012, 0.025034121838065762), (3013, 0.0018394452570959512), (3014, 0.0013862113084312446), (3015, 0.004666598430310488), (3016, 0.0012404075199774556), (3017, 0.0), (3018, 0.0), (3019, 0.02334364039764846), (3020, 0.002709534126217978), (3021, 0.0), (3022, 0.009531375436296018), (3023, 0.0), (3024, 0.0012419926985985544), (3025, 0.0), (3026, 0.0011141902089031113), (3027, 0.002153498787996409), (3028, 0.0010750494890279644), (3029, 0.0), (3030, 0.0), (3031, 0.001432757069521483), (3032, 0.004024011011207846), (3033, 0.0), (3034, 0.0), (3035, 0.0), (3036, 0.0016517033347521952), (3037, 0.0), (3038, 0.0), (3039, 0.0), (3040, 0.0), (3041, 0.0), (3042, 0.0047113039692163496), (3043, 0.010160020283393004), (3044, 0.00211719299090734), (3045, 0.005623788103495168), (3046, 0.0012350497230347356), (3047, 0.0), (3048, 0.0), (3049, 0.0), (3050, 0.001186755347865618), (3051, 0.0), (3052, 0.0), (3053, 0.0), (3054, 0.0), (3055, 0.00444796083087595), (3056, 0.0013454367233955837), (3057, 0.002721833948462638), (3058, 0.0), (3059, 0.0), (3060, 0.0), (3061, 0.0), (3062, 0.0), (3063, 0.0), (3064, 0.0014286688971261187), (3065, 0.003394352227755899), (3066, 0.0), (3067, 0.004666598430310488), (3068, 0.0), (3069, 0.0015338920906552327), (3070, 0.005494657304006599), (3071, 0.001157081228093191), (3072, 0.0018124745121231422), (3073, 0.0), (3074, 0.0053271277069806946), (3075, 0.0013303708819711914), (3076, 0.02498914645240062), (3077, 0.0), (3078, 0.0), (3079, 0.001868965525313705), (3080, 0.0), (3081, 0.0031547875282584973), (3082, 0.0), (3083, 0.0), (3084, 0.0010113706082752047), (3085, 0.005469713633949673), (3086, 0.013981530094962917), (3087, 0.0), (3088, 0.0), (3089, 0.0), (3090, 0.0), (3091, 0.0012680977428267042), (3092, 0.0), (3093, 0.0012962387927701944), (3094, 0.00115066601307013), (3095, 0.010990985274398447), (3096, 0.0008744275116770012), (3097, 0.016055694768428354), (3098, 0.0), (3099, 0.0038439564917872246), (3100, 0.001776386006850506), (3101, 0.004776870482437583), (3102, 0.0), (3103, 0.0), (3104, 0.0), (3105, 0.0), (3106, 0.0), (3107, 0.0), (3108, 0.0037198944712566254), (3109, 0.0), (3110, 0.019793162935407106), (3111, 0.001281884047668144), (3112, 0.003585945326654797), (3113, 0.0010058854721716373), (3114, 0.0), (3115, 0.0), (3116, 0.0), (3117, 0.007742942839623872), (3118, 0.007039421458830349), (3119, 0.0), (3120, 0.004751584738063527), (3121, 0.0), (3122, 0.003758346860721051), (3123, 0.011746919957073255), (3124, 0.002532311910160995), (3125, 0.004965578019644269), (3126, 0.0023945342663474287), (3127, 0.004756029564642391), (3128, 0.00444796083087595), (3129, 0.0020278065148150617), (3130, 0.0), (3131, 0.0023574192854896392), (3132, 0.0), (3133, 0.001998037515222715), (3134, 0.0018930213283279052), (3135, 0.0016747638767836603), (3136, 0.0023196418447395226), (3137, 0.10486402589030688), (3138, 0.0), (3139, 0.006312027008364624), (3140, 0.006806637494977097), (3141, 0.0), (3142, 0.0), (3143, 0.0028363226276508567), (3144, 0.0), (3145, 0.0), (3146, 0.0016848023868130957), (3147, 0.0011837694205789275), (3148, 0.001256664436353172), (3149, 0.003793400785981779), (3150, 0.0010808530803382312), (3151, 0.0024238618487314365), (3152, 0.0010609574246148586), (3153, 0.0031463534396691684), (3154, 0.035690087588516696), (3155, 0.0069530348805035246), (3156, 0.0024404475982969555), (3157, 0.004776870482437583), (3158, 0.0025656435175553886), (3159, 0.00444796083087595), (3160, 0.0016611507121157634), (3161, 0.0024631925644651594), (3162, 0.0), (3163, 0.002261486134285023), (3164, 0.0), (3165, 0.0), (3166, 0.0), (3167, 0.0010384994617028713), (3168, 0.009135638264367973), (3169, 0.0), (3170, 0.001241621620047472), (3171, 0.004730849073983099), (3172, 0.0), (3173, 0.0011801191354965945), (3174, 0.001321780586559349), (3175, 0.0), (3176, 0.0), (3177, 0.0), (3178, 0.0), (3179, 0.0022675659524197312), (3180, 0.0023427632640624666), (3181, 0.0), (3182, 0.0013793642781289607), (3183, 0.004308549459375198), (3184, 0.001417059731965604), (3185, 0.0), (3186, 0.0013016829435667037), (3187, 0.001418214500742023), (3188, 0.0), (3189, 0.0), (3190, 0.0), (3191, 0.0021016007045582498), (3192, 0.004888781916561484), (3193, 0.0), (3194, 0.0010499416842022124), (3195, 0.003197601831051905), (3196, 0.003655260910165214), (3197, 0.0), (3198, 0.0028138606570685446), (3199, 0.0013911489933239535), (3200, 0.0010627740002601546), (3201, 0.0), (3202, 0.0), (3203, 0.0), (3204, 0.0), (3205, 0.0), (3206, 0.0030584203772816812), (3207, 0.0), (3208, 0.0), (3209, 0.0), (3210, 0.00802379641949995), (3211, 0.001216697500239769), (3212, 0.0), (3213, 0.0026850940544423103), (3214, 0.0048937566016630405), (3215, 0.002093292591530289), (3216, 0.0013252130356676197), (3217, 0.0), (3218, 0.005175458692480502), (3219, 0.006707586668662025), (3220, 0.004605411395521507), (3221, 0.0), (3222, 0.0), (3223, 0.0), (3224, 0.0010351148050717382), (3225, 0.0014499733319708074), (3226, 0.0011834600002613134), (3227, 0.0), (3228, 0.0), (3229, 0.0), (3230, 0.0014394514669317023), (3231, 0.0), (3232, 0.005080340004199992), (3233, 0.00309548246704938), (3234, 0.0), (3235, 0.0), (3236, 0.0), (3237, 0.0012833695217178045), (3238, 0.001151901367631758), (3239, 0.0026500771559610685), (3240, 0.005188743345419358), (3241, 0.003184666230543598), (3242, 0.004776870482437583), (3243, 0.0012089667220691156), (3244, 0.0), (3245, 0.0035297805697025396), (3246, 0.0012454835384621428), (3247, 0.0015070139010713748), (3248, 0.0), (3249, 0.1530861543808771), (3250, 0.0), (3251, 0.0), (3252, 0.0017586047492066886), (3253, 0.0), (3254, 0.0016122186005085026), (3255, 0.0), (3256, 0.0), (3257, 0.0020799197833221805), (3258, 0.0), (3259, 0.003871099046866128), (3260, 0.0013444913016374335), (3261, 0.0), (3262, 0.0), (3263, 0.002442213445313573), (3264, 0.004533345917742711), (3265, 0.0), (3266, 0.0), (3267, 0.020994012503138704), (3268, 0.0012038243655732195), (3269, 0.0028338619382403856), (3270, 0.0), (3271, 0.001380520953256462), (3272, 0.0), (3273, 0.00263920283228765), (3274, 0.0), (3275, 0.0), (3276, 0.0), (3277, 0.0), (3278, 0.0011867217026822572), (3279, 0.0018689787629411726), (3280, 0.10288789916373503), (3281, 0.0), (3282, 0.004605411395521507), (3283, 0.0031351484740357147), (3284, 0.0), (3285, 0.0011968066321594998), (3286, 0.0), (3287, 0.0), (3288, 0.0), (3289, 0.001512350239787179), (3290, 0.0012521962349423105), (3291, 0.006205715725017347), (3292, 0.002259545379209101), (3293, 0.0), (3294, 0.0), (3295, 0.0), (3296, 0.0), (3297, 0.02048196794388239), (3298, 0.0014270941758420445), (3299, 0.0028103909491829417), (3300, 0.0009693814584440883), (3301, 0.0006121941869352836), (3302, 0.0027806049829827034), (3303, 0.00767065467621973), (3304, 0.0009841958963336124), (3305, 0.0), (3306, 0.01699088584685273), (3307, 0.002241770833981069), (3308, 0.0015295529844770786), (3309, 0.0), (3310, 0.0), (3311, 0.0011059961930038322), (3312, 0.0), (3313, 0.001275615520072906), (3314, 0.0021697068560182103), (3315, 0.0013060886153050085), (3316, 0.0), (3317, 0.0069251236004565404), (3318, 0.005809447652645429), (3319, 0.0), (3320, 0.0), (3321, 0.0), (3322, 0.0), (3323, 0.0), (3324, 0.0), (3325, 0.012422410506109975), (3326, 0.0014703886510047397), (3327, 0.0010803441592701565), (3328, 0.0012960349251287134), (3329, 0.0013150377840325672), (3330, 0.0040341875856763154), (3331, 0.004145227207519054), (3332, 0.0), (3333, 0.0), (3334, 0.006105008177491812), (3335, 0.0013026177192336512), (3336, 0.001315121100768174), (3337, 0.0013528201329262208), (3338, 0.002481612838526187), (3339, 0.004754225484006166), (3340, 0.0), (3341, 0.0014395888544499753), (3342, 0.003774037233082052), (3343, 0.0), (3344, 0.004608222294001509), (3345, 0.0), (3346, 0.001120438975496419), (3347, 0.0012308905544516598), (3348, 0.001428146001029944), (3349, 0.0), (3350, 0.0), (3351, 0.17396922494559008), (3352, 0.0012756950112335734), (3353, 0.0), (3354, 0.004776870482437583), (3355, 0.001449749660574482), (3356, 0.0), (3357, 0.004529932656197217), (3358, 0.0014244913600920694), (3359, 0.004666598430310488), (3360, 0.13816317525233648), (3361, 0.001831491207326461), (3362, 0.0008694921915134249), (3363, 0.0), (3364, 0.0), (3365, 0.0008933878571276317), (3366, 0.0), (3367, 0.0020397016334800606), (3368, 0.0), (3369, 0.0012962887866621098), (3370, 0.008485581970472021), (3371, 0.0), (3372, 0.00125668589726482), (3373, 0.0013291111153675083), (3374, 0.023625855162617053), (3375, 0.0), (3376, 0.0011714957160574627), (3377, 0.0), (3378, 0.0), (3379, 0.0009452323262413826), (3380, 0.0015418874875092136), (3381, 0.0009025816804508018), (3382, 0.013185318119074215), (3383, 0.0), (3384, 0.00932768798168133), (3385, 0.0028307982481555745), (3386, 0.001824552553339227), (3387, 0.0027927445912278625), (3388, 0.001306456184530972), (3389, 0.0013702061034147367), (3390, 0.0013254062076304186), (3391, 0.004587053025443319), (3392, 0.0011413666047013038), (3393, 0.0012070590958845745), (3394, 0.0), (3395, 0.0), (3396, 0.0), (3397, 0.0), (3398, 0.0023889588774689517), (3399, 0.0014134959921511222), (3400, 0.0), (3401, 0.0), (3402, 0.001178323351537346), (3403, 0.005371445050476908), (3404, 0.0025434824890496403), (3405, 0.001742634645783528), (3406, 0.001476702755614059), (3407, 0.00448921392644174), (3408, 0.004216507137130902), (3409, 0.0013378626436724907), (3410, 0.001304434834570287), (3411, 0.0), (3412, 0.0014135769892534686), (3413, 0.0013336787586023964), (3414, 0.002721833948462638), (3415, 0.0), (3416, 0.004302932674677637), (3417, 0.001424867476415146), (3418, 0.0041746359471105145), (3419, 0.0011301549298705455), (3420, 0.0), (3421, 0.0009796460322397057), (3422, 0.0), (3423, 0.0019297360889940548), (3424, 0.0), (3425, 0.004666598430310488), (3426, 0.002421416072362421), (3427, 0.0), (3428, 0.0), (3429, 0.0025768038275566867), (3430, 0.0010385640543567692), (3431, 0.0011019838843638542), (3432, 0.00209141819214363), (3433, 0.0034579259860257746), (3434, 0.0016363436447430447), (3435, 0.003130444483810729), (3436, 0.003234676538069393), (3437, 0.006872100683407023), (3438, 0.0038861694457131), (3439, 0.0), (3440, 0.0023813218199626256), (3441, 0.000885255326547057), (3442, 0.0), (3443, 0.002402527673060871), (3444, 0.0), (3445, 0.0012178412392774402), (3446, 0.002250853914830897), (3447, 0.0013328956985433204), (3448, 0.008883536216598409), (3449, 0.001580024784043456), (3450, 0.01788347413314426), (3451, 0.00196815076809113), (3452, 0.002864089774933819), (3453, 0.012354843981044009), (3454, 0.0), (3455, 0.0009043039704182337), (3456, 0.002448183081853701), (3457, 0.0), (3458, 0.001857533849735173), (3459, 0.0), (3460, 0.0034863265550740064), (3461, 0.0), (3462, 0.0), (3463, 0.0), (3464, 0.0036936735009615806), (3465, 0.06680598462951427), (3466, 0.009677521043857844), (3467, 0.0), (3468, 0.002225885169289071), (3469, 0.0), (3470, 0.002423132961648026), (3471, 0.002524474874229237), (3472, 0.0), (3473, 0.0), (3474, 0.003999137900251532), (3475, 0.0), (3476, 0.0), (3477, 0.0026889284502569543), (3478, 0.001158025933800178), (3479, 0.004308549459375198), (3480, 0.0), (3481, 0.0), (3482, 0.0), (3483, 0.007070002669346856), (3484, 0.0018976270985353596), (3485, 0.0), (3486, 0.12884803270491405), (3487, 0.0037116247258805243), (3488, 0.0027299134301941347), (3489, 0.0), (3490, 0.0), (3491, 0.0011856648157883827), (3492, 0.0012006997832682228), (3493, 0.0010516427063766755), (3494, 0.0), (3495, 0.0022043807299906575), (3496, 0.0013065234545523957), (3497, 0.002619763728223277), (3498, 0.0032386626504370903), (3499, 0.002955695430948928), (3500, 0.0013933697174470835), (3501, 0.0037588989970837533), (3502, 0.0), (3503, 0.0014110802253706977), (3504, 0.010725445770298311), (3505, 0.0), (3506, 0.004666598430310488), (3507, 0.00536101882700132), (3508, 0.0029128652627719207), (3509, 0.0), (3510, 0.0), (3511, 0.001361235481581095), (3512, 0.0), (3513, 0.0), (3514, 0.00368283940760975), (3515, 0.0), (3516, 0.00518308093233068), (3517, 0.001167229638377521), (3518, 0.1192399989188452), (3519, 0.0), (3520, 0.0017938484852606745), (3521, 0.012915873101012755), (3522, 0.0), (3523, 0.0), (3524, 0.0016737796502526408), (3525, 0.0), (3526, 0.0020632856975048007), (3527, 0.0), (3528, 0.0), (3529, 0.0), (3530, 0.0), (3531, 0.003246940962980343), (3532, 0.0), (3533, 0.0), (3534, 0.006919869067043575), (3535, 0.005578964108711419), (3536, 0.0010624286264036592), (3537, 0.0047113039692163496), (3538, 0.0011941199959396899), (3539, 0.0), (3540, 0.0012107575543441555), (3541, 0.0011519156468653394), (3542, 0.0012772555910860902), (3543, 0.0), (3544, 0.002709534126217978), (3545, 0.0), (3546, 0.000736174165980506), (3547, 0.0), (3548, 0.0010942679852363189), (3549, 0.0), (3550, 0.0), (3551, 0.001497070580635878), (3552, 0.004605411395521507), (3553, 0.0), (3554, 0.0), (3555, 0.0022965135424814903), (3556, 0.0046345499068405896), (3557, 0.0014611526494376552), (3558, 0.0013010464308035993), (3559, 0.0), (3560, 0.0014688509579586747), (3561, 0.004776870482437583), (3562, 0.0), (3563, 0.0), (3564, 0.0012482127403826524), (3565, 0.0014897707245942666), (3566, 0.0), (3567, 0.0), (3568, 0.0), (3569, 0.0012599311225555791), (3570, 0.003228412436639946), (3571, 0.003286452535746428), (3572, 0.0), (3573, 0.0), (3574, 0.0), (3575, 0.0009127725508807469), (3576, 0.0026499566528487848), (3577, 0.0), (3578, 0.0), (3579, 0.0), (3580, 0.0), (3581, 0.0), (3582, 0.004706585239167107), (3583, 0.002050168665486893), (3584, 0.002382789667792776), (3585, 0.0), (3586, 0.003581728759852321), (3587, 0.0013667906797358556), (3588, 0.0), (3589, 0.0), (3590, 0.002925260738894986), (3591, 0.0), (3592, 0.0), (3593, 0.001174686972583048), (3594, 0.0), (3595, 0.0), (3596, 0.0013688968573178429), (3597, 0.010967897763038924), (3598, 0.0), (3599, 0.0013411317261655406), (3600, 0.0), (3601, 0.0), (3602, 0.001727723961669319), (3603, 0.0), (3604, 0.0028942456273941507), (3605, 0.0025097863501866114), (3606, 0.0009311259272696431), (3607, 0.0), (3608, 0.0014665615509347216), (3609, 0.0), (3610, 0.0), (3611, 0.0014315004793743569), (3612, 0.005712533643999024), (3613, 0.004834467862772967), (3614, 0.0011673481867393645), (3615, 0.0014593710935645007), (3616, 0.0), (3617, 0.0), (3618, 0.004060150396475956), (3619, 0.0016295808777522884), (3620, 0.0021096588721401157), (3621, 0.0014238984976063817), (3622, 0.0), (3623, 0.003049715354017484), (3624, 0.0035992995539602998), (3625, 0.0), (3626, 0.0007400618135542861), (3627, 0.0010917121965009773), (3628, 0.0), (3629, 0.0007408224973794597), (3630, 0.0), (3631, 0.0), (3632, 0.0), (3633, 0.0), (3634, 0.0009290537818640836), (3635, 0.0), (3636, 0.0017240795706345666), (3637, 0.009196807614854093), (3638, 0.0), (3639, 0.0022634674205385574), (3640, 0.007666202320773404), (3641, 0.0011464659184667284), (3642, 0.006750895956985064), (3643, 0.0013477517315277246), (3644, 0.0), (3645, 0.004771763336827915), (3646, 0.0011430182327349912), (3647, 0.001957331518192143), (3648, 0.0), (3649, 0.0), (3650, 0.0), (3651, 0.0), (3652, 0.0), (3653, 0.0036351196080426293), (3654, 0.0014438826741413914), (3655, 0.14370231403191555), (3656, 0.0011272082919991067), (3657, 0.0009758995527741418), (3658, 0.0028805151240115542), (3659, 0.006818923630200377), (3660, 0.006299411674333237), (3661, 0.0034551873249145403), (3662, 0.0), (3663, 0.0), (3664, 0.0018610823483006284), (3665, 0.0012211283575715712), (3666, 0.004489236476765329), (3667, 0.0009078200600533501), (3668, 0.0029288900881583547), (3669, 0.001708304061145484), (3670, 0.008397715843690205), (3671, 0.0), (3672, 0.004776870482437583), (3673, 0.0012811927926321858), (3674, 0.003378112563798522), (3675, 0.0), (3676, 0.0), (3677, 0.00229794957910375), (3678, 0.0021446333258593013), (3679, 0.0), (3680, 0.005616200702059693), (3681, 0.0), (3682, 0.0), (3683, 0.0), (3684, 0.004600900431107322), (3685, 0.0), (3686, 0.0), (3687, 0.004776870482437583), (3688, 0.0), (3689, 0.001359849676295347), (3690, 0.0), (3691, 0.0009242320646228121), (3692, 0.004431245638796663), (3693, 0.0), (3694, 0.006460914278883866), (3695, 0.0), (3696, 0.0031921502858556277), (3697, 0.0), (3698, 0.0), (3699, 0.007171406597051611), (3700, 0.0), (3701, 0.001381432814863645), (3702, 0.0), (3703, 0.0), (3704, 0.004226482436494703), (3705, 0.0028926920460632787), (3706, 0.0016007540425500726), (3707, 0.0013567093422350701), (3708, 0.0), (3709, 0.0), (3710, 0.0021886927794230954), (3711, 0.004555555765067963), (3712, 0.0), (3713, 0.00449135668194224), (3714, 0.001507884642755699), (3715, 0.0), (3716, 0.0), (3717, 0.0), (3718, 0.0), (3719, 0.00444796083087595), (3720, 0.001622015657729262), (3721, 0.005808481543181783), (3722, 0.0), (3723, 0.0019350736764150679), (3724, 0.0), (3725, 0.0008772529856543622), (3726, 0.0), (3727, 0.002824292755456931), (3728, 0.0013254860195729104), (3729, 0.0021371329159340117), (3730, 0.0), (3731, 0.004421767779498166), (3732, 0.0), (3733, 0.0010854718779410107), (3734, 0.003037753397102678), (3735, 0.0), (3736, 0.0), (3737, 0.003135293247413019), (3738, 0.0), (3739, 0.0017768420441593628), (3740, 0.0), (3741, 0.01066234619138091), (3742, 0.0011653086158767713), (3743, 0.0), (3744, 0.0029225869137946415), (3745, 0.001180409971150836), (3746, 0.0), (3747, 0.002149160930361471), (3748, 0.0), (3749, 0.0014230579028932373), (3750, 0.0), (3751, 0.0011784892830033168), (3752, 0.0), (3753, 0.0), (3754, 0.0), (3755, 0.0011181006832574952), (3756, 0.00697609166187776), (3757, 0.0017003557380136248), (3758, 0.0), (3759, 0.0), (3760, 0.0), (3761, 0.0), (3762, 0.0), (3763, 0.00481238277632781), (3764, 0.0), (3765, 0.001249266984677792), (3766, 0.0), (3767, 0.001200756871873065), (3768, 0.006104026113988432), (3769, 0.002188135651160054), (3770, 0.0019175803022921415), (3771, 0.004057378170523804), (3772, 0.002060398396205441), (3773, 0.0), (3774, 0.0031170109473627654), (3775, 0.0074673194094911416), (3776, 0.0016843692015058797), (3777, 0.008011737252675061), (3778, 0.002477473936846913), (3779, 0.0012225210807087316), (3780, 0.004639010045379117), (3781, 0.0011129987458806446), (3782, 0.0018528469130164986), (3783, 0.0), (3784, 0.0012729107640854843), (3785, 0.0), (3786, 0.0), (3787, 0.0026055840799110767), (3788, 0.002123364463304951), (3789, 0.0), (3790, 0.0), (3791, 0.0), (3792, 0.0011642439361381355), (3793, 0.0024260355100868877), (3794, 0.0066133560932227714), (3795, 0.001035337257995333), (3796, 0.0), (3797, 0.003878943433858987), (3798, 0.0), (3799, 0.0016469211138977766), (3800, 0.0), (3801, 0.004655654510728462), (3802, 0.0), (3803, 0.0), (3804, 0.0), (3805, 0.0), (3806, 0.0019998142384793573), (3807, 0.0065542462266886415), (3808, 0.0), (3809, 0.0010394790823572816), (3810, 0.0), (3811, 0.001218359631889378), (3812, 0.0), (3813, 0.0), (3814, 0.0032441848110983072), (3815, 0.002871966652374402), (3816, 0.0), (3817, 0.0), (3818, 0.0), (3819, 0.005692102669578501), (3820, 0.0), (3821, 0.001254766654682648), (3822, 0.0023565225420382183), (3823, 0.0018490987956188596), (3824, 0.002390101803566806), (3825, 0.0), (3826, 0.0014895589000041417), (3827, 0.0), (3828, 0.0), (3829, 0.0010876583151917267), (3830, 0.0), (3831, 0.0), (3832, 0.0), (3833, 0.0024788133939813934), (3834, 0.0), (3835, 0.0008849397672946002), (3836, 0.0), (3837, 0.0), (3838, 0.0), (3839, 0.0011867268198914311), (3840, 0.0), (3841, 0.0030334341109539958), (3842, 0.010007172439657885), (3843, 0.0), (3844, 0.0), (3845, 0.0012421597831984486), (3846, 0.0), (3847, 0.0), (3848, 0.004776870482437583), (3849, 0.0072911756496635855), (3850, 0.002257972928683942), (3851, 0.0), (3852, 0.0016147769067162117), (3853, 0.001889206069051799), (3854, 0.004942688604966576), (3855, 0.0012403827233956172), (3856, 0.0), (3857, 0.0022377609212608377), (3858, 0.0), (3859, 0.0), (3860, 0.004617962273600948), (3861, 0.0), (3862, 0.011739765458504076), (3863, 0.0008589253984521106), (3864, 0.0), (3865, 0.0), (3866, 0.0014006677886333357), (3867, 0.00151405911165731), (3868, 0.001373974699632049), (3869, 0.0), (3870, 0.0), (3871, 0.0), (3872, 0.0), (3873, 0.0013657552971275675), (3874, 0.002974280102130956), (3875, 0.0010451114958810596), (3876, 0.0025712299668203637), (3877, 0.0014449650766320693), (3878, 0.0029958542078192037), (3879, 0.0), (3880, 0.001113676607476281), (3881, 0.0027785267234086827), (3882, 0.0011542525544289098), (3883, 0.0), (3884, 0.0), (3885, 0.0), (3886, 0.002516736731877193), (3887, 0.0), (3888, 0.004419630627320209), (3889, 0.0032002371486220967), (3890, 0.001335749063857794), (3891, 0.0), (3892, 0.0), (3893, 0.001470909660006691), (3894, 0.0008036358032185707), (3895, 0.0007978291120655358), (3896, 0.0), (3897, 0.009392266070374633), (3898, 0.001644834560547522), (3899, 0.008050255523404602), (3900, 0.0011409618912431605), (3901, 0.015782113270804747), (3902, 0.0010894610542852058), (3903, 0.001488131997264184), (3904, 0.0013972664169296007), (3905, 0.0042722233784446605), (3906, 0.0015000123115805637), (3907, 0.002118011977720487), (3908, 0.002814291445806814), (3909, 0.0), (3910, 0.002899546050872935), (3911, 0.001121246274722466), (3912, 0.0), (3913, 0.001698727005628739), (3914, 0.0), (3915, 0.0012417299512323704), (3916, 0.0), (3917, 0.0013402540661202618), (3918, 0.0), (3919, 0.0012384421494000691), (3920, 0.0017456831701797531), (3921, 0.0), (3922, 0.0), (3923, 0.0), (3924, 0.006105895421128777), (3925, 0.005839822756090736), (3926, 0.0), (3927, 0.001349603733591331), (3928, 0.0009432282964826519), (3929, 0.0), (3930, 0.0), (3931, 0.0), (3932, 0.004134666454278523), (3933, 0.0), (3934, 0.0), (3935, 0.0017059622201407068), (3936, 0.0), (3937, 0.0), (3938, 0.002543486715901475), (3939, 0.0), (3940, 0.0), (3941, 0.0033891719841317573), (3942, 0.0), (3943, 0.0), (3944, 0.0014259498380642557), (3945, 0.0), (3946, 0.17722049282841013), (3947, 0.012579346343023469), (3948, 0.0), (3949, 0.0), (3950, 0.0), (3951, 0.006415000506132168), (3952, 0.0), (3953, 0.0009404874042272137), (3954, 0.0007962217092738786), (3955, 0.0), (3956, 0.004808709701564015), (3957, 0.0029902475381719065), (3958, 0.0), (3959, 0.01498871164578188), (3960, 0.004536080683102385), (3961, 0.007619870984991699), (3962, 0.0029796542699025), (3963, 0.0), (3964, 0.0), (3965, 0.0), (3966, 0.001529790255943618), (3967, 0.002382951250039758), (3968, 0.0), (3969, 0.0), (3970, 0.0026678942663735552), (3971, 0.0), (3972, 0.0), (3973, 0.1616981661993846), (3974, 0.0037158810746910683), (3975, 0.0), (3976, 0.0), (3977, 0.0), (3978, 0.018275305704624153), (3979, 0.0), (3980, 0.0), (3981, 0.0), (3982, 0.0), (3983, 0.0010153185436529927), (3984, 0.0), (3985, 0.0), (3986, 0.001244974781357212), (3987, 0.001101916396969049), (3988, 0.0), (3989, 0.0021727360995688633), (3990, 0.0), (3991, 0.0), (3992, 0.006134843116375387), (3993, 0.0050168680541110055), (3994, 0.0), (3995, 0.008463380220413487), (3996, 0.0), (3997, 0.002927085451742546), (3998, 0.0), (3999, 0.01586361429825559), (4000, 0.005688882716738653), (4001, 0.0), (4002, 0.0033247110345971565), (4003, 0.0), (4004, 0.00644909524418235), (4005, 0.0035883720998493712), (4006, 0.0), (4007, 0.0), (4008, 0.0), (4009, 0.0), (4010, 0.0), (4011, 0.0013439986092691608), (4012, 0.0), (4013, 0.004738505028122559), (4014, 0.0), (4015, 0.0011907982841718723), (4016, 0.004681426735461943), (4017, 0.0026488072876936965), (4018, 0.0), (4019, 0.005111322426228125), (4020, 0.001465161423152626), (4021, 0.0), (4022, 0.0), (4023, 0.0), (4024, 0.0), (4025, 0.0014356963672028644), (4026, 0.0), (4027, 0.0), (4028, 0.0), (4029, 0.0), (4030, 0.0), (4031, 0.0), (4032, 0.0), (4033, 0.007117414404727297), (4034, 0.0), (4035, 0.0), (4036, 0.0012833758097765676), (4037, 0.0), (4038, 0.0035759728428084144), (4039, 0.0026484469911232478), (4040, 0.0), (4041, 0.0), (4042, 0.0018987811130248644), (4043, 0.002781058125628833), (4044, 0.002131812288435303), (4045, 0.004235521057391313), (4046, 0.0037811024287775297), (4047, 0.0), (4048, 0.0), (4049, 0.0012708168758846726), (4050, 0.00758927217648832), (4051, 0.0019252990147121509), (4052, 0.001030534954379115), (4053, 0.005110624434576938), (4054, 0.0016241485011973854), (4055, 0.0), (4056, 0.0013643010546967888), (4057, 0.0), (4058, 0.0), (4059, 0.0012634263786994492), (4060, 0.0053968843867402624), (4061, 0.0), (4062, 0.0), (4063, 0.0), (4064, 0.0), (4065, 0.0), (4066, 0.0014612197736209183), (4067, 0.0), (4068, 0.008361566442612146), (4069, 0.0010323381063293549), (4070, 0.0), (4071, 0.0020068422539524892), (4072, 0.0), (4073, 0.0), (4074, 0.0011910793967226298), (4075, 0.0013745343590366766), (4076, 0.0028005718069347286), (4077, 0.0), (4078, 0.0), (4079, 0.0017955202987525733), (4080, 0.0012539900517988232), (4081, 0.0013794109160301293), (4082, 0.0), (4083, 0.0011010970642926737), (4084, 0.0), (4085, 0.0013865184473983245), (4086, 0.0), (4087, 0.002316507247332125), (4088, 0.01449802271892647), (4089, 0.00467563926931098), (4090, 0.0028075032248842395), (4091, 0.0021242832258913844), (4092, 0.0), (4093, 0.0032087968199540425), (4094, 0.004936268184284176), (4095, 0.0047145397492135924), (4096, 0.006094225993598815), (4097, 0.0), (4098, 0.004309639726789616), (4099, 0.0), (4100, 0.0), (4101, 0.0031723927986455755), (4102, 0.0032412363412723795), (4103, 0.0022625433219528516), (4104, 0.0011437951792755289), (4105, 0.0037655203523611017), (4106, 0.0017983591124994841), (4107, 0.0), (4108, 0.0), (4109, 0.0), (4110, 0.0), (4111, 0.0014265531170302888), (4112, 0.0), (4113, 0.001813496493058173), (4114, 0.0), (4115, 0.0), (4116, 0.010203727638276105), (4117, 0.0017592532497487114), (4118, 0.006273200329346876), (4119, 0.0027894849777216424), (4120, 0.005069348486404855), (4121, 0.006415417375195492), (4122, 0.0), (4123, 0.006692475069660097), (4124, 0.005232623181558703), (4125, 0.0), (4126, 0.00444796083087595), (4127, 0.0), (4128, 0.0), (4129, 0.0009663435822803759), (4130, 0.0012794813071345427), (4131, 0.0), (4132, 0.0013576537983626428), (4133, 0.00460788485625967), (4134, 0.0025235348423177963), (4135, 0.001398973105541497), (4136, 0.0013544111537309913), (4137, 0.00130381570090669), (4138, 0.0012982282787327322), (4139, 0.0013976785944203862), (4140, 0.001308140172726235), (4141, 0.003569279844325246), (4142, 0.0010354670059834236), (4143, 0.000970845325757998), (4144, 0.0), (4145, 0.0017422486972872412), (4146, 0.0), (4147, 0.0013619396182267336), (4148, 0.00762333806766081), (4149, 0.0), (4150, 0.0), (4151, 0.00529453172477268), (4152, 0.0011454474828759068), (4153, 0.0), (4154, 0.0027578308728540843), (4155, 0.0010083610055373362), (4156, 0.0010692622579642622), (4157, 0.0), (4158, 0.002876325577630928), (4159, 0.0), (4160, 0.0025126449354595714), (4161, 0.0014125301447920021), (4162, 0.0025543479710649812), (4163, 0.015275285825807125), (4164, 0.006565752840035839), (4165, 0.0017195029552699995), (4166, 0.0), (4167, 0.0), (4168, 0.0), (4169, 0.0), (4170, 0.0), (4171, 0.004016263500072703), (4172, 0.0), (4173, 0.0), (4174, 0.0010560506497787323), (4175, 0.0013439413405870316), (4176, 0.0032357806304961646), (4177, 0.0), (4178, 0.006207383108910237), (4179, 0.0), (4180, 0.0), (4181, 0.0), (4182, 0.0011778505492828339), (4183, 0.0012587196597162696), (4184, 0.0), (4185, 0.0), (4186, 0.0), (4187, 0.004811004632992085), (4188, 0.0), (4189, 0.006571146015328369), (4190, 0.0), (4191, 0.0), (4192, 0.003940716480871267), (4193, 0.0021798419333015624), (4194, 0.0), (4195, 0.0), (4196, 0.0), (4197, 0.0013055160091150365), (4198, 0.0), (4199, 0.0), (4200, 0.001331673279719689), (4201, 0.0), (4202, 0.0), (4203, 0.010186362852312603), (4204, 0.0), (4205, 0.001015035819188341), (4206, 0.005440371500535912), (4207, 0.0), (4208, 0.004848582560585071), (4209, 0.005542041893473963), (4210, 0.0), (4211, 0.0024232803955871077), (4212, 0.0), (4213, 0.0014688128644242031), (4214, 0.0), (4215, 0.0), (4216, 0.005419537379188294), (4217, 0.0), (4218, 0.0), (4219, 0.0), (4220, 0.0011197393877894286), (4221, 0.0), (4222, 0.0), (4223, 0.0), (4224, 0.0), (4225, 0.0), (4226, 0.0), (4227, 0.005776610336559846), (4228, 0.004769330919520535), (4229, 0.0), (4230, 0.0), (4231, 0.0), (4232, 0.005926854119217021), (4233, 0.0036749802303037587), (4234, 0.0), (4235, 0.0045678463344769925), (4236, 0.0), (4237, 0.0), (4238, 0.0), (4239, 0.0), (4240, 0.0037083897579811846), (4241, 0.0), (4242, 0.0), (4243, 0.0), (4244, 0.008448211843351875), (4245, 0.0010485620768317494), (4246, 0.01874417856516688), (4247, 0.0011977960521913616), (4248, 0.0021498525656628515), (4249, 0.0033596248371350955), (4250, 0.0), (4251, 0.003977112948070396), (4252, 0.07428559264589567), (4253, 0.0), (4254, 0.0024051731514456954), (4255, 0.0032135245723034205), (4256, 0.0), (4257, 0.0010476397388028778), (4258, 0.0), (4259, 0.0016362975856896293), (4260, 0.0), (4261, 0.0027775801597070653), (4262, 0.0026219237968190647), (4263, 0.0), (4264, 0.0023535435213696888), (4265, 0.0058068959140598056), (4266, 0.0016657725191278707), (4267, 0.003719675142617306), (4268, 0.004737692936811963), (4269, 0.002633504035376285), (4270, 0.0), (4271, 0.0), (4272, 0.0), (4273, 0.0013470669991050028), (4274, 0.001776072766845255), (4275, 0.0023741888034232183), (4276, 0.0), (4277, 0.001562369000496527), (4278, 0.0), (4279, 0.0), (4280, 0.001804010043816739), (4281, 0.004132937729967768), (4282, 0.0038848901534387845), (4283, 0.003949454129476239), (4284, 0.007685233066248379), (4285, 0.0032118503396393987), (4286, 0.005345180938862094), (4287, 0.0020428247306260162), (4288, 0.03454417934984118), (4289, 0.003992101268824971), (4290, 0.0021359345386072286), (4291, 0.0), (4292, 0.0022649064491459606), (4293, 0.0), (4294, 0.0), (4295, 0.001397877264461683), (4296, 0.0013294052068372351), (4297, 0.0), (4298, 0.0023717984588055873), (4299, 0.003085198215647619), (4300, 0.0), (4301, 0.001253143093640103), (4302, 0.0), (4303, 0.0), (4304, 0.002472220955815341), (4305, 0.0), (4306, 0.002523278317362158), (4307, 0.007742942839623872), (4308, 0.004394882161041472), (4309, 0.003305070035396534), (4310, 0.0022776243339738995), (4311, 0.0015579254531036554), (4312, 0.002383637689579602), (4313, 0.0), (4314, 0.0), (4315, 0.0), (4316, 0.0), (4317, 0.0), (4318, 0.001430443666754296), (4319, 0.0), (4320, 0.0012772709803176101), (4321, 0.0013266826230217909), (4322, 0.0020288486111495743), (4323, 0.0), (4324, 0.0), (4325, 0.005980226978660619), (4326, 0.0014674557242594876), (4327, 0.0), (4328, 0.0019265119982978046), (4329, 0.0), (4330, 0.0013992374135223824), (4331, 0.00884125497195533), (4332, 0.0), (4333, 0.0034357593378144397), (4334, 0.0013474052945932405), (4335, 0.0), (4336, 0.0011539010978651378), (4337, 0.0029752163338280595), (4338, 0.0), (4339, 0.0021732330694185587), (4340, 0.0018570714150825734), (4341, 0.0), (4342, 0.0), (4343, 0.0014044483714208621), (4344, 0.0022840032522104302), (4345, 0.0011350764301011874), (4346, 0.0), (4347, 0.0), (4348, 0.0013925140749067653), (4349, 0.0012914727504263412), (4350, 0.0010280445332583015), (4351, 0.0), (4352, 0.0), (4353, 0.0), (4354, 0.0012886961203832767), (4355, 0.0012400153134880872), (4356, 0.0013078221152933245), (4357, 0.001182701062826454), (4358, 0.0), (4359, 0.0016156114403558823), (4360, 0.0022552527589736414), (4361, 0.002857836547813092), (4362, 0.08690095784391162), (4363, 0.0013053575917411212), (4364, 0.0), (4365, 0.002090992293928721), (4366, 0.002162525451937671), (4367, 0.0), (4368, 0.0018700875339639244), (4369, 0.0022442812772626363), (4370, 0.0), (4371, 0.001272038952543779), (4372, 0.0), (4373, 0.0), (4374, 0.007716749015810822), (4375, 0.09191032524451428), (4376, 0.0018389517094080324), (4377, 0.0038646289327040036), (4378, 0.11254354252290392), (4379, 0.0078009041724920025), (4380, 0.006514676584480628), (4381, 0.0016338071705773735), (4382, 0.0012009652674585891), (4383, 0.0021817594053720074), (4384, 0.0023184933374330277), (4385, 0.0), (4386, 0.0028384030917819767), (4387, 0.00658145979358811), (4388, 0.0), (4389, 0.0025143182366342354), (4390, 0.0035709048310265438), (4391, 0.00134710589714455), (4392, 0.002212840061082478), (4393, 0.0), (4394, 0.0012847845791835154), (4395, 0.0021741554926043133), (4396, 0.09229286268084319), (4397, 0.0012998232453302803), (4398, 0.00444796083087595), (4399, 0.0012485867535469168), (4400, 0.004845214736039985), (4401, 0.0014242867342672601), (4402, 0.0028056538900185952), (4403, 0.03051834762047634), (4404, 0.0), (4405, 0.0), (4406, 0.0), (4407, 0.0), (4408, 0.0), (4409, 0.0012868314107769762), (4410, 0.0), (4411, 0.0008770972891337012), (4412, 0.00552354154013675), (4413, 0.0), (4414, 0.0), (4415, 0.0), (4416, 0.0018411614871797126), (4417, 0.0), (4418, 0.0024082481556100565), (4419, 0.0022096152102402313), (4420, 0.0011107277921271893), (4421, 0.0), (4422, 0.0011225200542053615), (4423, 0.0), (4424, 0.0), (4425, 0.0), (4426, 0.001791739531463164), (4427, 0.0014631329154760563), (4428, 0.0010605696479401958), (4429, 0.0009698761356324446), (4430, 0.0029745522517568563), (4431, 0.009344664831836973), (4432, 0.003586354719242734), (4433, 0.0), (4434, 0.0), (4435, 0.0043329231558962055), (4436, 0.009152766826714936), (4437, 0.0), (4438, 0.0020972052617051345), (4439, 0.0), (4440, 0.0), (4441, 0.0020359047883787063), (4442, 0.004093572857091954), (4443, 0.0), (4444, 0.0), (4445, 0.0011283662029356743), (4446, 0.0018565791227045996), (4447, 0.0), (4448, 0.0016810524151849), (4449, 0.0), (4450, 0.004641492861989241), (4451, 0.0), (4452, 0.0), (4453, 0.0), (4454, 0.0), (4455, 0.0), (4456, 0.0), (4457, 0.0), (4458, 0.0), (4459, 0.0), (4460, 0.0), (4461, 0.0016129639612302387), (4462, 0.002374422313217144), (4463, 0.0), (4464, 0.0033005936519122743), (4465, 0.013166960980106689), (4466, 0.0023592494201684863), (4467, 0.0), (4468, 0.002578099623333232), (4469, 0.0), (4470, 0.003737172107565725), (4471, 0.0014268118162910147), (4472, 0.0013398348523921903), (4473, 0.000845139716218148), (4474, 0.01082987091943479), (4475, 0.006316030773343112), (4476, 0.0010833050254269946), (4477, 0.01152251465521653), (4478, 0.0), (4479, 0.001029500780990666), (4480, 0.0), (4481, 0.006142950851884243), (4482, 0.0), (4483, 0.0), (4484, 0.001995748709122372), (4485, 0.0), (4486, 0.0033875535303322193), (4487, 0.0013123381416550012), (4488, 0.002761334413131995), (4489, 0.0013548576621799351), (4490, 0.0), (4491, 0.0), (4492, 0.0), (4493, 0.0), (4494, 0.004393761214618637), (4495, 0.005419649374946453), (4496, 0.0), (4497, 0.0024094113758998757), (4498, 0.0), (4499, 0.0), (4500, 0.0), (4501, 0.0013389057046584165), (4502, 0.004588658948360825), (4503, 0.008626666076316961), (4504, 0.0009996259474275126), (4505, 0.0024094113758998757), (4506, 0.0), (4507, 0.0012229285294323284), (4508, 0.0), (4509, 0.0), (4510, 0.006417001325586867), (4511, 0.0010732630815208138), (4512, 0.0), (4513, 0.0026147967301694444), (4514, 0.0), (4515, 0.0), (4516, 0.001352876013700624), (4517, 0.015165015640189567), (4518, 0.005121131882423957), (4519, 0.0), (4520, 0.0011546925483996225), (4521, 0.004091782066976889), (4522, 0.0), (4523, 0.0038423394267122846), (4524, 0.004196880806487949), (4525, 0.0), (4526, 0.0), (4527, 0.0), (4528, 0.001481672640290285), (4529, 0.0021636278046342746), (4530, 0.0008520864215830328), (4531, 0.0075288229431902925), (4532, 0.0), (4533, 0.003233663956019277), (4534, 0.003046055402135787), (4535, 0.0013253612809099081), (4536, 0.0011695710877442432), (4537, 0.0), (4538, 0.0), (4539, 0.0), (4540, 0.0), (4541, 0.0), (4542, 0.0), (4543, 0.006677208074049415), (4544, 0.00444796083087595), (4545, 0.0019127135107203526), (4546, 0.011434527497737565), (4547, 0.0), (4548, 0.00614445245583985), (4549, 0.0), (4550, 0.0012351775846852983), (4551, 0.007890702767796444), (4552, 0.002088040765139612), (4553, 0.006285245437167431), (4554, 0.0), (4555, 0.002068392174059384), (4556, 0.0), (4557, 0.0036711027770222606), (4558, 0.0), (4559, 0.0), (4560, 0.0), (4561, 0.0), (4562, 0.0), (4563, 0.0012076083395648949), (4564, 0.0), (4565, 0.0), (4566, 0.001547616803349633), (4567, 0.002980123327906564), (4568, 0.0), (4569, 0.0), (4570, 0.0), (4571, 0.0), (4572, 0.0), (4573, 0.006210976161633418), (4574, 0.0013184701304839023), (4575, 0.0014527432650574769), (4576, 0.0035483723461165392), (4577, 0.0), (4578, 0.0), (4579, 0.004323972919708231), (4580, 0.0), (4581, 0.0027802447240985444), (4582, 0.002221851771101038), (4583, 0.0), (4584, 0.0025962533641656956), (4585, 0.0020824286513968643), (4586, 0.0023554406280601498), (4587, 0.0035564644344535973), (4588, 0.0), (4589, 0.0), (4590, 0.0032237168815424733), (4591, 0.0026652973946113545), (4592, 0.0), (4593, 0.0), (4594, 0.004456502195882135), (4595, 0.008463380220413487), (4596, 0.0), (4597, 0.0), (4598, 0.0016052915695280794), (4599, 0.0), (4600, 0.0), (4601, 0.007018581053221239), (4602, 0.0012640403893005969), (4603, 0.0012463732569873865), (4604, 0.0022009689899963117), (4605, 0.0013444617368526615), (4606, 0.006770516180783598), (4607, 0.0), (4608, 0.0008762101985952232), (4609, 0.0), (4610, 0.003922389662678368), (4611, 0.005467227223867765), (4612, 0.012054687852735727), (4613, 0.0), (4614, 0.25480579065089126), (4615, 0.0), (4616, 0.0012709396607565619), (4617, 0.0), (4618, 0.0), (4619, 0.0), (4620, 0.0010272987668355083), (4621, 0.0022644061877444676), (4622, 0.0), (4623, 0.006027310874102078), (4624, 0.0037619390378820275), (4625, 0.0015682142456287936), (4626, 0.0011426327930262427), (4627, 0.0016853314549518804), (4628, 0.0), (4629, 0.0050493524803159225), (4630, 0.0030814036592451267), (4631, 0.0), (4632, 0.0), (4633, 0.0013597382581189681), (4634, 0.0012238886468243359), (4635, 0.0), (4636, 0.0011775360609625376), (4637, 0.0), (4638, 0.0016942539050914644), (4639, 0.0025943503614616775), (4640, 0.000964280034531458), (4641, 0.0010525583396002512), (4642, 0.0046204808324382595), (4643, 0.0), (4644, 0.0), (4645, 0.0), (4646, 0.0), (4647, 0.0), (4648, 0.0), (4649, 0.0011919301311960552), (4650, 0.002573094137401258), (4651, 0.0), (4652, 0.0027351652780832868), (4653, 0.0037049372963421003), (4654, 0.0), (4655, 0.0), (4656, 0.0), (4657, 0.0013034602283842418), (4658, 0.008278903641279811), (4659, 0.0), (4660, 0.0), (4661, 0.0026238487907969303), (4662, 0.0), (4663, 0.003584595443936263), (4664, 0.006250062846789578), (4665, 0.005040322136278999), (4666, 0.0), (4667, 0.0), (4668, 0.0015287102269472238), (4669, 0.007255283352252104), (4670, 0.003943149807443407), (4671, 0.0), (4672, 0.0), (4673, 0.007135567813558352), (4674, 0.004187638148006575), (4675, 0.0), (4676, 0.0), (4677, 0.0036435755126373853), (4678, 0.002132940784947622), (4679, 0.006234971397363575), (4680, 0.001687675728032808), (4681, 0.0), (4682, 0.0), (4683, 0.0), (4684, 0.0064380616188790245), (4685, 0.005273077774463009), (4686, 0.00138555886430971), (4687, 0.001330091886635047), (4688, 0.0), (4689, 0.0018971425282220962), (4690, 0.0), (4691, 0.007478984747476786), (4692, 0.002748021774373606), (4693, 0.0), (4694, 0.0016584451743740496), (4695, 0.0017986312514533134), (4696, 0.005757616149720211), (4697, 0.0), (4698, 0.0), (4699, 0.0), (4700, 0.0), (4701, 0.0), (4702, 0.0), (4703, 0.0023831238751192193), (4704, 0.0), (4705, 0.004707251119314396), (4706, 0.004913316811891662), (4707, 0.0), (4708, 0.0025504117943714742), (4709, 0.0), (4710, 0.012973572947972498), (4711, 0.0), (4712, 0.001453979910039803), (4713, 0.004172027335942845), (4714, 0.0), (4715, 0.00425813608647997), (4716, 0.0), (4717, 0.0), (4718, 0.005579987449313318), (4719, 0.0), (4720, 0.0), (4721, 0.0), (4722, 0.014609564940893233), (4723, 0.005704126521619419), (4724, 0.0), (4725, 0.0), (4726, 0.0), (4727, 0.004171477314353874), (4728, 0.0), (4729, 0.002857836547813092), (4730, 0.0), (4731, 0.0), (4732, 0.002980981089354851), (4733, 0.0036396300315531555), (4734, 0.0028787043561346085), (4735, 0.0), (4736, 0.0), (4737, 0.0), (4738, 0.0), (4739, 0.0), (4740, 0.0), (4741, 0.0), (4742, 0.0), (4743, 0.0014778550340707956), (4744, 0.0018791341128949648), (4745, 0.0), (4746, 0.00813630379278102), (4747, 0.0), (4748, 0.0009017290193449386), (4749, 0.005111322426228125), (4750, 0.0), (4751, 0.0), (4752, 0.0007532925544935559), (4753, 0.0), (4754, 0.0), (4755, 0.0), (4756, 0.0), (4757, 0.00584312529360659), (4758, 0.0), (4759, 0.0)]\n"
          ]
        }
      ]
    },
    {
      "cell_type": "code",
      "source": [
        "len(Recommandation_Score )"
      ],
      "metadata": {
        "colab": {
          "base_uri": "https://localhost:8080/"
        },
        "id": "wYJDvFnCxCBf",
        "outputId": "30b06aa2-d5cc-4938-c218-9859a6921c0e"
      },
      "execution_count": 75,
      "outputs": [
        {
          "output_type": "execute_result",
          "data": {
            "text/plain": [
              "4760"
            ]
          },
          "metadata": {},
          "execution_count": 75
        }
      ]
    },
    {
      "cell_type": "code",
      "source": [
        "Sorted_Similar_Movies = sorted(Recommandation_Score, key=lambda x: x[1], reverse=True)\n",
        "print(Sorted_Similar_Movies)"
      ],
      "metadata": {
        "colab": {
          "base_uri": "https://localhost:8080/"
        },
        "id": "Bhjvq7NJxCHN",
        "outputId": "1cba61b8-9365-4c3c-a46a-1e751cb11b7d"
      },
      "execution_count": 77,
      "outputs": [
        {
          "output_type": "stream",
          "name": "stdout",
          "text": [
            "[(2692, 1.0000000000000002), (2903, 0.43474503817895854), (2558, 0.34072397236458046), (1070, 0.29225212981417087), (45, 0.2742681079776349), (4614, 0.25480579065089126), (628, 0.24110087739814715), (1320, 0.20201610267902306), (3946, 0.17722049282841013), (3351, 0.17396922494559008), (2694, 0.17352845161396183), (2985, 0.1684760552124264), (2123, 0.16661884333867813), (3973, 0.1616981661993846), (2375, 0.16096282133872608), (2214, 0.1546098415626877), (2716, 0.15363162990669627), (3249, 0.1530861543808771), (2026, 0.14877555107895432), (830, 0.14477695907809576), (694, 0.14451311372206938), (2846, 0.14387756465248416), (3655, 0.14370231403191555), (1311, 0.14242423481085406), (2321, 0.14094005415119465), (3360, 0.13816317525233648), (1821, 0.13588282177815014), (2540, 0.13139443235851767), (172, 0.1310884808443028), (3486, 0.12884803270491405), (179, 0.1271221103268168), (2014, 0.12706750106585923), (381, 0.12236269742391226), (213, 0.12202779597244334), (590, 0.11993471085753152), (3518, 0.1192399989188452), (2122, 0.11590797849004182), (1118, 0.11375705923436288), (4378, 0.11254354252290392), (873, 0.11202302731528962), (2187, 0.11131725642208265), (328, 0.11129743740553262), (67, 0.10950579104370575), (65, 0.1084613430534166), (935, 0.10828915751440701), (2859, 0.1063188858825662), (455, 0.10569909879095347), (3137, 0.10486402589030688), (1991, 0.10322057863091746), (3280, 0.10288789916373503), (1363, 0.10229682166152011), (836, 0.09960879158005152), (2147, 0.09351112755557435), (387, 0.09311780915565378), (4396, 0.09229286268084319), (4375, 0.09191032524451428), (277, 0.09183811655589966), (1982, 0.09165046042038656), (1148, 0.09154970450291205), (360, 0.09110701843146318), (4362, 0.08690095784391162), (1362, 0.08578637284612006), (2308, 0.08343330658815276), (84, 0.08215910158480824), (2155, 0.079711119525493), (4252, 0.07428559264589567), (710, 0.07260406727389282), (3465, 0.06680598462951427), (3154, 0.035690087588516696), (888, 0.03555250474290521), (4288, 0.03454417934984118), (2406, 0.03162489317771136), (4403, 0.03051834762047634), (905, 0.0278583724900265), (2795, 0.02691159341039197), (947, 0.025720138033047703), (3012, 0.025034121838065762), (3076, 0.02498914645240062), (2649, 0.023706390181337855), (3374, 0.023625855162617053), (3019, 0.02334364039764846), (678, 0.023059282516910355), (2210, 0.023031196518047352), (3267, 0.020994012503138704), (904, 0.020706978625881806), (3297, 0.02048196794388239), (3110, 0.019793162935407106), (2908, 0.019254868324949492), (4246, 0.01874417856516688), (2464, 0.01850349351485751), (3978, 0.018275305704624153), (3450, 0.01788347413314426), (2600, 0.01744967495352341), (2427, 0.017197987576019876), (3306, 0.01699088584685273), (68, 0.016799987695088153), (3097, 0.016055694768428354), (3999, 0.01586361429825559), (3901, 0.015782113270804747), (2191, 0.015640894512996144), (4163, 0.015275285825807125), (4517, 0.015165015640189567), (1115, 0.015062328917360368), (795, 0.015003503241088482), (3959, 0.01498871164578188), (123, 0.014679286244187729), (4722, 0.014609564940893233), (2519, 0.014596923412591), (2949, 0.01453323521650949), (4088, 0.01449802271892647), (1058, 0.014347995974346136), (2913, 0.01419370576945459), (3086, 0.013981530094962917), (3382, 0.013185318119074215), (4465, 0.013166960980106689), (2023, 0.013041959062646748), (4710, 0.012973572947972498), (861, 0.012915873101012755), (3521, 0.012915873101012755), (2428, 0.01269485593818145), (2459, 0.01267951846369918), (2939, 0.012646812058009271), (3947, 0.012579346343023469), (3325, 0.012422410506109975), (458, 0.012373451805498065), (3453, 0.012354843981044009), (2324, 0.012149384644785769), (2487, 0.01206302275380469), (4612, 0.012054687852735727), (2777, 0.011955034194966314), (181, 0.011882277820196225), (2276, 0.01183099088247591), (3123, 0.011746919957073255), (3862, 0.011739765458504076), (2879, 0.011650547270843185), (760, 0.011573014194477909), (4477, 0.01152251465521653), (4546, 0.011434527497737565), (1325, 0.011339265326579659), (2625, 0.011274053664171103), (2815, 0.011208049950001218), (3095, 0.010990985274398447), (3597, 0.010967897763038924), (4474, 0.01082987091943479), (682, 0.010779852931572735), (3504, 0.010725445770298311), (162, 0.010723954114333028), (3741, 0.01066234619138091), (928, 0.010611728548971798), (1572, 0.010480351239055562), (1388, 0.010338737289915679), (4116, 0.010203727638276105), (4203, 0.010186362852312603), (3043, 0.010160020283393004), (3842, 0.010007172439657885), (461, 0.00996254356492217), (1442, 0.009920952733866239), (986, 0.009908269593474638), (429, 0.009879902351636344), (2284, 0.009803100173941124), (3466, 0.009677521043857844), (2037, 0.009651938415124099), (2506, 0.009651461362973122), (450, 0.009582560815108398), (109, 0.009561045628122267), (991, 0.009543056674268758), (3022, 0.009531375436296018), (2388, 0.009498206372506769), (224, 0.009458145670754457), (613, 0.00941922086736914), (2486, 0.009415101069974492), (3897, 0.009392266070374633), (2196, 0.00934830477195753), (4431, 0.009344664831836973), (3384, 0.00932768798168133), (122, 0.009290398487636329), (3637, 0.009196807614854093), (4436, 0.009152766826714936), (3168, 0.009135638264367973), (1224, 0.009075010096139615), (3448, 0.008883536216598409), (875, 0.008874944911958279), (481, 0.008849639242194337), (2053, 0.00884754645059933), (4331, 0.00884125497195533), (1716, 0.008705233443783131), (673, 0.008656089851474437), (584, 0.008629334218702558), (4503, 0.008626666076316961), (2727, 0.00862264265058457), (675, 0.008598270835061119), (670, 0.008553403071503058), (1335, 0.008504275467384331), (3370, 0.008485581970472021), (3995, 0.008463380220413487), (4595, 0.008463380220413487), (4244, 0.008448211843351875), (643, 0.008445918393179264), (1064, 0.00842027671188477), (3670, 0.008397715843690205), (2254, 0.008395267571303097), (447, 0.008391471213102356), (4068, 0.008361566442612146), (210, 0.008354365339045787), (2668, 0.008344379055905668), (2996, 0.008308098298340668), (4658, 0.008278903641279811), (2040, 0.008229232944113124), (879, 0.008210136132475485), (124, 0.008204571141498505), (2948, 0.008178597030765535), (1997, 0.00816297818894032), (4746, 0.00813630379278102), (967, 0.008132979184798814), (2925, 0.008125644507316324), (1141, 0.008102453791360154), (2096, 0.00808350636118638), (2250, 0.008083269622275424), (690, 0.008080159057879137), (236, 0.0080534088027959), (3899, 0.008050255523404602), (21, 0.008035250164357122), (3210, 0.00802379641949995), (701, 0.008023150481716115), (3777, 0.008011737252675061), (2112, 0.007957305617893987), (1264, 0.007955026151872317), (1983, 0.007952508920038869), (1015, 0.007938728976510226), (4551, 0.007890702767796444), (2162, 0.007862397698294783), (48, 0.007856017119991374), (939, 0.00785097987860073), (689, 0.007840288174235838), (2739, 0.007815115594105112), (676, 0.00780827844795213), (2978, 0.007807915808702007), (4379, 0.0078009041724920025), (1483, 0.007776777157003858), (3117, 0.007742942839623872), (4307, 0.007742942839623872), (4374, 0.007716749015810822), (4284, 0.007685233066248379), (1681, 0.007682248185712806), (2695, 0.007671135041808634), (3303, 0.00767065467621973), (3640, 0.007666202320773404), (2910, 0.0076603591903542205), (622, 0.007641528395547334), (1985, 0.007630973203616442), (1343, 0.00762545441502595), (4148, 0.00762333806766081), (3961, 0.007619870984991699), (4050, 0.00758927217648832), (948, 0.007532036749492161), (4531, 0.0075288229431902925), (1248, 0.007517073964845054), (2178, 0.007499198082503163), (532, 0.007498120714452196), (1360, 0.007479581567244763), (4691, 0.007478984747476786), (621, 0.007476410919666712), (3775, 0.0074673194094911416), (1237, 0.007419723745679308), (497, 0.007406350613003671), (2522, 0.007388613969795573), (853, 0.007348191515296064), (918, 0.0073312203039698765), (89, 0.007314458634601615), (1132, 0.007310016006026359), (112, 0.007300126202126172), (3849, 0.0072911756496635855), (1412, 0.007281346549863326), (2602, 0.007280551213584438), (533, 0.007263109442109937), (2645, 0.007256018595025827), (4669, 0.007255283352252104), (825, 0.007234029097569439), (1035, 0.007231261604877647), (500, 0.007229770012770008), (896, 0.007210624678201141), (1542, 0.007210081845747612), (190, 0.007203129309482144), (2447, 0.007201333648588045), (87, 0.007199045622959201), (1740, 0.007193214143888586), (1506, 0.00718111961479539), (1183, 0.007176729823244783), (3699, 0.007171406597051611), (4673, 0.007135567813558352), (1481, 0.007126639115701432), (418, 0.007119443102593695), (1815, 0.007118304220416014), (4033, 0.007117414404727297), (2617, 0.007071646905107998), (3483, 0.007070002669346856), (1687, 0.007065422702584084), (1184, 0.007063895393374974), (534, 0.007061103900057942), (1417, 0.007056355297930948), (2189, 0.00705238707022934), (2861, 0.00705238707022934), (2993, 0.00705238707022934), (3118, 0.007039421458830349), (1509, 0.007035456164534533), (1017, 0.0070320707895015966), (753, 0.0070220952765960845), (4601, 0.007018581053221239), (2412, 0.007000022197787708), (2224, 0.006988292592790465), (988, 0.006985230843794531), (3756, 0.00697609166187776), (3155, 0.0069530348805035246), (1275, 0.006948761799020603), (3317, 0.0069251236004565404), (3534, 0.006919869067043575), (878, 0.006906339661944032), (937, 0.006906307434704731), (3437, 0.006872100683407023), (860, 0.0068676224725643525), (2771, 0.0068594267701798176), (2919, 0.006859128077490258), (2788, 0.006854571338265305), (1119, 0.0068505132625016766), (2154, 0.00684902938944008), (2722, 0.0068463657302660205), (2024, 0.006836610451708407), (870, 0.006823886975486174), (3659, 0.006818923630200377), (3140, 0.006806637494977097), (2918, 0.006800543173137198), (1252, 0.006773690431498835), (1739, 0.006772005416025606), (4606, 0.006770516180783598), (18, 0.006761631009190945), (3642, 0.006750895956985064), (51, 0.0067483494727175655), (1942, 0.006734062127424924), (3219, 0.006707586668662025), (1047, 0.006698560955384056), (145, 0.006696476010914172), (4123, 0.006692475069660097), (4543, 0.006677208074049415), (2963, 0.006657236942001967), (842, 0.006647982121707318), (2334, 0.006644249238589357), (952, 0.006633150377625121), (2448, 0.006616299483600913), (3794, 0.0066133560932227714), (1949, 0.006606374056324745), (866, 0.006590807968569388), (4387, 0.00658145979358811), (4189, 0.006571146015328369), (1478, 0.006565840796213872), (4164, 0.006565752840035839), (652, 0.00656554738559836), (3807, 0.0065542462266886415), (542, 0.006544531956219464), (799, 0.006531010009490167), (4380, 0.006514676584480628), (2808, 0.006510956055857827), (422, 0.006509454266317026), (1337, 0.006506965760324494), (2070, 0.006494514449677694), (501, 0.006475916015382756), (3694, 0.006460914278883866), (199, 0.006459449594224113), (1232, 0.006453262848418394), (502, 0.006451152548625941), (1369, 0.006450054807452018), (4004, 0.00644909524418235), (4684, 0.0064380616188790245), (2317, 0.006426419953168171), (2416, 0.006426419953168171), (669, 0.006421068614355572), (2344, 0.006419645645832932), (530, 0.0064174704921462385), (4510, 0.006417001325586867), (4121, 0.006415417375195492), (3951, 0.006415000506132168), (2216, 0.00636667704357274), (1591, 0.006341880519733317), (1621, 0.006338495280720023), (942, 0.00632470087068443), (4475, 0.006316030773343112), (3139, 0.006312027008364624), (3660, 0.006299411674333237), (1595, 0.006296226652697967), (4553, 0.006285245437167431), (4118, 0.006273200329346876), (148, 0.006250462811764077), (4664, 0.006250062846789578), (1667, 0.006238526033383721), (2624, 0.006238129758888689), (2524, 0.006236918892118762), (4679, 0.006234971397363575), (2784, 0.006224647709164077), (2280, 0.00621770392269414), (4573, 0.006210976161633418), (4178, 0.006207383108910237), (3291, 0.006205715725017347), (2961, 0.0062053691365837205), (291, 0.0061961926347314875), (207, 0.006193782628444763), (1071, 0.006192810136816527), (1967, 0.006192226373089794), (105, 0.006190631291422054), (2559, 0.006187603347477366), (1629, 0.0061718787908243405), (654, 0.006162137151909724), (1054, 0.006148179250097926), (149, 0.0061451973198960765), (4548, 0.00614445245583985), (4481, 0.006142950851884243), (2126, 0.006142239874635013), (3992, 0.006134843116375387), (543, 0.0061314643635886346), (2607, 0.0061258099658745005), (1385, 0.006123629951613958), (2066, 0.0061205688421923105), (629, 0.006119616665206254), (2994, 0.006118347989182559), (2780, 0.0061071660256592905), (3924, 0.006105895421128777), (3334, 0.006105008177491812), (3768, 0.006104026113988432), (1024, 0.006096356977434488), (1680, 0.006094972199384888), (4096, 0.006094225993598815), (560, 0.006082442609728179), (2619, 0.006077043981221155), (2555, 0.006071706798062386), (806, 0.006070759742612071), (876, 0.006046090210927135), (1853, 0.006044007093363709), (2097, 0.0060405238336078415), (4623, 0.006027310874102078), (915, 0.006026576395520669), (1236, 0.006003860655625126), (304, 0.005993756769028619), (166, 0.0059928109308704635), (370, 0.005984847520954713), (4325, 0.005980226978660619), (396, 0.005978459357474527), (2174, 0.005964862871500038), (2742, 0.005940597679394942), (2212, 0.005936855893115073), (138, 0.005935177059799804), (4232, 0.005926854119217021), (1671, 0.0059191584210498), (137, 0.00589617962113146), (1678, 0.005880582312092144), (4757, 0.00584312529360659), (3925, 0.005839822756090736), (2475, 0.005834190610312089), (1104, 0.005824488665436597), (2937, 0.005810936111708224), (3318, 0.005809447652645429), (3721, 0.005808481543181783), (4265, 0.0058068959140598056), (2601, 0.005779851178248089), (4227, 0.005776610336559846), (4696, 0.005757616149720211), (1665, 0.0057400647748876155), (1432, 0.005734851974304032), (2348, 0.0057335930433217025), (1858, 0.005733336200795457), (1419, 0.005728409237389896), (3612, 0.005712533643999024), (1314, 0.00571125273424976), (4723, 0.005704126521619419), (2886, 0.005701446184928731), (3819, 0.005692102669578501), (1137, 0.005690947605010656), (4000, 0.005688882716738653), (1832, 0.005680849325427867), (1789, 0.005670233545664351), (2947, 0.005667317848430087), (1970, 0.005651515727454857), (3045, 0.005623788103495168), (3680, 0.005616200702059693), (653, 0.005613297268726551), (1061, 0.005596118121443513), (2206, 0.005593225816072613), (2080, 0.005588694832717761), (1776, 0.005585013234187723), (1292, 0.005584128547089706), (1436, 0.0055820527176914485), (4718, 0.005579987449313318), (3535, 0.005578964108711419), (276, 0.005558021669090835), (1923, 0.005543686905056488), (4209, 0.005542041893473963), (463, 0.00553505131332708), (485, 0.005528494557593157), (334, 0.005526340713451524), (4412, 0.00552354154013675), (2310, 0.0055206700377097425), (1162, 0.005517259891267053), (989, 0.005498952715377632), (3070, 0.005494657304006599), (483, 0.005481817115039518), (3085, 0.005469713633949673), (4611, 0.005467227223867765), (827, 0.005460929546875562), (2429, 0.005460270391677673), (1992, 0.005456698204605155), (2697, 0.0054441075070577535), (4206, 0.005440371500535912), (4495, 0.005419649374946453), (4216, 0.005419537379188294), (274, 0.005413698276942259), (1471, 0.005405227401815132), (1806, 0.005403147555844729), (1107, 0.00540068150363868), (4060, 0.0053968843867402624), (2119, 0.005381152383826377), (201, 0.00537334813343999), (3403, 0.005371445050476908), (2744, 0.005367592923447368), (2318, 0.005363516905029292), (3507, 0.00536101882700132), (5, 0.0053515688011423245), (891, 0.005349395922459009), (695, 0.0053486851779865775), (4286, 0.005345180938862094), (2029, 0.005338025088667897), (2075, 0.00533402711209527), (3074, 0.0053271277069806946), (2689, 0.005319709837500673), (1063, 0.005318619491664476), (1074, 0.005317397197885776), (83, 0.0053145567252658715), (479, 0.005296054975460429), (4151, 0.00529453172477268), (1259, 0.005288717684832011), (1303, 0.005283801117267251), (604, 0.005282494145256052), (4685, 0.005273077774463009), (2791, 0.005264247457210406), (147, 0.005262579812662907), (930, 0.00525300006270004), (342, 0.0052516666860569295), (4124, 0.005232623181558703), (683, 0.005204368479671271), (3240, 0.005188743345419358), (931, 0.0051849810277251), (209, 0.0051840997256014645), (2512, 0.0051834759179267605), (3516, 0.00518308093233068), (2832, 0.005175458692480502), (3218, 0.005175458692480502), (1874, 0.005167800943758153), (976, 0.005162673752711131), (2740, 0.005161286285718451), (1799, 0.005157030198318904), (1989, 0.005150976235341796), (791, 0.005144464466323139), (1317, 0.005125158504421235), (4518, 0.005121131882423957), (916, 0.00511840414518186), (4019, 0.005111322426228125), (4749, 0.005111322426228125), (4053, 0.005110624434576938), (874, 0.005108346177349098), (287, 0.005104647066923048), (2907, 0.0051008155790029895), (2077, 0.005094703841177482), (1387, 0.005087464306326806), (1527, 0.005083734252211308), (3232, 0.005080340004199992), (2228, 0.005074443981908918), (4120, 0.005069348486404855), (4629, 0.0050493524803159225), (2868, 0.005041003554673947), (4665, 0.005040322136278999), (558, 0.0050400279869232895), (3993, 0.0050168680541110055), (1736, 0.005015452366209866), (142, 0.004990060352714106), (1092, 0.004986598642521966), (2304, 0.004979915461582236), (1727, 0.004975281285374611), (1438, 0.004972724855548238), (3125, 0.004965578019644269), (2738, 0.004950048261118708), (2809, 0.004948622137474991), (3854, 0.004942688604966576), (435, 0.004941491310808934), (4094, 0.004936268184284176), (1796, 0.004926426972296829), (52, 0.004921592394371269), (4706, 0.004913316811891662), (1406, 0.004912221054728588), (2057, 0.004906987832454896), (1019, 0.004905340446238548), (1958, 0.004899440997038349), (735, 0.0048937566016630405), (2748, 0.0048937566016630405), (3214, 0.0048937566016630405), (144, 0.00489063732694754), (3192, 0.004888781916561484), (790, 0.004886723469215049), (1339, 0.0048855212609370735), (667, 0.00488129318581694), (2546, 0.00487748869660105), (1000, 0.004874672221677193), (2614, 0.004870692282307608), (1018, 0.004860495490100125), (1230, 0.004850674783551444), (4208, 0.004848582560585071), (4400, 0.004845214736039985), (256, 0.004838844614353996), (70, 0.004837923405285452), (3613, 0.004834467862772967), (801, 0.004834339794412935), (1053, 0.0048240183552434), (1455, 0.004823710804567905), (1498, 0.004817137507032165), (2336, 0.004814907751715592), (3763, 0.00481238277632781), (4187, 0.004811004632992085), (3956, 0.004808709701564015), (1968, 0.004808480174525334), (282, 0.004791919276721658), (757, 0.004784262211069697), (2401, 0.004776870482437583), (2613, 0.004776870482437583), (2636, 0.004776870482437583), (3101, 0.004776870482437583), (3157, 0.004776870482437583), (3242, 0.004776870482437583), (3354, 0.004776870482437583), (3561, 0.004776870482437583), (3672, 0.004776870482437583), (3687, 0.004776870482437583), (3848, 0.004776870482437583), (544, 0.004775195955955981), (3645, 0.004771763336827915), (1774, 0.004771577457364244), (4228, 0.004769330919520535), (547, 0.004760787064498057), (792, 0.004756393736056182), (3127, 0.004756029564642391), (3339, 0.004754225484006166), (3120, 0.004751584738063527), (4013, 0.004738505028122559), (4268, 0.004737692936811963), (1440, 0.004736921922793602), (933, 0.00473252229386246), (1567, 0.004730927008221582), (3171, 0.004730849073983099), (2871, 0.004727154510902194), (2410, 0.004723188834658912), (684, 0.004722258173677773), (4095, 0.0047145397492135924), (2537, 0.0047113039692163496), (3042, 0.0047113039692163496), (3537, 0.0047113039692163496), (4705, 0.004707251119314396), (3582, 0.004706585239167107), (1185, 0.0046982962976475605), (1675, 0.0046940464787235785), (2110, 0.004686965861417862), (1334, 0.004682250331554564), (4016, 0.004681426735461943), (1173, 0.004680890374849547), (4089, 0.00467563926931098), (2621, 0.004669548005452973), (2349, 0.004666598430310488), (2775, 0.004666598430310488), (2890, 0.004666598430310488), (3015, 0.004666598430310488), (3067, 0.004666598430310488), (3359, 0.004666598430310488), (3425, 0.004666598430310488), (3506, 0.004666598430310488), (2881, 0.004665953967322515), (3801, 0.004655654510728462), (99, 0.004651070593069637), (1160, 0.004646106046970073), (1338, 0.004642328506983918), (4450, 0.004641492861989241), (3780, 0.004639010045379117), (3556, 0.0046345499068405896), (2440, 0.004622736896183321), (1300, 0.0046208282213882216), (4642, 0.0046204808324382595), (3860, 0.004617962273600948), (1754, 0.004615355866350385), (1937, 0.004613282527304708), (832, 0.004610739601334429), (3344, 0.004608222294001509), (4133, 0.00460788485625967), (2320, 0.004605411395521507), (2434, 0.004605411395521507), (2696, 0.004605411395521507), (2857, 0.004605411395521507), (3220, 0.004605411395521507), (3282, 0.004605411395521507), (3552, 0.004605411395521507), (3684, 0.004600900431107322), (2934, 0.004600893483238556), (4502, 0.004588658948360825), (3391, 0.004587053025443319), (170, 0.004575315842140426), (1540, 0.004571478999555977), (4235, 0.0045678463344769925), (1234, 0.004565592141653999), (126, 0.00456054870199569), (3711, 0.004555555765067963), (2016, 0.004550611682888272), (1507, 0.004548258036706083), (281, 0.004540608709591938), (3960, 0.004536080683102385), (216, 0.004533699144144823), (3264, 0.004533345917742711), (3357, 0.004529932656197217), (2966, 0.00452212599943947), (111, 0.00451562346920549), (43, 0.004514787887459871), (270, 0.004512688542236946), (910, 0.004512496039225405), (1694, 0.004507856193826439), (968, 0.004505308936149136), (244, 0.0045019738000228945), (1876, 0.004501332763067967), (696, 0.004499231511117413), (3713, 0.00449135668194224), (3666, 0.004489236476765329), (3407, 0.00448921392644174), (816, 0.0044810894502786535), (1226, 0.004476942108176163), (4594, 0.004456502195882135), (1138, 0.004450605174877189), (2923, 0.00444796083087595), (3055, 0.00444796083087595), (3128, 0.00444796083087595), (3159, 0.00444796083087595), (3719, 0.00444796083087595), (4126, 0.00444796083087595), (4398, 0.00444796083087595), (4544, 0.00444796083087595), (1987, 0.004443552164494962), (1582, 0.004440270609382534), (1257, 0.0044387991725312985), (2821, 0.004438770679299311), (3692, 0.004431245638796663), (436, 0.004424209771201347), (3731, 0.004421767779498166), (3888, 0.004419630627320209), (994, 0.0044170360462698795), (4308, 0.004394882161041472), (4494, 0.004393761214618637), (1377, 0.00438617793392131), (644, 0.004381208694730145), (2316, 0.004377149882796654), (1348, 0.004373446628930351), (2883, 0.004358525794569801), (2477, 0.004351504362717113), (4435, 0.0043329231558962055), (911, 0.0043305745741577945), (1068, 0.004325920977674379), (4579, 0.004323972919708231), (4098, 0.004309639726789616), (2391, 0.004308549459375198), (2570, 0.004308549459375198), (3183, 0.004308549459375198), (3479, 0.004308549459375198), (1429, 0.0043079181161341), (3416, 0.004302932674677637), (563, 0.0042972620768346025), (85, 0.004296497302726609), (206, 0.004295490206840505), (845, 0.004292856673243337), (2489, 0.0042911734958629094), (1939, 0.0042852735011861065), (1861, 0.004275079840543473), (3905, 0.0042722233784446605), (728, 0.004261477674358783), (4715, 0.00425813608647997), (4045, 0.004235521057391313), (2580, 0.00423524042113565), (1229, 0.004231194992396192), (3704, 0.004226482436494703), (761, 0.004222646758638737), (3408, 0.004216507137130902), (96, 0.00421634157862432), (637, 0.004211737507947474), (581, 0.004203243429928432), (254, 0.004203083494034717), (4524, 0.004196880806487949), (4674, 0.004187638148006575), (2158, 0.0041831181074075945), (2121, 0.004179551910530611), (3418, 0.0041746359471105145), (4713, 0.004172027335942845), (4727, 0.004171477314353874), (692, 0.004159778834139314), (716, 0.004153754143790456), (923, 0.004152925175719662), (829, 0.004150372698931299), (894, 0.004149063133618848), (470, 0.004148551317516316), (3331, 0.004145227207519054), (3932, 0.004134666454278523), (443, 0.004134394673187407), (4281, 0.004132937729967768), (173, 0.0041294365782806345), (2264, 0.004121613317584393), (2683, 0.004119912531096065), (333, 0.004119909829309942), (869, 0.004112889372584704), (1971, 0.004108699459977515), (47, 0.004098911935437222), (1513, 0.004097736692182032), (2752, 0.0040951118649472425), (4442, 0.004093572857091954), (4521, 0.004091782066976889), (1489, 0.004091647711530266), (1504, 0.004086033645954166), (606, 0.004077217983698764), (2350, 0.0040759915230388), (1192, 0.004066279161722004), (1866, 0.004062331376181325), (3618, 0.004060150396475956), (3771, 0.004057378170523804), (2424, 0.0040477535419567055), (1620, 0.0040406238507523454), (1290, 0.004038954986197442), (3330, 0.0040341875856763154), (3032, 0.004024011011207846), (2635, 0.004023748159236284), (4171, 0.004016263500072703), (2082, 0.004014474902669365), (1188, 0.004014174862586985), (2874, 0.004008489500511534), (1735, 0.004003369933221184), (251, 0.004003028944712045), (3474, 0.003999137900251532), (2061, 0.003996409363377853), (1255, 0.003995748185817884), (4289, 0.003992101268824971), (1330, 0.0039884083402691155), (1484, 0.003980850809148295), (729, 0.003979433715171139), (4251, 0.003977112948070396), (732, 0.003968001076522329), (120, 0.003958585353314382), (2031, 0.003957665320194691), (2971, 0.003953542110017313), (4283, 0.003949454129476239), (72, 0.003948050228280658), (494, 0.003945448181427781), (4670, 0.003943149807443407), (4192, 0.003940716480871267), (217, 0.003937557646213178), (1918, 0.00392904536140915), (743, 0.0039277508842775755), (4610, 0.003922389662678368), (719, 0.003914437485620347), (750, 0.0039109518387067934), (238, 0.0038995610558666093), (3438, 0.0038861694457131), (1864, 0.003886081136664424), (4282, 0.0038848901534387845), (1472, 0.003883420283096983), (1344, 0.0038829797158201596), (285, 0.0038795859154296683), (3797, 0.003878943433858987), (864, 0.003874754247942649), (3259, 0.003871099046866128), (981, 0.0038673710823322223), (2055, 0.003864712989008937), (4377, 0.0038646289327040036), (851, 0.0038612732513998212), (2104, 0.003854112371619931), (808, 0.00384571846991991), (3099, 0.0038439564917872246), (880, 0.003843429155265065), (4523, 0.0038423394267122846), (668, 0.0038422241274278985), (831, 0.003819638253088414), (2632, 0.0038159509254260563), (2899, 0.00379382028438286), (3149, 0.003793400785981779), (1276, 0.003785155981825907), (4046, 0.0037811024287775297), (3342, 0.003774037233082052), (266, 0.003769925053746429), (2089, 0.0037693631863818795), (1191, 0.00376850303300258), (38, 0.00376802007892552), (4105, 0.0037655203523611017), (4624, 0.0037619390378820275), (3501, 0.0037588989970837533), (3122, 0.003758346860721051), (4470, 0.003737172107565725), (580, 0.0037270446641421524), (1005, 0.0037263917770678535), (42, 0.003720440983881448), (3108, 0.0037198944712566254), (4267, 0.003719675142617306), (1865, 0.003718340991171255), (1393, 0.0037164306105977583), (1510, 0.003716183163194443), (3974, 0.0037158810746910683), (2897, 0.003714970125027389), (1383, 0.003713348947144924), (1854, 0.0037128577419363396), (3487, 0.0037116247258805243), (4240, 0.0037083897579811846), (566, 0.0037079910958561623), (4653, 0.0037049372963421003), (1231, 0.003698351016239653), (3464, 0.0036936735009615806), (833, 0.003693504630408589), (1454, 0.003688859421159732), (3514, 0.00368283940760975), (4233, 0.0036749802303037587), (4557, 0.0036711027770222606), (88, 0.0036704797217681166), (417, 0.003668627022700002), (3196, 0.003655260910165214), (4677, 0.0036435755126373853), (2443, 0.0036421132082483714), (844, 0.0036416228779551315), (280, 0.003640585720769034), (4733, 0.0036396300315531555), (1065, 0.003635871809433094), (3653, 0.0036351196080426293), (688, 0.0036330629178029953), (1145, 0.003632464834089742), (1829, 0.0036270850535197506), (368, 0.0036229217204573334), (222, 0.0036164020783725245), (106, 0.0036112843826100467), (2065, 0.0036068023745612077), (660, 0.003606242894552235), (1922, 0.003600111562510547), (3624, 0.0035992995539602998), (4005, 0.0035883720998493712), (4432, 0.003586354719242734), (3112, 0.003585945326654797), (4663, 0.003584595443936263), (3586, 0.003581728759852321), (4038, 0.0035759728428084144), (493, 0.0035720047292975825), (4390, 0.0035709048310265438), (4141, 0.003569279844325246), (804, 0.003568130733017376), (356, 0.003566282080298691), (1536, 0.003563162423969217), (1781, 0.003561721426820712), (4587, 0.0035564644344535973), (828, 0.003555971977851829), (255, 0.0035485028410296472), (4576, 0.0035483723461165392), (1940, 0.0035467437990107536), (1544, 0.0035413978461158557), (3245, 0.0035297805697025396), (1260, 0.003528800372721744), (1931, 0.0035264190297421933), (16, 0.0035244475525385665), (2076, 0.0035210439497362516), (367, 0.0035195710480600165), (727, 0.0035063459515607687), (1225, 0.003504271804409572), (2647, 0.0035020074739411447), (371, 0.003500483648779816), (2093, 0.0034947902766121917), (1413, 0.0034942825898174623), (2986, 0.003493798593102669), (345, 0.0034884042210033043), (3460, 0.0034863265550740064), (1400, 0.0034858469180789353), (107, 0.0034824221301932154), (1050, 0.0034676590470893182), (515, 0.003467179278431461), (2833, 0.0034615807448300003), (1179, 0.0034610268495851573), (3433, 0.0034579259860257746), (2208, 0.0034565756420985782), (3661, 0.0034551873249145403), (2988, 0.0034536413249899862), (1537, 0.0034477727862690195), (1223, 0.003445942822342051), (350, 0.0034444617883910103), (34, 0.0034423606734688954), (1819, 0.00343960987667311), (4333, 0.0034357593378144397), (2825, 0.0034266981611367413), (86, 0.00342223626463465), (408, 0.0034197767496431733), (1140, 0.003416379881554429), (139, 0.003414296967335759), (143, 0.0034047305466524506), (3065, 0.003394352227755899), (385, 0.0033925708065807923), (3941, 0.0033891719841317573), (108, 0.0033891692205154957), (4486, 0.0033875535303322193), (3674, 0.003378112563798522), (44, 0.0033773747428053943), (1816, 0.0033770603467506537), (908, 0.0033765502813361105), (1643, 0.0033722723389965296), (1488, 0.003371498416786838), (980, 0.0033663821583673086), (10, 0.0033660697903564346), (2495, 0.003364487959105581), (4249, 0.0033596248371350955), (1902, 0.003348323273677994), (2598, 0.0033478690588748007), (1608, 0.0033467727096129747), (927, 0.003344879076581075), (769, 0.0033442652673745816), (1892, 0.0033306661085066615), (1924, 0.0033270360890222594), (4002, 0.0033247110345971565), (1030, 0.00332258864618708), (2374, 0.0033217333282459975), (406, 0.003317413908252162), (1213, 0.003313536905358909), (868, 0.0033123183596908117), (1760, 0.0033109054234289996), (4309, 0.003305070035396534), (1779, 0.003304978938209126), (2279, 0.0033008567109537724), (4464, 0.0033005936519122743), (745, 0.003294781348520616), (800, 0.003291610303317119), (3571, 0.003286452535746428), (1078, 0.0032732811228500885), (608, 0.0032666958046766743), (733, 0.0032643912588915095), (1811, 0.003258074566348819), (2724, 0.003253326435258143), (3531, 0.003246940962980343), (3814, 0.0032441848110983072), (2606, 0.0032423243738411746), (4102, 0.0032412363412723795), (3498, 0.0032386626504370903), (4176, 0.0032357806304961646), (3436, 0.003234676538069393), (4533, 0.003233663956019277), (3570, 0.003228412436639946), (4590, 0.0032237168815424733), (369, 0.0032229069303807904), (1705, 0.0032220527976549074), (1116, 0.00322003209938852), (4255, 0.0032135245723034205), (4285, 0.0032118503396393987), (4093, 0.0032087968199540425), (2088, 0.0032072454940414944), (3889, 0.0032002371486220967), (3195, 0.003197601831051905), (1208, 0.003193059551360653), (3696, 0.0031921502858556277), (243, 0.003186195956247479), (3241, 0.003184666230543598), (2237, 0.0031795633906123526), (1653, 0.0031748153013574994), (4101, 0.0031723927986455755), (519, 0.003172275836989417), (3081, 0.0031547875282584973), (1351, 0.0031528296543211092), (1738, 0.0031473804019336218), (1433, 0.003146901089029731), (3153, 0.0031463534396691684), (2045, 0.0031390756331427204), (1555, 0.003135612925336092), (3737, 0.003135293247413019), (3283, 0.0031351484740357147), (3435, 0.003130444483810729), (1462, 0.003127711568497107), (2714, 0.00312737952382707), (1177, 0.0031205471729058697), (1981, 0.00312026662893849), (1041, 0.0031195485614537158), (3774, 0.0031170109473627654), (900, 0.0031143361027648492), (953, 0.003112286010219614), (208, 0.003111632464391177), (1585, 0.003099257365988358), (2882, 0.0030976244211735815), (3233, 0.00309548246704938), (1986, 0.0030914405854940226), (1174, 0.0030902664802632714), (1674, 0.0030857656383002667), (4299, 0.003085198215647619), (2355, 0.0030851300308489607), (1215, 0.0030836772703629767), (4630, 0.0030814036592451267), (509, 0.0030812307618264378), (2640, 0.0030803507469089947), (1707, 0.003063974789482758), (50, 0.003063579575354511), (2496, 0.003063223682320841), (1282, 0.0030616673289162698), (1076, 0.00306160741367849), (1897, 0.003060881593011023), (3206, 0.0030584203772816812), (634, 0.0030580044276217085), (1001, 0.0030579157540592894), (31, 0.003052894588284117), (3623, 0.003049715354017484), (2680, 0.003049027253742298), (4534, 0.003046055402135787), (2803, 0.003045592454012748), (1721, 0.003045121424247227), (200, 0.0030444460852680653), (81, 0.003039900619496553), (936, 0.003039235174115508), (3734, 0.003037753397102678), (180, 0.003037032244839885), (3841, 0.0030334341109539958), (311, 0.003030556694735998), (1375, 0.003024603496178776), (1220, 0.003024556083721475), (0, 0.0030120165261056857), (296, 0.0030078157544878954), (636, 0.003005137455048601), (2917, 0.0030035226693488105), (744, 0.0030000827564589413), (3878, 0.0029958542078192037), (1788, 0.0029904111677804715), (3957, 0.0029902475381719065), (2008, 0.002989060554674001), (4732, 0.002980981089354851), (1945, 0.0029805270814745478), (4567, 0.002980123327906564), (3962, 0.0029796542699025), (4337, 0.0029752163338280595), (4430, 0.0029745522517568563), (3874, 0.002974280102130956), (1332, 0.0029660197487768034), (1083, 0.0029615755567820655), (3499, 0.002955695430948928), (433, 0.0029523337161060995), (1519, 0.0029482490132810403), (632, 0.0029479539968178497), (1421, 0.002943513203875075), (2720, 0.0029429186681567488), (642, 0.0029383022044347984), (2914, 0.002930980779459385), (3668, 0.0029288900881583547), (3997, 0.002927085451742546), (3590, 0.002925260738894986), (1812, 0.0029227794778933936), (3744, 0.0029225869137946415), (482, 0.0029183047640309653), (1391, 0.002917694162123415), (1962, 0.002917180549942273), (3508, 0.0029128652627719207), (1214, 0.0029056761069437536), (2981, 0.002904880477736191), (617, 0.002902870679872482), (3910, 0.002899546050872935), (1847, 0.002898132383400879), (664, 0.0028966181544452137), (3604, 0.0028942456273941507), (3705, 0.0028926920460632787), (1280, 0.002890699667692614), (1975, 0.002890530303531959), (1128, 0.0028896499693695796), (512, 0.002888119332949469), (2421, 0.002886952675986375), (1964, 0.002886856236250995), (3658, 0.0028805151240115542), (4734, 0.0028787043561346085), (4158, 0.002876325577630928), (3815, 0.002871966652374402), (3452, 0.002864089774933819), (2091, 0.0028590642261032504), (4361, 0.002857836547813092), (4729, 0.002857836547813092), (1845, 0.0028555490850388308), (474, 0.002854243127268441), (2094, 0.002846546717192534), (2069, 0.002845152934198604), (4386, 0.0028384030917819767), (3143, 0.0028363226276508567), (1044, 0.0028361572450807176), (3269, 0.0028338619382403856), (3385, 0.0028307982481555745), (802, 0.0028298557710243187), (1960, 0.002827597130458709), (40, 0.0028243602831438913), (3727, 0.002824292755456931), (2819, 0.0028187161054754406), (3908, 0.002814291445806814), (3198, 0.0028138606570685446), (3299, 0.0028103909491829417), (4090, 0.0028075032248842395), (4402, 0.0028056538900185952), (424, 0.0028044314422981786), (4076, 0.0028005718069347286), (1461, 0.0027949056801810303), (1568, 0.002794602955675703), (3387, 0.0027927445912278625), (4119, 0.0027894849777216424), (1356, 0.00278911752800067), (513, 0.0027834635963638237), (2900, 0.0027829592976913206), (2413, 0.0027819776254178028), (4043, 0.002781058125628833), (3302, 0.0027806049829827034), (4581, 0.0027802447240985444), (3881, 0.0027785267234086827), (4261, 0.0027775801597070653), (1857, 0.0027762477146790012), (523, 0.002772245558752833), (442, 0.002772061646934113), (2012, 0.0027703541091533323), (2326, 0.0027684436977131036), (849, 0.0027682748810594284), (329, 0.002767073770218206), (2678, 0.002763017931613603), (4488, 0.002761334413131995), (4154, 0.0027578308728540843), (2072, 0.002752022105497887), (4692, 0.002748021774373606), (2330, 0.0027423076019075575), (1502, 0.0027415944416276723), (1588, 0.002741000809824672), (779, 0.0027397432113589948), (233, 0.002739636883566732), (1443, 0.0027377017537754166), (4652, 0.0027351652780832868), (514, 0.002732743085390671), (3488, 0.0027299134301941347), (1566, 0.00272969375777743), (539, 0.0027287351612757943), (2236, 0.0027227339795887905), (2585, 0.002721833948462638), (2628, 0.002721833948462638), (3057, 0.002721833948462638), (3414, 0.002721833948462638), (2044, 0.0027191903058890535), (941, 0.002715462226218264), (3020, 0.002709534126217978), (3544, 0.002709534126217978), (2293, 0.0027072610777355527), (1452, 0.0027066363042919828), (1167, 0.002704616948009533), (738, 0.002699889466977129), (992, 0.002697473001370487), (1381, 0.002692496850828102), (3477, 0.0026889284502569543), (793, 0.0026880736778726157), (3213, 0.0026850940544423103), (271, 0.002682309077399767), (2782, 0.0026739319311646303), (1123, 0.002672917102543887), (3970, 0.0026678942663735552), (503, 0.0026666646553028905), (2959, 0.0026655501714663177), (4591, 0.0026652973946113545), (1449, 0.002661755060178279), (1531, 0.002660072889950935), (1546, 0.0026587740232969182), (1627, 0.0026574037070424324), (562, 0.0026559353054750024), (963, 0.0026524283650089147), (3239, 0.0026500771559610685), (3576, 0.0026499566528487848), (4017, 0.0026488072876936965), (4039, 0.0026484469911232478), (1154, 0.0026458115948731187), (811, 0.002642622434279204), (1925, 0.002640314879218506), (2480, 0.002639962657925472), (3273, 0.00263920283228765), (919, 0.002633762131538064), (4269, 0.002633504035376285), (1279, 0.002628208194076561), (1817, 0.0026271853356393273), (425, 0.0026245884788123446), (4661, 0.0026238487907969303), (4262, 0.0026219237968190647), (2252, 0.0026216090921731433), (1435, 0.0026205979391299345), (3497, 0.002619763728223277), (571, 0.00261952080452843), (1797, 0.0026178469938087845), (4513, 0.0026147967301694444), (742, 0.002610047377627012), (2530, 0.002609555690665496), (863, 0.00260636994835363), (633, 0.00260604853890745), (3787, 0.0026055840799110767), (1933, 0.002603538922278838), (380, 0.0025981036488511144), (4584, 0.0025962533641656956), (4639, 0.0025943503614616775), (1661, 0.0025938096540472793), (6, 0.00258960588339552), (3005, 0.0025885423180353074), (1575, 0.002584112673838553), (1976, 0.0025810874454787144), (1366, 0.002580200309624148), (4468, 0.002578099623333232), (3429, 0.0025768038275566867), (1859, 0.002576184173801092), (4650, 0.002573094137401258), (1713, 0.0025727470931022622), (3876, 0.0025712299668203637), (810, 0.0025685015621260284), (3158, 0.0025656435175553886), (1993, 0.0025613702468518236), (1631, 0.002558430930911435), (4162, 0.0025543479710649812), (116, 0.002551110598045512), (4708, 0.0025504117943714742), (3938, 0.002543486715901475), (3404, 0.0025434824890496403), (2136, 0.0025424855979901103), (2960, 0.002535706902796), (1901, 0.0025338961652253454), (3124, 0.002532311910160995), (1873, 0.0025269045613388174), (3471, 0.002524474874229237), (4134, 0.0025235348423177963), (4306, 0.002523278317362158), (2651, 0.0025227248434296825), (2197, 0.002518772462617622), (3886, 0.002516736731877193), (4389, 0.0025143182366342354), (3007, 0.002514224543406164), (4160, 0.0025126449354595714), (3605, 0.0025097863501866114), (925, 0.0025095914069873377), (2711, 0.002507168133465527), (1448, 0.0025065669656009976), (932, 0.002504462785110636), (2084, 0.002499120865553371), (3011, 0.0024958558774933843), (2130, 0.0024875622391716734), (2962, 0.002484644448890416), (3338, 0.002481612838526187), (3833, 0.0024788133939813934), (1414, 0.0024776756756413193), (3778, 0.002477473936846913), (1724, 0.002473450573925758), (4304, 0.002472220955815341), (612, 0.0024686451990862737), (855, 0.002467765662962908), (2181, 0.002464002469573313), (1431, 0.0024637477373036904), (3161, 0.0024631925644651594), (2184, 0.00246240100517321), (666, 0.0024616753192731864), (2567, 0.0024580922161289882), (1900, 0.002456195537692852), (2790, 0.0024561041338597043), (95, 0.0024542712436203106), (284, 0.0024516340812456507), (1573, 0.0024499090310725106), (3456, 0.002448183081853701), (635, 0.0024477110745703998), (118, 0.0024455269107670494), (3263, 0.002442213445313573), (375, 0.0024408595523420103), (3156, 0.0024404475982969555), (2230, 0.0024377152952948923), (288, 0.0024363522691870274), (1723, 0.002435839311177394), (2501, 0.0024336026284203257), (2074, 0.0024328574270787834), (1420, 0.0024307484790981175), (1469, 0.0024307328055432845), (1396, 0.002426680989421543), (3793, 0.0024260355100868877), (2733, 0.002424218940722199), (3151, 0.0024238618487314365), (4211, 0.0024232803955871077), (3470, 0.002423132961648026), (3426, 0.002421416072362421), (294, 0.0024156809337242662), (4497, 0.0024094113758998757), (4505, 0.0024094113758998757), (1941, 0.002408981296431364), (526, 0.002408732490853301), (4418, 0.0024082481556100565), (4254, 0.0024051731514456954), (310, 0.002404232279608534), (3443, 0.002402527673060871), (1023, 0.0024017903348178445), (540, 0.0024007738538107766), (2231, 0.00239848138349341), (1632, 0.002397106888326795), (426, 0.0023954656294262557), (2078, 0.0023953461199117503), (3126, 0.0023945342663474287), (3824, 0.002390101803566806), (3398, 0.0023889588774689517), (315, 0.0023847941802893355), (4312, 0.002383637689579602), (4703, 0.0023831238751192193), (3967, 0.002382951250039758), (3584, 0.002382789667792776), (1088, 0.0023814881220809926), (3440, 0.0023813218199626256), (1426, 0.002380453581906691), (2682, 0.0023781929725772057), (4462, 0.002374422313217144), (4275, 0.0023741888034232183), (1480, 0.0023720306046774984), (4298, 0.0023717984588055873), (1791, 0.0023698769723462716), (1380, 0.0023684262585169954), (2541, 0.0023668841007984756), (4466, 0.0023592494201684863), (1127, 0.002358694313682511), (3131, 0.0023574192854896392), (3822, 0.0023565225420382183), (4586, 0.0023554406280601498), (4264, 0.0023535435213696888), (2929, 0.002349622110452368), (1398, 0.002346965282606649), (125, 0.0023465014733981336), (1973, 0.0023462655034112473), (1428, 0.002344905803893058), (354, 0.0023444289750683828), (30, 0.0023441909043461526), (3180, 0.0023427632640624666), (1930, 0.0023412622029761938), (2787, 0.002331687703812091), (2283, 0.002330042911549977), (2314, 0.0023274828285590435), (39, 0.0023237004243030664), (2599, 0.0023207927999419815), (3136, 0.0023196418447395226), (1158, 0.002319447065989149), (4384, 0.0023184933374330277), (4087, 0.002316507247332125), (1662, 0.0023159710324170734), (1996, 0.002314629567728757), (537, 0.0023112334133235726), (2984, 0.0023104785551568132), (2706, 0.0023103064891877257), (775, 0.0023071793536192727), (1614, 0.002306388576175979), (1210, 0.002305035429930813), (341, 0.0023045660280145825), (1934, 0.0023038978132126748), (1407, 0.0023035669914590047), (347, 0.002301179366386953), (1623, 0.0023007752312494303), (3677, 0.00229794957910375), (3555, 0.0022965135424814903), (1384, 0.0022962428996052674), (2944, 0.002294617657713508), (2245, 0.0022933946199026173), (2442, 0.002288467651799573), (1846, 0.002285332051285205), (4344, 0.0022840032522104302), (1904, 0.0022837945375056953), (2760, 0.002280903636782846), (1202, 0.002280427076240288), (4310, 0.0022776243339738995), (2992, 0.0022692194361677853), (320, 0.0022681733313958375), (3179, 0.0022675659524197312), (313, 0.0022664596026083536), (4292, 0.0022649064491459606), (4621, 0.0022644061877444676), (3639, 0.0022634674205385574), (4103, 0.0022625433219528516), (3163, 0.002261486134285023), (2193, 0.002261434458678801), (389, 0.0022609595328980277), (3292, 0.002259545379209101), (3850, 0.002257972928683942), (332, 0.0022567986977167012), (1302, 0.0022564238360190322), (4360, 0.0022552527589736414), (3446, 0.002250853914830897), (420, 0.002249988425589716), (2674, 0.0022499751179452794), (4369, 0.0022442812772626363), (3307, 0.002241770833981069), (1134, 0.002237825525786677), (3857, 0.0022377609212608377), (762, 0.002236923475639887), (1749, 0.002236717300044388), (1659, 0.002234117243968971), (295, 0.002230971843380942), (1150, 0.00222763551894871), (3468, 0.002225885169289071), (2626, 0.002223510555292486), (1099, 0.002223119710125125), (4582, 0.002221851771101038), (2246, 0.0022164417961811904), (862, 0.002215228093692494), (4392, 0.002212840061082478), (1772, 0.0022123214781314513), (1773, 0.002210333236857977), (4419, 0.0022096152102402313), (1194, 0.0022091187402789162), (93, 0.002205027892655938), (1998, 0.0022050132564887664), (902, 0.00220448399399884), (3495, 0.0022043807299906575), (4604, 0.0022009689899963117), (1270, 0.002200567341998897), (460, 0.0021991365566349946), (2556, 0.0021935359891365413), (2199, 0.002189411086458096), (3710, 0.0021886927794230954), (3769, 0.002188135651160054), (1927, 0.002187757069316882), (4383, 0.0021817594053720074), (102, 0.002180217766705214), (4193, 0.0021798419333015624), (1840, 0.0021764997351502503), (4395, 0.0021741554926043133), (1910, 0.0021737312894244067), (4339, 0.0021732330694185587), (3989, 0.0021727360995688633), (3314, 0.0021697068560182103), (1554, 0.0021694219580833634), (685, 0.002168218606141434), (974, 0.0021644697793792534), (4529, 0.0021636278046342746), (4366, 0.002162525451937671), (2278, 0.002155755112636365), (3027, 0.002153498787996409), (4248, 0.0021498525656628515), (3747, 0.002149160930361471), (559, 0.00214799357509584), (2544, 0.002145942598302615), (3678, 0.0021446333258593013), (1562, 0.0021420924773121056), (290, 0.0021419314015331038), (1551, 0.00214085459764808), (306, 0.0021400754155491376), (3729, 0.0021371329159340117), (2062, 0.002136929187975997), (4290, 0.0021359345386072286), (240, 0.0021353848609592784), (2576, 0.002134902242326769), (305, 0.0021339968431607612), (191, 0.0021333763037419172), (4678, 0.002132940784947622), (322, 0.002132677412673494), (250, 0.002131984875865383), (4044, 0.002131812288435303), (2789, 0.002131677928648357), (2535, 0.002130924117508453), (2436, 0.002130316765314635), (1146, 0.0021272434744736223), (1197, 0.0021259219523459593), (4091, 0.0021242832258913844), (3788, 0.002123364463304951), (3907, 0.002118011977720487), (1266, 0.002117862421008), (3044, 0.00211719299090734), (303, 0.0021168446411070248), (1590, 0.0021140957650158834), (2015, 0.002111397417908153), (2286, 0.002109724717253826), (3620, 0.0021096588721401157), (1347, 0.0021074144261964967), (321, 0.002106071436411017), (1622, 0.0021058048125791387), (3191, 0.0021016007045582498), (4438, 0.0020972052617051345), (1009, 0.00209651642166753), (2630, 0.002095517352203063), (803, 0.0020936590456274223), (3215, 0.002093292591530289), (3432, 0.00209141819214363), (4365, 0.002090992293928721), (220, 0.0020902890288186215), (1003, 0.0020882263762800556), (4552, 0.002088040765139612), (2340, 0.0020824437276554257), (4585, 0.0020824286513968643), (128, 0.0020800208877665123), (3257, 0.0020799197833221805), (1129, 0.0020793823624878456), (187, 0.002078326139417387), (1530, 0.002069403783049519), (4555, 0.002068392174059384), (1838, 0.0020645576230505667), (3526, 0.0020632856975048007), (3772, 0.002060398396205441), (327, 0.002058248434290701), (2755, 0.0020550571582371386), (1953, 0.002051901191748118), (3583, 0.002050168665486893), (2847, 0.0020435169851101553), (4287, 0.0020428247306260162), (2796, 0.0020398734581412673), (3367, 0.0020397016334800606), (1207, 0.00203862409110491), (234, 0.0020374431281487467), (511, 0.0020371120920308346), (1012, 0.0020366182128498085), (4441, 0.0020359047883787063), (1211, 0.0020341238926839473), (469, 0.0020339270018613414), (1272, 0.0020289827417645503), (4322, 0.0020288486111495743), (3129, 0.0020278065148150617), (625, 0.0020222109744452736), (76, 0.0020198273075640056), (2884, 0.0020189654177529396), (3010, 0.002017838728435106), (2432, 0.002011031937201326), (1914, 0.0020101960167515495), (467, 0.002008531615341121), (4071, 0.0020068422539524892), (239, 0.0020020899630568763), (3806, 0.0019998142384793573), (1732, 0.0019997575028265356), (1458, 0.0019997398957345577), (3133, 0.001998037515222715), (2232, 0.00199783619666911), (1701, 0.001997466433627455), (550, 0.001996063117196206), (4484, 0.001995748709122372), (1281, 0.0019921134260882027), (619, 0.00198871496663725), (997, 0.0019871937574560835), (2520, 0.0019846676110861438), (1633, 0.0019748123835878497), (27, 0.001974261471590938), (1655, 0.001972809681994532), (1852, 0.0019692680802645903), (2437, 0.001969051666791216), (397, 0.001968669538505467), (3451, 0.00196815076809113), (1952, 0.0019657345339732946), (1430, 0.0019626907557390954), (1262, 0.001960476395915267), (3647, 0.001957331518192143), (1809, 0.0019565011823383664), (1784, 0.0019561110875451833), (2139, 0.001953636987763522), (1100, 0.0019521516236634322), (2991, 0.0019505556745736466), (261, 0.0019499185593524824), (152, 0.0019490886286976739), (468, 0.0019489081265174578), (1761, 0.0019457374401658397), (765, 0.0019455220350762814), (595, 0.0019418878906908704), (1082, 0.001941845557212876), (809, 0.0019384952588550992), (3723, 0.0019350736764150679), (94, 0.0019325209398634463), (3423, 0.0019297360889940548), (1593, 0.0019295945023851777), (1881, 0.0019281201950306934), (4328, 0.0019265119982978046), (4051, 0.0019252990147121509), (2642, 0.0019245081997787431), (3770, 0.0019175803022921415), (1576, 0.0019143420221485105), (4545, 0.0019127135107203526), (160, 0.0019123533160944756), (640, 0.0019102707654131835), (1120, 0.0019056598216065435), (1451, 0.0019054652601767752), (438, 0.0019046865424209522), (2226, 0.0018989693636930834), (4042, 0.0018987811130248644), (3484, 0.0018976270985353596), (4689, 0.0018971425282220962), (3134, 0.0018930213283279052), (3853, 0.001889206069051799), (46, 0.0018887848425113338), (1587, 0.0018840472786430743), (4744, 0.0018791341128949648), (624, 0.0018761910527679824), (756, 0.0018758937596548271), (2946, 0.001873976326781984), (3003, 0.0018727081419704814), (4368, 0.0018700875339639244), (3279, 0.0018689787629411726), (3079, 0.001868965525313705), (135, 0.0018632167702535977), (3664, 0.0018610823483006284), (2362, 0.0018607759673079898), (3458, 0.001857533849735173), (1635, 0.0018574828074486975), (4340, 0.0018570714150825734), (4446, 0.0018565791227045996), (77, 0.001856324209336909), (3782, 0.0018528469130164986), (3823, 0.0018490987956188596), (4416, 0.0018411614871797126), (1630, 0.0018405141090985426), (3013, 0.0018394452570959512), (2623, 0.0018392062751376084), (4376, 0.0018389517094080324), (3361, 0.001831491207326461), (2974, 0.0018287461273474054), (2853, 0.001825606614977323), (3386, 0.001824552553339227), (1181, 0.001823424661634248), (2453, 0.0018158164737878965), (4113, 0.001813496493058173), (3072, 0.0018124745121231422), (1805, 0.0018078211739605515), (2438, 0.0018066077512131722), (273, 0.0018063747608744356), (4280, 0.001804010043816739), (893, 0.0018028895603212367), (2802, 0.0017994932978825538), (783, 0.0017989777818776525), (434, 0.001798635237186292), (4695, 0.0017986312514533134), (4106, 0.0017983591124994841), (323, 0.0017967593925581203), (316, 0.0017960182777356716), (1493, 0.0017959030993534284), (2845, 0.0017957647748429002), (4079, 0.0017955202987525733), (723, 0.0017943450290137883), (3520, 0.0017938484852606745), (2997, 0.0017932086534313285), (2190, 0.0017925534203863864), (2797, 0.0017925308229406), (4426, 0.001791739531463164), (1990, 0.001788098877434833), (2975, 0.0017878556824389154), (1813, 0.0017836218940235015), (241, 0.0017791411563521653), (3739, 0.0017768420441593628), (3100, 0.001776386006850506), (4274, 0.001776072766845255), (260, 0.0017696740169411117), (2736, 0.0017696375590262729), (877, 0.001769020503463399), (1518, 0.0017664760817969274), (2969, 0.001760936535948761), (4117, 0.0017592532497487114), (3252, 0.0017586047492066886), (1919, 0.0017584540629440417), (1533, 0.0017563724861409129), (451, 0.0017539214119581517), (813, 0.0017507939684576078), (1884, 0.0017501928087527042), (979, 0.0017489836666293014), (3920, 0.0017456831701797531), (3405, 0.001742634645783528), (4145, 0.0017422486972872412), (721, 0.0017419060339739438), (189, 0.0017346808883527333), (2533, 0.0017342093850508885), (1559, 0.0017326607160008194), (3602, 0.001727723961669319), (3636, 0.0017240795706345666), (80, 0.0017240774292415861), (2385, 0.0017223641446452945), (314, 0.0017209938596057372), (4165, 0.0017195029552699995), (2769, 0.001717801240169446), (1450, 0.0017166252568715289), (2970, 0.0017156449266742366), (3669, 0.001708304061145484), (3935, 0.0017059622201407068), (623, 0.0017037104851191987), (2111, 0.0017025140419792545), (3757, 0.0017003557380136248), (3913, 0.001698727005628739), (2820, 0.0016947483172775832), (487, 0.0016943079269552944), (4638, 0.0016942539050914644), (1946, 0.0016916256747551304), (4680, 0.001687675728032808), (2687, 0.0016865258045398518), (2848, 0.0016854547378621864), (4627, 0.0016853314549518804), (3146, 0.0016848023868130957), (661, 0.0016844464221323144), (3776, 0.0016843692015058797), (1007, 0.0016817322369299876), (4448, 0.0016810524151849), (1357, 0.0016757967597142724), (3135, 0.0016747638767836603), (3524, 0.0016737796502526408), (1309, 0.001672190371865093), (1594, 0.0016699299826943785), (2622, 0.0016692279750206021), (2505, 0.0016683970512721298), (4266, 0.0016657725191278707), (1410, 0.0016640850190110966), (2634, 0.001662539682642473), (3160, 0.0016611507121157634), (2060, 0.001658966016304067), (4694, 0.0016584451743740496), (1153, 0.001658362782478294), (2306, 0.0016574866088179606), (985, 0.0016556556567141536), (90, 0.0016547967098561249), (2527, 0.0016534884132950506), (1637, 0.0016532264415235326), (3036, 0.0016517033347521952), (1109, 0.0016470563354478956), (3799, 0.0016469211138977766), (2592, 0.0016464728934577424), (3898, 0.001644834560547522), (2502, 0.0016432971638689923), (589, 0.0016425443277255122), (1753, 0.001642361047799223), (1254, 0.0016381744467873689), (2611, 0.0016369155495893507), (3434, 0.0016363436447430447), (4259, 0.0016362975856896293), (1494, 0.0016354760505230142), (4381, 0.0016338071705773735), (2417, 0.001631009802930437), (2563, 0.0016303299122193964), (587, 0.0016301734724888978), (2895, 0.0016297461527756388), (2747, 0.0016296098000826308), (3619, 0.0016295808777522884), (1696, 0.0016255893359305503), (4054, 0.0016241485011973854), (3720, 0.001622015657729262), (1049, 0.001619491492182648), (4359, 0.0016156114403558823), (3852, 0.0016147769067162117), (226, 0.0016132186750294117), (4461, 0.0016129639612302387), (3254, 0.0016122186005085026), (74, 0.0016113377418315714), (957, 0.0016073143488670961), (4598, 0.0016052915695280794), (1929, 0.0016027972464819345), (3706, 0.0016007540425500726), (2953, 0.0015985430708912384), (1916, 0.001598421219166163), (639, 0.0015974060100902034), (1848, 0.0015932703113319816), (847, 0.0015918626600711387), (78, 0.0015861826007639514), (1995, 0.001585000823734363), (1793, 0.001584166662963567), (1683, 0.0015828850479562876), (3449, 0.001580024784043456), (490, 0.001579460684776959), (2013, 0.0015771960840065087), (2786, 0.0015732416077928663), (1286, 0.0015725386811673407), (1168, 0.001571485251957725), (1479, 0.0015711505875088073), (2411, 0.0015697708060725488), (2265, 0.0015696536549686503), (4625, 0.0015682142456287936), (889, 0.0015680685739680302), (605, 0.0015671352113598308), (4277, 0.001562369000496527), (903, 0.001558883891286188), (2554, 0.0015584590260352713), (4311, 0.0015579254531036554), (2149, 0.0015572369959314077), (1711, 0.0015572282956610496), (3000, 0.0015546514558820274), (1699, 0.001554415315232406), (2924, 0.001549420666705742), (2725, 0.001549357758547125), (2378, 0.0015482069584051514), (4566, 0.001547616803349633), (970, 0.0015473975856154483), (2221, 0.0015463826699000274), (3380, 0.0015418874875092136), (2478, 0.0015418101816730967), (1619, 0.0015391669052549494), (2920, 0.0015390486199232498), (3069, 0.0015338920906552327), (499, 0.001532263210025811), (3966, 0.001529790255943618), (3308, 0.0015295529844770786), (4668, 0.0015287102269472238), (1782, 0.0015286845484796933), (456, 0.0015249553298682433), (2302, 0.0015217862148531485), (898, 0.0015206126298946297), (2402, 0.0015205011100699946), (2593, 0.0015168996384247312), (1959, 0.00151454210300915), (3867, 0.00151405911165731), (2765, 0.0015127869741748728), (3289, 0.001512350239787179), (959, 0.0015118135978912984), (2741, 0.001509484848202673), (221, 0.0015084529707210062), (249, 0.0015083234072687313), (3714, 0.001507884642755699), (3247, 0.0015070139010713748), (2557, 0.0015048198845233492), (2746, 0.0015033828127294351), (3906, 0.0015000123115805637), (1059, 0.0014981291587439027), (3551, 0.001497070580635878), (198, 0.0014968479124380417), (1110, 0.0014936721324466575), (3565, 0.0014897707245942666), (3826, 0.0014895589000041417), (2943, 0.001489425035276591), (857, 0.0014886376988304602), (3903, 0.001488131997264184), (2303, 0.0014875302040997828), (121, 0.001486638893181706), (2467, 0.0014853715081256222), (1547, 0.0014850228517100663), (4528, 0.001481672640290285), (579, 0.00148045988381499), (1416, 0.001480254449700492), (1359, 0.0014790951240781674), (4743, 0.0014778550340707956), (3406, 0.001476702755614059), (289, 0.0014761269599219962), (2418, 0.0014729878559682327), (2573, 0.0014726828769693566), (432, 0.0014720040716150401), (326, 0.001471135734775798), (3893, 0.001470909660006691), (777, 0.0014709059814638225), (3326, 0.0014703886510047397), (3560, 0.0014688509579586747), (4213, 0.0014688128644242031), (655, 0.0014675628125094735), (4326, 0.0014674557242594876), (2801, 0.001466814698341626), (3608, 0.0014665615509347216), (1503, 0.0014654297416614127), (4020, 0.001465161423152626), (2133, 0.0014651174346235476), (4427, 0.0014631329154760563), (33, 0.0014624587193972456), (246, 0.0014620233113733752), (2940, 0.001461314896489843), (4066, 0.0014612197736209183), (3557, 0.0014611526494376552), (3615, 0.0014593710935645007), (1717, 0.0014575979684801263), (2911, 0.0014573231556025616), (826, 0.0014562826476608808), (1764, 0.0014559786150582937), (278, 0.0014547594490050277), (1905, 0.0014546103369573464), (2545, 0.0014543653921881394), (4712, 0.001453979910039803), (157, 0.001453861572886778), (4575, 0.0014527432650574769), (1887, 0.0014502561847115826), (3225, 0.0014499733319708074), (3355, 0.001449749660574482), (457, 0.001447083034897899), (2099, 0.0014465171169357658), (3877, 0.0014449650766320693), (3654, 0.0014438826741413914), (508, 0.0014424591959079965), (1043, 0.001442450777192908), (464, 0.0014399042842812323), (3341, 0.0014395888544499753), (3230, 0.0014394514669317023), (1102, 0.001438948410601986), (774, 0.0014386830645730926), (731, 0.001436786749401961), (885, 0.0014367188068090953), (2830, 0.0014358528513047496), (4025, 0.0014356963672028644), (1187, 0.001433181595780314), (3031, 0.001432757069521483), (2173, 0.0014323375307279313), (3611, 0.0014315004793743569), (4318, 0.001430443666754296), (1666, 0.0014304135349111863), (2213, 0.0014300532731494364), (614, 0.0014289018066332758), (3064, 0.0014286688971261187), (1219, 0.0014282338174469917), (3348, 0.001428146001029944), (3298, 0.0014270941758420445), (495, 0.0014270805466990567), (4471, 0.0014268118162910147), (4111, 0.0014265531170302888), (3944, 0.0014259498380642557), (203, 0.0014255563881852818), (98, 0.001425498523311958), (1251, 0.0014248912032247107), (3417, 0.001424867476415146), (3358, 0.0014244913600920694), (4401, 0.0014242867342672601), (3621, 0.0014238984976063817), (3749, 0.0014230579028932373), (2049, 0.0014220485712887426), (2904, 0.0014202132541014623), (247, 0.001419083193544108), (1890, 0.0014188324639772233), (3187, 0.001418214500742023), (3184, 0.001417059731965604), (2387, 0.001415537283300473), (2629, 0.001414984976209073), (1463, 0.001414463920673967), (3412, 0.0014135769892534686), (3399, 0.0014134959921511222), (4161, 0.0014125301447920021), (522, 0.0014111453012075267), (3503, 0.0014110802253706977), (1951, 0.0014100188818460394), (2463, 0.0014091605334956723), (2972, 0.0014087900881556417), (132, 0.0014087647938089104), (1571, 0.0014070288261195509), (1947, 0.0014057970619493693), (2422, 0.0014051163598580517), (4343, 0.0014044483714208621), (3866, 0.0014006677886333357), (2844, 0.0014003996119518797), (2579, 0.001400210571462764), (4330, 0.0013992374135223824), (4135, 0.001398973105541497), (4295, 0.001397877264461683), (4139, 0.0013976785944203862), (1456, 0.0013973521647539678), (3904, 0.0013972664169296007), (715, 0.001396366991831316), (1650, 0.0013962325566707666), (431, 0.0013957155219797475), (1499, 0.0013951958285775272), (962, 0.0013951706025294472), (1885, 0.0013949343873489162), (478, 0.0013946186265668579), (399, 0.0013945895387835134), (3500, 0.0013933697174470835), (4348, 0.0013925140749067653), (1712, 0.001391852899249593), (2779, 0.0013917910123286217), (767, 0.0013915448527237896), (2977, 0.001391506794488424), (3199, 0.0013911489933239535), (2964, 0.0013882270626307573), (388, 0.0013879997623652194), (2571, 0.001387597288197884), (1243, 0.0013875423540204838), (4085, 0.0013865184473983245), (3014, 0.0013862113084312446), (1395, 0.0013859111449843766), (2945, 0.0013857586434603128), (4686, 0.00138555886430971), (2995, 0.0013824961516236065), (1828, 0.001381933748462716), (3701, 0.001381432814863645), (3271, 0.001380520953256462), (4081, 0.0013794109160301293), (3182, 0.0013793642781289607), (969, 0.0013789536870968215), (2108, 0.0013775715498572998), (788, 0.0013775276604151697), (178, 0.001376498339221399), (2011, 0.0013755861166681591), (975, 0.0013750612522662577), (4075, 0.0013745343590366766), (1169, 0.0013742041998575229), (3868, 0.001373974699632049), (2878, 0.0013707403040892918), (3389, 0.0013702061034147367), (3596, 0.0013688968573178429), (1096, 0.001368130482092566), (2048, 0.001367793149933249), (1580, 0.001367549891350701), (3587, 0.0013667906797358556), (3873, 0.0013657552971275675), (2144, 0.0013656182204477615), (2356, 0.0013651047203925792), (4056, 0.0013643010546967888), (355, 0.0013641451713098094), (4147, 0.0013619396182267336), (2926, 0.0013614407997991445), (3511, 0.001361235481581095), (3689, 0.001359849676295347), (4633, 0.0013597382581189681), (2166, 0.0013590776185709158), (737, 0.001358141865936166), (2980, 0.0013580263514775405), (4132, 0.0013576537983626428), (2965, 0.001356731122043496), (3707, 0.0013567093422350701), (739, 0.00135655305785894), (1175, 0.001355811631152043), (638, 0.0013551987343057585), (4489, 0.0013548576621799351), (4136, 0.0013544111537309913), (480, 0.001353070023459009), (626, 0.00135299528968983), (4516, 0.001352876013700624), (3337, 0.0013528201329262208), (1284, 0.001351358320373343), (1733, 0.0013509773066293991), (2242, 0.0013507628594961732), (3927, 0.001349603733591331), (2894, 0.001348965753039134), (1768, 0.0013488786631052129), (1204, 0.0013483731248118682), (3643, 0.0013477517315277246), (4334, 0.0013474052945932405), (1378, 0.0013473924180159114), (4391, 0.00134710589714455), (2783, 0.0013470857004742307), (4273, 0.0013470669991050028), (1625, 0.0013467147570445331), (1616, 0.0013465233942065928), (3056, 0.0013454367233955837), (3260, 0.0013444913016374335), (4605, 0.0013444617368526615), (2142, 0.0013441294880357486), (4011, 0.0013439986092691608), (4175, 0.0013439413405870316), (1124, 0.0013428880329624134), (984, 0.0013421589554789514), (2386, 0.0013411940378401503), (3599, 0.0013411317261655406), (3917, 0.0013402540661202618), (4472, 0.0013398348523921903), (4501, 0.0013389057046584165), (1318, 0.0013388526249261414), (127, 0.0013384444767788601), (3409, 0.0013378626436724907), (3890, 0.001335749063857794), (419, 0.0013355980803213168), (3413, 0.0013336787586023964), (1247, 0.0013332548105840828), (3447, 0.0013328956985433204), (4200, 0.001331673279719689), (2370, 0.001331551965481738), (283, 0.0013312034691554224), (2047, 0.0013311923087315025), (3075, 0.0013303708819711914), (782, 0.0013302804917179026), (4687, 0.001330091886635047), (262, 0.0013298305427094277), (2073, 0.0013296153505749078), (267, 0.0013295111393250138), (4296, 0.0013294052068372351), (3373, 0.0013291111153675083), (518, 0.0013290708236153705), (2650, 0.0013285439225916402), (2723, 0.0013269210568260647), (4321, 0.0013266826230217909), (2430, 0.0013266358729044805), (2954, 0.0013261052687457099), (1710, 0.0013255543708096836), (3728, 0.0013254860195729104), (3390, 0.0013254062076304186), (4535, 0.0013253612809099081), (1404, 0.001325238874991587), (3216, 0.0013252130356676197), (2758, 0.0013251925246432958), (2664, 0.0013235424143865516), (1878, 0.0013218954955154932), (3174, 0.001321780586559349), (2876, 0.001320303919898678), (489, 0.0013193704381923316), (2397, 0.0013189808254977409), (4574, 0.0013184701304839023), (987, 0.001317724655672206), (2319, 0.0013172593598209201), (2698, 0.001317042871884984), (2151, 0.0013167026738130391), (449, 0.0013161198539096135), (510, 0.0013153859858590152), (3336, 0.001315121100768174), (3329, 0.0013150377840325672), (1543, 0.0013138319004580856), (1780, 0.0013134254945255475), (204, 0.0013132609576151904), (4487, 0.0013123381416550012), (2841, 0.0013110887135192786), (693, 0.0013110079812824948), (1660, 0.0013106607602674332), (29, 0.0013097423819405185), (12, 0.0013095928504033726), (2116, 0.0013095860482764772), (62, 0.0013092078673382533), (1634, 0.0013087215599575915), (2405, 0.001308696211916956), (631, 0.0013085664350938361), (541, 0.0013083301663751959), (4140, 0.001308140172726235), (4356, 0.0013078221152933245), (1851, 0.0013073031723940072), (1682, 0.0013068369594079208), (3496, 0.0013065234545523957), (3388, 0.001306456184530972), (1907, 0.001306270704845354), (3315, 0.0013060886153050085), (218, 0.001305619748614112), (475, 0.0013055558777185885), (4197, 0.0013055160091150365), (4363, 0.0013053575917411212), (3410, 0.001304434834570287), (4137, 0.00130381570090669), (4657, 0.0013034602283842418), (3335, 0.0013026177192336512), (1617, 0.0013023715453849714), (193, 0.001302335402426685), (2102, 0.0013020343471465737), (3186, 0.0013016829435667037), (3558, 0.0013010464308035993), (817, 0.0013009173666482232), (1860, 0.0013008933166497687), (466, 0.0012999178593857913), (922, 0.0012998574386315661), (4397, 0.0012998232453302803), (1052, 0.0012994210286326286), (4138, 0.0012982282787327322), (358, 0.0012975063117213889), (430, 0.0012972964141048323), (1112, 0.0012970354867028167), (2528, 0.0012968148816575363), (444, 0.0012963683967688868), (3369, 0.0012962887866621098), (3093, 0.0012962387927701944), (3328, 0.0012960349251287134), (2354, 0.0012954020348277982), (2399, 0.0012944484025806207), (848, 0.0012939795878918942), (2792, 0.0012937213921673902), (949, 0.0012921416424353826), (2572, 0.0012914813286700054), (4349, 0.0012914727504263412), (1827, 0.0012914054966826922), (4354, 0.0012886961203832767), (2034, 0.001288072451965132), (374, 0.001286957434938518), (4409, 0.0012868314107769762), (1476, 0.0012866151471571585), (2000, 0.001286330160100039), (15, 0.0012861788156935422), (2942, 0.0012850460206366458), (2721, 0.00128491218340125), (4394, 0.0012847845791835154), (378, 0.0012843705702968128), (1164, 0.001283904212656661), (1553, 0.001283852332843172), (4036, 0.0012833758097765676), (3237, 0.0012833695217178045), (2887, 0.001282275378259348), (3111, 0.001281884047668144), (2702, 0.0012818294923786712), (3673, 0.0012811927926321858), (1565, 0.0012809817610767967), (2552, 0.0012807727164800657), (1036, 0.0012806631810787176), (2976, 0.0012802644907196727), (1121, 0.001280165330194803), (2863, 0.0012796376415076217), (4130, 0.0012794813071345427), (2936, 0.001279222419826326), (651, 0.0012788369484920295), (2987, 0.0012777815940869979), (4320, 0.0012772709803176101), (3542, 0.0012772555910860902), (2679, 0.0012769868179104888), (1474, 0.0012767099052815192), (2393, 0.0012766534347443221), (3352, 0.0012756950112335734), (3313, 0.001275615520072906), (330, 0.0012750997556219303), (2105, 0.0012747053391777487), (897, 0.0012746031040508814), (1080, 0.0012738371702852758), (2361, 0.0012736906866446546), (3784, 0.0012729107640854843), (921, 0.0012726309316614239), (4371, 0.001272038952543779), (871, 0.001271686504854456), (202, 0.001271213970193063), (4616, 0.0012709396607565619), (4049, 0.0012708168758846726), (1748, 0.0012695798994491602), (1170, 0.0012692267612768174), (3091, 0.0012680977428267042), (1324, 0.0012673697128603206), (1688, 0.0012666839877061142), (1409, 0.001266258057698456), (2148, 0.0012659000680733696), (448, 0.001265595854091261), (2195, 0.0012655357722083196), (934, 0.0012653287097721094), (4602, 0.0012640403893005969), (1658, 0.0012635670860661212), (4059, 0.0012634263786994492), (212, 0.0012629648531978577), (1301, 0.0012629522635478252), (1570, 0.0012624194910194836), (1075, 0.001262127414409205), (23, 0.0012616589206488236), (3569, 0.0012599311225555791), (4183, 0.0012587196597162696), (2909, 0.0012580528884043405), (2595, 0.001257468385668389), (2473, 0.0012567208990741136), (3372, 0.00125668589726482), (3148, 0.001256664436353172), (1350, 0.0012565076635678238), (2159, 0.0012558746387924661), (850, 0.0012554889067590317), (3821, 0.001254766654682648), (63, 0.0012546459945546402), (1370, 0.0012544476209714911), (1382, 0.001254093746245617), (4080, 0.0012539900517988232), (1722, 0.001253924323634244), (2292, 0.0012538467287389592), (2359, 0.001253632220994803), (1597, 0.0012532920113229654), (2526, 0.0012532057784107118), (165, 0.001253172730124152), (4301, 0.001253143093640103), (3290, 0.0012521962349423105), (551, 0.0012507699836143693), (192, 0.0012498658305472986), (1872, 0.0012496539525449451), (3765, 0.001249266984677792), (175, 0.0012487434967581867), (4399, 0.0012485867535469168), (2565, 0.0012482807655901037), (3564, 0.0012482127403826524), (351, 0.001248150551200875), (740, 0.0012472635229448506), (823, 0.0012464046417375728), (4603, 0.0012463732569873865), (887, 0.0012463013571456332), (3246, 0.0012454835384621428), (159, 0.0012451736889952875), (3986, 0.001244974781357212), (1765, 0.0012438017603670095), (402, 0.0012434701808014372), (228, 0.0012432822729912852), (1862, 0.0012430864840274147), (3845, 0.0012421597831984486), (3024, 0.0012419926985985544), (3915, 0.0012417299512323704), (3170, 0.001241621620047472), (1402, 0.0012415451148383339), (973, 0.0012412848434144369), (3016, 0.0012404075199774556), (3855, 0.0012403827233956172), (4355, 0.0012400153134880872), (1349, 0.0012395506445962387), (3919, 0.0012384421494000691), (698, 0.0012365257355050519), (1807, 0.0012361320497969197), (659, 0.0012355300452483854), (197, 0.0012354404814152722), (4550, 0.0012351775846852983), (3046, 0.0012350497230347356), (318, 0.0012349752925337274), (104, 0.0012349668698388027), (883, 0.001234797391991534), (1656, 0.0012344686908050781), (1516, 0.0012340174883340195), (2301, 0.0012333796207900317), (169, 0.00123324409851534), (2798, 0.0012330343949378166), (407, 0.0012328638347535354), (1122, 0.001231272261233718), (3347, 0.0012308905544516598), (2068, 0.001230812262534933), (2766, 0.001230233412391711), (2131, 0.0012300676352339937), (657, 0.0012297840416632129), (1497, 0.0012289690651788212), (1306, 0.0012289113353937105), (2474, 0.0012288767197890672), (279, 0.0012283312558238897), (1365, 0.0012281588269743723), (872, 0.0012279144119677183), (1439, 0.0012276321625499275), (164, 0.0012273283386361235), (1033, 0.0012267185186499601), (2134, 0.0012255542272425382), (504, 0.0012254530580796355), (1434, 0.0012246291665338762), (1909, 0.0012244146632112481), (2612, 0.0012240059932420754), (4634, 0.0012238886468243359), (1364, 0.0012236224289515717), (1719, 0.0012233557589600452), (749, 0.0012231300699631388), (4507, 0.0012229285294323284), (3779, 0.0012225210807087316), (1026, 0.0012223610901216074), (1893, 0.0012223569037028694), (183, 0.001221891097196955), (2309, 0.0012214447614793426), (759, 0.0012214236072977064), (3665, 0.0012211283575715712), (998, 0.0012204801408000842), (1475, 0.0012200274536707239), (2609, 0.0012191203672409776), (3811, 0.001218359631889378), (1896, 0.001217990457359761), (167, 0.0012179176101344209), (3445, 0.0012178412392774402), (2132, 0.0012174174568992697), (3211, 0.001216697500239769), (2933, 0.0012163054457505038), (1048, 0.001214795493388036), (2893, 0.0012136305120454066), (115, 0.001213611819401124), (445, 0.0012124104109919116), (1098, 0.0012119126713935596), (1875, 0.0012114235657876475), (3540, 0.0012107575543441555), (253, 0.001210687080663837), (672, 0.0012103934071997441), (2446, 0.0012102421016126192), (2862, 0.0012101918123254415), (2753, 0.0012094989029600032), (2367, 0.0012090945142630865), (3243, 0.0012089667220691156), (2403, 0.0012082871040968639), (4563, 0.0012076083395648949), (3393, 0.0012070590958845745), (1392, 0.001205638632256037), (2039, 0.0012041865943588717), (373, 0.0012040770375615752), (20, 0.0012039351449233023), (3268, 0.0012038243655732195), (32, 0.0012032980555782681), (1163, 0.0012032089610256051), (1032, 0.0012030817667560297), (901, 0.0012029766481487403), (2004, 0.0012029140417907141), (576, 0.0012026883668314924), (353, 0.00120155116194304), (4382, 0.0012009652674585891), (3767, 0.001200756871873065), (3492, 0.0012006997832682228), (607, 0.0012000791826315917), (993, 0.0011997371541748836), (597, 0.0011997211352248976), (1446, 0.0011988056789636469), (2603, 0.0011980536576561315), (4247, 0.0011977960521913616), (428, 0.0011977506631598539), (2169, 0.0011976559754112567), (616, 0.001197150420142171), (1798, 0.0011968145466066922), (3285, 0.0011968066321594998), (242, 0.0011957129398028413), (235, 0.0011956888312040102), (2117, 0.0011951671255531152), (3538, 0.0011941199959396899), (1871, 0.0011941038681050225), (2035, 0.0011919352762894246), (4649, 0.0011919301311960552), (4074, 0.0011910793967226298), (4015, 0.0011907982841718723), (2509, 0.0011903954783128573), (796, 0.0011896052667325074), (596, 0.0011879366454045335), (627, 0.0011877713234055612), (999, 0.0011871633345483272), (2027, 0.0011868219805253842), (3050, 0.001186755347865618), (3839, 0.0011867268198914311), (3278, 0.0011867217026822572), (215, 0.0011865624594139465), (2260, 0.0011859904768492151), (3491, 0.0011856648157883827), (2419, 0.001185648953168714), (471, 0.0011853210656802748), (453, 0.0011851274307374746), (787, 0.0011847050152671609), (3147, 0.0011837694205789275), (3226, 0.0011834600002613134), (79, 0.0011830147284814098), (4357, 0.001182701062826454), (1161, 0.0011821977834295624), (41, 0.0011814082077571462), (1206, 0.0011806420478282815), (3745, 0.001180409971150836), (2163, 0.0011801869521681774), (1792, 0.0011801202770261167), (3173, 0.0011801191354965945), (2390, 0.0011793011133822055), (3751, 0.0011784892830033168), (2912, 0.0011783484507507634), (3402, 0.001178323351537346), (4182, 0.0011778505492828339), (4636, 0.0011775360609625376), (472, 0.0011769084569203813), (1706, 0.0011760179555776417), (3593, 0.001174686972583048), (1685, 0.0011741401356552036), (1500, 0.0011730738577026205), (1027, 0.0011729953127427811), (184, 0.001171812974793483), (2610, 0.001171690292104139), (3376, 0.0011714957160574627), (1539, 0.0011705871700330728), (4536, 0.0011695710877442432), (161, 0.001169426052994302), (3614, 0.0011673481867393645), (3517, 0.001167229638377521), (1209, 0.001166803931894461), (1822, 0.0011664891012616574), (1691, 0.0011663420722432623), (3742, 0.0011653086158767713), (8, 0.0011650083559359373), (1131, 0.0011645704488422223), (3792, 0.0011642439361381355), (1415, 0.0011625556847779635), (24, 0.0011620586096382887), (348, 0.0011613721512909979), (1977, 0.0011608312386770364), (858, 0.0011590896944082341), (1628, 0.001158737097246052), (3478, 0.001158025933800178), (103, 0.0011578155364376057), (3071, 0.001157081228093191), (2223, 0.001157078715376521), (395, 0.0011560008470730724), (446, 0.0011559425545796787), (838, 0.0011558918467045871), (646, 0.0011555116063798926), (2141, 0.0011548378023201508), (4520, 0.0011546925483996225), (1087, 0.0011542724285905648), (3882, 0.0011542525544289098), (4336, 0.0011539010978651378), (1663, 0.0011533360659870162), (1423, 0.0011527995987608167), (717, 0.0011519603729970545), (3541, 0.0011519156468653394), (3238, 0.001151901367631758), (2745, 0.0011509625837985752), (2051, 0.001150720893317469), (3094, 0.00115066601307013), (156, 0.001150462524778221), (269, 0.0011499782858768641), (1598, 0.0011490494216375858), (1843, 0.0011487225930681504), (2466, 0.001146797633772908), (324, 0.0011466474359415446), (2209, 0.001146538746518219), (588, 0.0011465023860697567), (3641, 0.0011464659184667284), (140, 0.0011456387081262972), (4152, 0.0011454474828759068), (1367, 0.0011449930186964738), (1216, 0.0011447815640572697), (1084, 0.0011446469925692816), (4104, 0.0011437951792755289), (2396, 0.001143767160502256), (292, 0.001143502669834699), (66, 0.0011431321605583327), (3646, 0.0011430182327349912), (4626, 0.0011426327930262427), (476, 0.0011424570548709378), (2728, 0.0011423805191411987), (3392, 0.0011413666047013038), (3900, 0.0011409618912431605), (1117, 0.0011403014521255048), (441, 0.0011398317399915622), (176, 0.0011397247993156082), (766, 0.0011392309213268186), (1763, 0.0011385528296538505), (1261, 0.00113815974928532), (4, 0.0011377624300746075), (609, 0.0011376324264840171), (92, 0.001137562613695946), (4345, 0.0011350764301011874), (2277, 0.0011349141654151183), (1411, 0.0011348208284574302), (286, 0.001134413221177524), (1294, 0.0011336571348359702), (195, 0.0011335925355067521), (865, 0.0011311103523238251), (2103, 0.0011307862903481767), (3419, 0.0011301549298705455), (372, 0.0011300688094190697), (2800, 0.001128836899817535), (4445, 0.0011283662029356743), (527, 0.001127672694438203), (3656, 0.0011272082919991067), (182, 0.0011263334296636115), (2902, 0.0011260759441793571), (1477, 0.001126042435797764), (26, 0.0011260068531657355), (343, 0.0011250784071680112), (3, 0.0011247055826844575), (1550, 0.0011245994093775158), (578, 0.0011233332279262567), (4422, 0.0011225200542053615), (3911, 0.001121246274722466), (2888, 0.0011207832008960305), (7, 0.0011206061965018527), (3346, 0.001120438975496419), (4220, 0.0011197393877894286), (307, 0.0011182848111848899), (3755, 0.0011181006832574952), (1648, 0.001116076487514831), (1830, 0.0011157618063512527), (114, 0.001114710259450621), (3026, 0.0011141902089031113), (3880, 0.001113676607476281), (2083, 0.0011136337702880217), (3781, 0.0011129987458806446), (798, 0.0011122877391450004), (2999, 0.0011117740735683177), (1808, 0.001111516973207026), (2931, 0.0011113198219744554), (867, 0.001110759532053484), (4420, 0.0011107277921271893), (2457, 0.0011101075422587107), (1408, 0.0011092175408187427), (71, 0.0011087565003218426), (1176, 0.0011081818320044172), (1869, 0.0011079281977388444), (268, 0.0011070555528036625), (309, 0.0011069487769690548), (2481, 0.0011063115926439073), (364, 0.0011062113345575904), (3311, 0.0011059961930038322), (645, 0.0011056050076812787), (1312, 0.001103901075830606), (1528, 0.0011038878428728189), (907, 0.0011023353573558462), (1762, 0.0011023336965982156), (3431, 0.0011019838843638542), (3987, 0.001101916396969049), (4083, 0.0011010970642926737), (2776, 0.0011009448396688492), (2176, 0.0011008711022496905), (2109, 0.0010986581453710162), (400, 0.0010975639412367888), (1690, 0.0010953350297081754), (3548, 0.0010942679852363189), (1245, 0.0010938381834390558), (1144, 0.0010935841109102763), (3627, 0.0010917121965009773), (1397, 0.0010906162423927328), (794, 0.001090340043858711), (1040, 0.0010899088214611895), (3902, 0.0010894610542852058), (917, 0.0010889704818134941), (1877, 0.0010882070358908247), (1403, 0.001088140263562637), (2812, 0.001087970615172236), (3829, 0.0010876583151917267), (890, 0.0010868923689263195), (154, 0.001085635179832747), (3733, 0.0010854718779410107), (1891, 0.0010849864645373075), (1759, 0.0010849113456159708), (349, 0.001084728394933685), (705, 0.0010842624120916443), (1464, 0.001083645427443351), (4476, 0.0010833050254269946), (1308, 0.0010815762515747477), (929, 0.0010815729420764388), (3150, 0.0010808530803382312), (158, 0.0010806642478789503), (3327, 0.0010803441592701565), (1072, 0.0010802848153438614), (1319, 0.001080216843655079), (1826, 0.0010801563052314344), (1006, 0.0010783889695145765), (473, 0.0010777813222875945), (2201, 0.0010774845947219963), (641, 0.001077296338266222), (2313, 0.0010758301847149183), (3028, 0.0010750494890279644), (308, 0.0010749353504022757), (4511, 0.0010732630815208138), (1060, 0.001071777337382236), (357, 0.0010714456811865072), (2129, 0.0010711612814063825), (1645, 0.0010696204957346103), (4156, 0.0010692622579642622), (174, 0.0010691440441440618), (293, 0.0010679124882981856), (2507, 0.0010676924585474401), (129, 0.0010676794162699911), (1670, 0.0010676302306560168), (734, 0.0010675754064898872), (1730, 0.0010669068834119973), (856, 0.0010661214550282184), (2534, 0.001065197523479158), (3200, 0.0010627740002601546), (3536, 0.0010624286264036592), (899, 0.0010621138409407972), (3152, 0.0010609574246148586), (465, 0.0010608563316489852), (4428, 0.0010605696479401958), (1936, 0.0010603017329275841), (2653, 0.00106025086113306), (2323, 0.0010599822673587923), (2441, 0.001059741466684193), (611, 0.0010597387256588808), (524, 0.0010596162595790126), (1642, 0.0010592785039893016), (1950, 0.001059043996722405), (2248, 0.001058331103615859), (1004, 0.0010571138575594717), (4174, 0.0010560506497787323), (1641, 0.0010554547693645284), (1186, 0.0010552299903585371), (4641, 0.0010525583396002512), (346, 0.0010519594744499872), (3493, 0.0010516427063766755), (1114, 0.0010516132830548355), (1002, 0.0010515821705884042), (1203, 0.0010510199974933664), (377, 0.0010505352347991756), (3194, 0.0010499416842022124), (884, 0.0010497110219615943), (1708, 0.0010496692726221692), (2915, 0.0010495732815469594), (2382, 0.0010494396204710375), (4245, 0.0010485620768317494), (2268, 0.001048507452304641), (227, 0.001048160753429343), (805, 0.0010480946805168482), (4257, 0.0010476397388028778), (25, 0.0010463359681838562), (1372, 0.0010461373958347495), (61, 0.001045841843518657), (3875, 0.0010451114958810596), (1298, 0.001043488215882472), (1304, 0.0010432243436836427), (564, 0.0010427122175486045), (1313, 0.0010416767612897002), (3809, 0.0010394790823572816), (2146, 0.0010387769810296136), (3430, 0.0010385640543567692), (3167, 0.0010384994617028713), (4142, 0.0010354670059834236), (3795, 0.001035337257995333), (3224, 0.0010351148050717382), (252, 0.0010348604406342104), (924, 0.0010344860456091298), (496, 0.0010335426554290883), (2461, 0.0010327715022905525), (4069, 0.0010323381063293549), (1814, 0.001032304344634479), (2568, 0.0010319784248713825), (1305, 0.0010305446689810964), (4052, 0.001030534954379115), (886, 0.0010304447324270233), (4479, 0.001029500780990666), (815, 0.0010291323447115801), (1954, 0.0010284743550709647), (4350, 0.0010280445332583015), (2087, 0.0010279413892289716), (1021, 0.001027845581487539), (4620, 0.0010272987668355083), (1020, 0.0010271702335695326), (211, 0.0010258515276804676), (1703, 0.001025755525432959), (196, 0.0010253861044984772), (2826, 0.0010227565188025971), (951, 0.0010226525624734014), (2553, 0.0010217542213389321), (437, 0.0010212157675316968), (2525, 0.0010190597397143877), (620, 0.0010179130007367376), (1465, 0.0010170916312705468), (1352, 0.0010170194705522142), (2338, 0.001016013845809942), (2067, 0.001015729273874022), (3983, 0.0010153185436529927), (4205, 0.001015035819188341), (1921, 0.0010145766567058085), (707, 0.0010133061468674926), (412, 0.0010132118493547035), (1943, 0.0010115811014247645), (3084, 0.0010113706082752047), (1612, 0.0010113375245411269), (229, 0.0010096644970363545), (4155, 0.0010083610055373362), (1743, 0.0010077208577164304), (697, 0.0010063829838801999), (1574, 0.0010062153508246733), (1672, 0.0010061418288463205), (3113, 0.0010058854721716373), (1394, 0.0010052247530867933), (593, 0.0010051831172824925), (2192, 0.0010039040469927488), (1558, 0.0010029278460035112), (403, 0.0010025507856650385), (60, 0.0010022348211631423), (1241, 0.0010018328928958528), (818, 0.0009998379924057122), (4504, 0.0009996259474275126), (647, 0.0009996228223144593), (1744, 0.0009965577037811852), (1182, 0.000996125964587198), (452, 0.0009957216838551559), (488, 0.000995627415879978), (1340, 0.0009947502966352118), (97, 0.0009943385041226306), (11, 0.000991863122517526), (1199, 0.0009914595068826952), (843, 0.0009912386140780223), (1355, 0.0009899030558822846), (703, 0.0009882239616556849), (1886, 0.0009857120912187935), (2287, 0.0009845229607926547), (3304, 0.0009841958963336124), (410, 0.0009839725122753895), (2538, 0.0009825004334881738), (691, 0.000982094647621134), (680, 0.0009819958546586423), (1742, 0.000981204466482061), (1422, 0.0009800909670720727), (3421, 0.0009796460322397057), (854, 0.0009772804365516447), (852, 0.0009772082893548025), (944, 0.0009764661996713473), (895, 0.0009763489959945715), (3657, 0.0009758995527741418), (1217, 0.0009738922007497315), (1605, 0.0009735251586260484), (325, 0.0009723551816406308), (1677, 0.0009722923743892943), (2143, 0.0009720860415176796), (4143, 0.000970845325757998), (4429, 0.0009698761356324446), (3300, 0.0009693814584440883), (359, 0.0009682358158638927), (940, 0.000968187315806002), (2735, 0.0009670160024313984), (4129, 0.0009663435822803759), (722, 0.0009656718902141095), (4640, 0.000964280034531458), (113, 0.0009623868513295032), (317, 0.0009601277715199691), (1882, 0.000960106183999076), (1831, 0.0009587957507562976), (1920, 0.000957489964561573), (1273, 0.0009570648066409082), (1969, 0.0009511200283720891), (2482, 0.0009503550047708224), (416, 0.0009497199352888481), (1693, 0.0009470405415164657), (1037, 0.0009463713569520172), (3379, 0.0009452323262413826), (3928, 0.0009432282964826519), (3953, 0.0009404874042272137), (594, 0.0009392749250902419), (1514, 0.0009358969362032436), (755, 0.0009354729911680897), (507, 0.0009312269693995353), (3606, 0.0009311259272696431), (3634, 0.0009290537818640836), (119, 0.0009270826728969561), (1034, 0.0009256589185337879), (2587, 0.0009252055832489722), (3691, 0.0009242320646228121), (598, 0.000919934464426734), (2285, 0.00091572216490084), (2270, 0.0009138082172195342), (2743, 0.0009136959156505177), (3575, 0.0009127725508807469), (3667, 0.0009078200600533501), (1079, 0.0009070526299756186), (1136, 0.0009055046131414323), (3455, 0.0009043039704182337), (1077, 0.000903269404995483), (3381, 0.0009025816804508018), (4748, 0.0009017290193449386), (1042, 0.0008965362549396984), (3365, 0.0008933878571276317), (82, 0.0008913768487842518), (2347, 0.0008858191357767785), (3441, 0.000885255326547057), (1624, 0.0008852280584073358), (3835, 0.0008849397672946002), (2127, 0.0008840374554789037), (1801, 0.000880355935971422), (2661, 0.0008790127309498682), (3725, 0.0008772529856543622), (4411, 0.0008770972891337012), (4608, 0.0008762101985952232), (136, 0.0008753279447522691), (3096, 0.0008744275116770012), (966, 0.0008730548071316296), (3362, 0.0008694921915134249), (3863, 0.0008589253984521106), (824, 0.0008582658128358841), (4530, 0.0008520864215830328), (2010, 0.0008463444909160057), (4473, 0.000845139716218148), (1538, 0.0008435688223775349), (194, 0.0008396481229669315), (505, 0.0008360969545085168), (2211, 0.0008357655872150497), (2761, 0.0008316289376189873), (1747, 0.0008290066307154925), (706, 0.0008286262164246216), (1833, 0.0008210962392118589), (2767, 0.000819500224177611), (712, 0.0008140879793580578), (3894, 0.0008036358032185707), (3895, 0.0007978291120655358), (1277, 0.0007966253020408146), (3954, 0.0007962217092738786), (1427, 0.000771986721033649), (4752, 0.0007532925544935559), (1980, 0.0007483734960901195), (2240, 0.0007472643668543696), (3629, 0.0007408224973794597), (3626, 0.0007400618135542861), (3546, 0.000736174165980506), (2469, 0.0007205135680888791), (3301, 0.0006121941869352836), (1, 0.0), (2, 0.0), (9, 0.0), (13, 0.0), (14, 0.0), (17, 0.0), (19, 0.0), (22, 0.0), (28, 0.0), (35, 0.0), (36, 0.0), (37, 0.0), (49, 0.0), (53, 0.0), (54, 0.0), (55, 0.0), (56, 0.0), (57, 0.0), (58, 0.0), (59, 0.0), (64, 0.0), (69, 0.0), (73, 0.0), (75, 0.0), (91, 0.0), (100, 0.0), (101, 0.0), (110, 0.0), (117, 0.0), (130, 0.0), (131, 0.0), (133, 0.0), (134, 0.0), (141, 0.0), (146, 0.0), (150, 0.0), (151, 0.0), (153, 0.0), (155, 0.0), (163, 0.0), (168, 0.0), (171, 0.0), (177, 0.0), (185, 0.0), (186, 0.0), (188, 0.0), (205, 0.0), (214, 0.0), (219, 0.0), (223, 0.0), (225, 0.0), (230, 0.0), (231, 0.0), (232, 0.0), (237, 0.0), (245, 0.0), (248, 0.0), (257, 0.0), (258, 0.0), (259, 0.0), (263, 0.0), (264, 0.0), (265, 0.0), (272, 0.0), (275, 0.0), (297, 0.0), (298, 0.0), (299, 0.0), (300, 0.0), (301, 0.0), (302, 0.0), (312, 0.0), (319, 0.0), (331, 0.0), (335, 0.0), (336, 0.0), (337, 0.0), (338, 0.0), (339, 0.0), (340, 0.0), (344, 0.0), (352, 0.0), (361, 0.0), (362, 0.0), (363, 0.0), (365, 0.0), (366, 0.0), (376, 0.0), (379, 0.0), (382, 0.0), (383, 0.0), (384, 0.0), (386, 0.0), (390, 0.0), (391, 0.0), (392, 0.0), (393, 0.0), (394, 0.0), (398, 0.0), (401, 0.0), (404, 0.0), (405, 0.0), (409, 0.0), (411, 0.0), (413, 0.0), (414, 0.0), (415, 0.0), (421, 0.0), (423, 0.0), (427, 0.0), (439, 0.0), (440, 0.0), (454, 0.0), (459, 0.0), (462, 0.0), (477, 0.0), (484, 0.0), (486, 0.0), (491, 0.0), (492, 0.0), (498, 0.0), (506, 0.0), (516, 0.0), (517, 0.0), (520, 0.0), (521, 0.0), (525, 0.0), (528, 0.0), (529, 0.0), (531, 0.0), (535, 0.0), (536, 0.0), (538, 0.0), (545, 0.0), (546, 0.0), (548, 0.0), (549, 0.0), (552, 0.0), (553, 0.0), (554, 0.0), (555, 0.0), (556, 0.0), (557, 0.0), (561, 0.0), (565, 0.0), (567, 0.0), (568, 0.0), (569, 0.0), (570, 0.0), (572, 0.0), (573, 0.0), (574, 0.0), (575, 0.0), (577, 0.0), (582, 0.0), (583, 0.0), (585, 0.0), (586, 0.0), (591, 0.0), (592, 0.0), (599, 0.0), (600, 0.0), (601, 0.0), (602, 0.0), (603, 0.0), (610, 0.0), (615, 0.0), (618, 0.0), (630, 0.0), (648, 0.0), (649, 0.0), (650, 0.0), (656, 0.0), (658, 0.0), (662, 0.0), (663, 0.0), (665, 0.0), (671, 0.0), (674, 0.0), (677, 0.0), (679, 0.0), (681, 0.0), (686, 0.0), (687, 0.0), (699, 0.0), (700, 0.0), (702, 0.0), (704, 0.0), (708, 0.0), (709, 0.0), (711, 0.0), (713, 0.0), (714, 0.0), (718, 0.0), (720, 0.0), (724, 0.0), (725, 0.0), (726, 0.0), (730, 0.0), (736, 0.0), (741, 0.0), (746, 0.0), (747, 0.0), (748, 0.0), (751, 0.0), (752, 0.0), (754, 0.0), (758, 0.0), (763, 0.0), (764, 0.0), (768, 0.0), (770, 0.0), (771, 0.0), (772, 0.0), (773, 0.0), (776, 0.0), (778, 0.0), (780, 0.0), (781, 0.0), (784, 0.0), (785, 0.0), (786, 0.0), (789, 0.0), (797, 0.0), (807, 0.0), (812, 0.0), (814, 0.0), (819, 0.0), (820, 0.0), (821, 0.0), (822, 0.0), (834, 0.0), (835, 0.0), (837, 0.0), (839, 0.0), (840, 0.0), (841, 0.0), (846, 0.0), (859, 0.0), (881, 0.0), (882, 0.0), (892, 0.0), (906, 0.0), (909, 0.0), (912, 0.0), (913, 0.0), (914, 0.0), (920, 0.0), (926, 0.0), (938, 0.0), (943, 0.0), (945, 0.0), (946, 0.0), (950, 0.0), (954, 0.0), (955, 0.0), (956, 0.0), (958, 0.0), (960, 0.0), (961, 0.0), (964, 0.0), (965, 0.0), (971, 0.0), (972, 0.0), (977, 0.0), (978, 0.0), (982, 0.0), (983, 0.0), (990, 0.0), (995, 0.0), (996, 0.0), (1008, 0.0), (1010, 0.0), (1011, 0.0), (1013, 0.0), (1014, 0.0), (1016, 0.0), (1022, 0.0), (1025, 0.0), (1028, 0.0), (1029, 0.0), (1031, 0.0), (1038, 0.0), (1039, 0.0), (1045, 0.0), (1046, 0.0), (1051, 0.0), (1055, 0.0), (1056, 0.0), (1057, 0.0), (1062, 0.0), (1066, 0.0), (1067, 0.0), (1069, 0.0), (1073, 0.0), (1081, 0.0), (1085, 0.0), (1086, 0.0), (1089, 0.0), (1090, 0.0), (1091, 0.0), (1093, 0.0), (1094, 0.0), (1095, 0.0), (1097, 0.0), (1101, 0.0), (1103, 0.0), (1105, 0.0), (1106, 0.0), (1108, 0.0), (1111, 0.0), (1113, 0.0), (1125, 0.0), (1126, 0.0), (1130, 0.0), (1133, 0.0), (1135, 0.0), (1139, 0.0), (1142, 0.0), (1143, 0.0), (1147, 0.0), (1149, 0.0), (1151, 0.0), (1152, 0.0), (1155, 0.0), (1156, 0.0), (1157, 0.0), (1159, 0.0), (1165, 0.0), (1166, 0.0), (1171, 0.0), (1172, 0.0), (1178, 0.0), (1180, 0.0), (1189, 0.0), (1190, 0.0), (1193, 0.0), (1195, 0.0), (1196, 0.0), (1198, 0.0), (1200, 0.0), (1201, 0.0), (1205, 0.0), (1212, 0.0), (1218, 0.0), (1221, 0.0), (1222, 0.0), (1227, 0.0), (1228, 0.0), (1233, 0.0), (1235, 0.0), (1238, 0.0), (1239, 0.0), (1240, 0.0), (1242, 0.0), (1244, 0.0), (1246, 0.0), (1249, 0.0), (1250, 0.0), (1253, 0.0), (1256, 0.0), (1258, 0.0), (1263, 0.0), (1265, 0.0), (1267, 0.0), (1268, 0.0), (1269, 0.0), (1271, 0.0), (1274, 0.0), (1278, 0.0), (1283, 0.0), (1285, 0.0), (1287, 0.0), (1288, 0.0), (1289, 0.0), (1291, 0.0), (1293, 0.0), (1295, 0.0), (1296, 0.0), (1297, 0.0), (1299, 0.0), (1307, 0.0), (1310, 0.0), (1315, 0.0), (1316, 0.0), (1321, 0.0), (1322, 0.0), (1323, 0.0), (1326, 0.0), (1327, 0.0), (1328, 0.0), (1329, 0.0), (1331, 0.0), (1333, 0.0), (1336, 0.0), (1341, 0.0), (1342, 0.0), (1345, 0.0), (1346, 0.0), (1353, 0.0), (1354, 0.0), (1358, 0.0), (1361, 0.0), (1368, 0.0), (1371, 0.0), (1373, 0.0), (1374, 0.0), (1376, 0.0), (1379, 0.0), (1386, 0.0), (1389, 0.0), (1390, 0.0), (1399, 0.0), (1401, 0.0), (1405, 0.0), (1418, 0.0), (1424, 0.0), (1425, 0.0), (1437, 0.0), (1441, 0.0), (1444, 0.0), (1445, 0.0), (1447, 0.0), (1453, 0.0), (1457, 0.0), (1459, 0.0), (1460, 0.0), (1466, 0.0), (1467, 0.0), (1468, 0.0), (1470, 0.0), (1473, 0.0), (1482, 0.0), (1485, 0.0), (1486, 0.0), (1487, 0.0), (1490, 0.0), (1491, 0.0), (1492, 0.0), (1495, 0.0), (1496, 0.0), (1501, 0.0), (1505, 0.0), (1508, 0.0), (1511, 0.0), (1512, 0.0), (1515, 0.0), (1517, 0.0), (1520, 0.0), (1521, 0.0), (1522, 0.0), (1523, 0.0), (1524, 0.0), (1525, 0.0), (1526, 0.0), (1529, 0.0), (1532, 0.0), (1534, 0.0), (1535, 0.0), (1541, 0.0), (1545, 0.0), (1548, 0.0), (1549, 0.0), (1552, 0.0), (1556, 0.0), (1557, 0.0), (1560, 0.0), (1561, 0.0), (1563, 0.0), (1564, 0.0), (1569, 0.0), (1577, 0.0), (1578, 0.0), (1579, 0.0), (1581, 0.0), (1583, 0.0), (1584, 0.0), (1586, 0.0), (1589, 0.0), (1592, 0.0), (1596, 0.0), (1599, 0.0), (1600, 0.0), (1601, 0.0), (1602, 0.0), (1603, 0.0), (1604, 0.0), (1606, 0.0), (1607, 0.0), (1609, 0.0), (1610, 0.0), (1611, 0.0), (1613, 0.0), (1615, 0.0), (1618, 0.0), (1626, 0.0), (1636, 0.0), (1638, 0.0), (1639, 0.0), (1640, 0.0), (1644, 0.0), (1646, 0.0), (1647, 0.0), (1649, 0.0), (1651, 0.0), (1652, 0.0), (1654, 0.0), (1657, 0.0), (1664, 0.0), (1668, 0.0), (1669, 0.0), (1673, 0.0), (1676, 0.0), (1679, 0.0), (1684, 0.0), (1686, 0.0), (1689, 0.0), (1692, 0.0), (1695, 0.0), (1697, 0.0), (1698, 0.0), (1700, 0.0), (1702, 0.0), (1704, 0.0), (1709, 0.0), (1714, 0.0), (1715, 0.0), (1718, 0.0), (1720, 0.0), (1725, 0.0), (1726, 0.0), (1728, 0.0), (1729, 0.0), (1731, 0.0), (1734, 0.0), (1737, 0.0), (1741, 0.0), (1745, 0.0), (1746, 0.0), (1750, 0.0), (1751, 0.0), (1752, 0.0), (1755, 0.0), (1756, 0.0), (1757, 0.0), (1758, 0.0), (1766, 0.0), (1767, 0.0), (1769, 0.0), (1770, 0.0), (1771, 0.0), (1775, 0.0), (1777, 0.0), (1778, 0.0), (1783, 0.0), (1785, 0.0), (1786, 0.0), (1787, 0.0), (1790, 0.0), (1794, 0.0), (1795, 0.0), (1800, 0.0), (1802, 0.0), (1803, 0.0), (1804, 0.0), (1810, 0.0), (1818, 0.0), (1820, 0.0), (1823, 0.0), (1824, 0.0), (1825, 0.0), (1834, 0.0), (1835, 0.0), (1836, 0.0), (1837, 0.0), (1839, 0.0), (1841, 0.0), (1842, 0.0), (1844, 0.0), (1849, 0.0), (1850, 0.0), (1855, 0.0), (1856, 0.0), (1863, 0.0), (1867, 0.0), (1868, 0.0), (1870, 0.0), (1879, 0.0), (1880, 0.0), (1883, 0.0), (1888, 0.0), (1889, 0.0), (1894, 0.0), (1895, 0.0), (1898, 0.0), (1899, 0.0), (1903, 0.0), (1906, 0.0), (1908, 0.0), (1911, 0.0), (1912, 0.0), (1913, 0.0), (1915, 0.0), (1917, 0.0), (1926, 0.0), (1928, 0.0), (1932, 0.0), (1935, 0.0), (1938, 0.0), (1944, 0.0), (1948, 0.0), (1955, 0.0), (1956, 0.0), (1957, 0.0), (1961, 0.0), (1963, 0.0), (1965, 0.0), (1966, 0.0), (1972, 0.0), (1974, 0.0), (1978, 0.0), (1979, 0.0), (1984, 0.0), (1988, 0.0), (1994, 0.0), (1999, 0.0), (2001, 0.0), (2002, 0.0), (2003, 0.0), (2005, 0.0), (2006, 0.0), (2007, 0.0), (2009, 0.0), (2017, 0.0), (2018, 0.0), (2019, 0.0), (2020, 0.0), (2021, 0.0), (2022, 0.0), (2025, 0.0), (2028, 0.0), (2030, 0.0), (2032, 0.0), (2033, 0.0), (2036, 0.0), (2038, 0.0), (2041, 0.0), (2042, 0.0), (2043, 0.0), (2046, 0.0), (2050, 0.0), (2052, 0.0), (2054, 0.0), (2056, 0.0), (2058, 0.0), (2059, 0.0), (2063, 0.0), (2064, 0.0), (2071, 0.0), (2079, 0.0), (2081, 0.0), (2085, 0.0), (2086, 0.0), (2090, 0.0), (2092, 0.0), (2095, 0.0), (2098, 0.0), (2100, 0.0), (2101, 0.0), (2106, 0.0), (2107, 0.0), (2113, 0.0), (2114, 0.0), (2115, 0.0), (2118, 0.0), (2120, 0.0), (2124, 0.0), (2125, 0.0), (2128, 0.0), (2135, 0.0), (2137, 0.0), (2138, 0.0), (2140, 0.0), (2145, 0.0), (2150, 0.0), (2152, 0.0), (2153, 0.0), (2156, 0.0), (2157, 0.0), (2160, 0.0), (2161, 0.0), (2164, 0.0), (2165, 0.0), (2167, 0.0), (2168, 0.0), (2170, 0.0), (2171, 0.0), (2172, 0.0), (2175, 0.0), (2177, 0.0), (2179, 0.0), (2180, 0.0), (2182, 0.0), (2183, 0.0), (2185, 0.0), (2186, 0.0), (2188, 0.0), (2194, 0.0), (2198, 0.0), (2200, 0.0), (2202, 0.0), (2203, 0.0), (2204, 0.0), (2205, 0.0), (2207, 0.0), (2215, 0.0), (2217, 0.0), (2218, 0.0), (2219, 0.0), (2220, 0.0), (2222, 0.0), (2225, 0.0), (2227, 0.0), (2229, 0.0), (2233, 0.0), (2234, 0.0), (2235, 0.0), (2238, 0.0), (2239, 0.0), (2241, 0.0), (2243, 0.0), (2244, 0.0), (2247, 0.0), (2249, 0.0), (2251, 0.0), (2253, 0.0), (2255, 0.0), (2256, 0.0), (2257, 0.0), (2258, 0.0), (2259, 0.0), (2261, 0.0), (2262, 0.0), (2263, 0.0), (2266, 0.0), (2267, 0.0), (2269, 0.0), (2271, 0.0), (2272, 0.0), (2273, 0.0), (2274, 0.0), (2275, 0.0), (2281, 0.0), (2282, 0.0), (2288, 0.0), (2289, 0.0), (2290, 0.0), (2291, 0.0), (2294, 0.0), (2295, 0.0), (2296, 0.0), (2297, 0.0), (2298, 0.0), (2299, 0.0), (2300, 0.0), (2305, 0.0), (2307, 0.0), (2311, 0.0), (2312, 0.0), (2315, 0.0), (2322, 0.0), (2325, 0.0), (2327, 0.0), (2328, 0.0), (2329, 0.0), (2331, 0.0), (2332, 0.0), (2333, 0.0), (2335, 0.0), (2337, 0.0), (2339, 0.0), (2341, 0.0), (2342, 0.0), (2343, 0.0), (2345, 0.0), (2346, 0.0), (2351, 0.0), (2352, 0.0), (2353, 0.0), (2357, 0.0), (2358, 0.0), (2360, 0.0), (2363, 0.0), (2364, 0.0), (2365, 0.0), (2366, 0.0), (2368, 0.0), (2369, 0.0), (2371, 0.0), (2372, 0.0), (2373, 0.0), (2376, 0.0), (2377, 0.0), (2379, 0.0), (2380, 0.0), (2381, 0.0), (2383, 0.0), (2384, 0.0), (2389, 0.0), (2392, 0.0), (2394, 0.0), (2395, 0.0), (2398, 0.0), (2400, 0.0), (2404, 0.0), (2407, 0.0), (2408, 0.0), (2409, 0.0), (2414, 0.0), (2415, 0.0), (2420, 0.0), (2423, 0.0), (2425, 0.0), (2426, 0.0), (2431, 0.0), (2433, 0.0), (2435, 0.0), (2439, 0.0), (2444, 0.0), (2445, 0.0), (2449, 0.0), (2450, 0.0), (2451, 0.0), (2452, 0.0), (2454, 0.0), (2455, 0.0), (2456, 0.0), (2458, 0.0), (2460, 0.0), (2462, 0.0), (2465, 0.0), (2468, 0.0), (2470, 0.0), (2471, 0.0), (2472, 0.0), (2476, 0.0), (2479, 0.0), (2483, 0.0), (2484, 0.0), (2485, 0.0), (2488, 0.0), (2490, 0.0), (2491, 0.0), (2492, 0.0), (2493, 0.0), (2494, 0.0), (2497, 0.0), (2498, 0.0), (2499, 0.0), (2500, 0.0), (2503, 0.0), (2504, 0.0), (2508, 0.0), (2510, 0.0), (2511, 0.0), (2513, 0.0), (2514, 0.0), (2515, 0.0), (2516, 0.0), (2517, 0.0), (2518, 0.0), (2521, 0.0), (2523, 0.0), (2529, 0.0), (2531, 0.0), (2532, 0.0), (2536, 0.0), (2539, 0.0), (2542, 0.0), (2543, 0.0), (2547, 0.0), (2548, 0.0), (2549, 0.0), (2550, 0.0), (2551, 0.0), (2560, 0.0), (2561, 0.0), (2562, 0.0), (2564, 0.0), (2566, 0.0), (2569, 0.0), (2574, 0.0), (2575, 0.0), (2577, 0.0), (2578, 0.0), (2581, 0.0), (2582, 0.0), (2583, 0.0), (2584, 0.0), (2586, 0.0), (2588, 0.0), (2589, 0.0), (2590, 0.0), (2591, 0.0), (2594, 0.0), (2596, 0.0), (2597, 0.0), (2604, 0.0), (2605, 0.0), (2608, 0.0), (2615, 0.0), (2616, 0.0), (2618, 0.0), (2620, 0.0), (2627, 0.0), (2631, 0.0), (2633, 0.0), (2637, 0.0), (2638, 0.0), (2639, 0.0), (2641, 0.0), (2643, 0.0), (2644, 0.0), (2646, 0.0), (2648, 0.0), (2652, 0.0), (2654, 0.0), (2655, 0.0), (2656, 0.0), (2657, 0.0), (2658, 0.0), (2659, 0.0), (2660, 0.0), (2662, 0.0), (2663, 0.0), (2665, 0.0), (2666, 0.0), (2667, 0.0), (2669, 0.0), (2670, 0.0), (2671, 0.0), (2672, 0.0), (2673, 0.0), (2675, 0.0), (2676, 0.0), (2677, 0.0), (2681, 0.0), (2684, 0.0), (2685, 0.0), (2686, 0.0), (2688, 0.0), (2690, 0.0), (2691, 0.0), (2693, 0.0), (2699, 0.0), (2700, 0.0), (2701, 0.0), (2703, 0.0), (2704, 0.0), (2705, 0.0), (2707, 0.0), (2708, 0.0), (2709, 0.0), (2710, 0.0), (2712, 0.0), (2713, 0.0), (2715, 0.0), (2717, 0.0), (2718, 0.0), (2719, 0.0), (2726, 0.0), (2729, 0.0), (2730, 0.0), (2731, 0.0), (2732, 0.0), (2734, 0.0), (2737, 0.0), (2749, 0.0), (2750, 0.0), (2751, 0.0), (2754, 0.0), (2756, 0.0), (2757, 0.0), (2759, 0.0), (2762, 0.0), (2763, 0.0), (2764, 0.0), (2768, 0.0), (2770, 0.0), (2772, 0.0), (2773, 0.0), (2774, 0.0), (2778, 0.0), (2781, 0.0), (2785, 0.0), (2793, 0.0), (2794, 0.0), (2799, 0.0), (2804, 0.0), (2805, 0.0), (2806, 0.0), (2807, 0.0), (2810, 0.0), (2811, 0.0), (2813, 0.0), (2814, 0.0), (2816, 0.0), (2817, 0.0), (2818, 0.0), (2822, 0.0), (2823, 0.0), (2824, 0.0), (2827, 0.0), (2828, 0.0), (2829, 0.0), (2831, 0.0), (2834, 0.0), (2835, 0.0), (2836, 0.0), (2837, 0.0), (2838, 0.0), (2839, 0.0), (2840, 0.0), (2842, 0.0), (2843, 0.0), (2849, 0.0), (2850, 0.0), (2851, 0.0), (2852, 0.0), (2854, 0.0), (2855, 0.0), (2856, 0.0), (2858, 0.0), (2860, 0.0), (2864, 0.0), (2865, 0.0), (2866, 0.0), (2867, 0.0), (2869, 0.0), (2870, 0.0), (2872, 0.0), (2873, 0.0), (2875, 0.0), (2877, 0.0), (2880, 0.0), (2885, 0.0), (2889, 0.0), (2891, 0.0), (2892, 0.0), (2896, 0.0), (2898, 0.0), (2901, 0.0), (2905, 0.0), (2906, 0.0), (2916, 0.0), (2921, 0.0), (2922, 0.0), (2927, 0.0), (2928, 0.0), (2930, 0.0), (2932, 0.0), (2935, 0.0), (2938, 0.0), (2941, 0.0), (2950, 0.0), (2951, 0.0), (2952, 0.0), (2955, 0.0), (2956, 0.0), (2957, 0.0), (2958, 0.0), (2967, 0.0), (2968, 0.0), (2973, 0.0), (2979, 0.0), (2982, 0.0), (2983, 0.0), (2989, 0.0), (2990, 0.0), (2998, 0.0), (3001, 0.0), (3002, 0.0), (3004, 0.0), (3006, 0.0), (3008, 0.0), (3009, 0.0), (3017, 0.0), (3018, 0.0), (3021, 0.0), (3023, 0.0), (3025, 0.0), (3029, 0.0), (3030, 0.0), (3033, 0.0), (3034, 0.0), (3035, 0.0), (3037, 0.0), (3038, 0.0), (3039, 0.0), (3040, 0.0), (3041, 0.0), (3047, 0.0), (3048, 0.0), (3049, 0.0), (3051, 0.0), (3052, 0.0), (3053, 0.0), (3054, 0.0), (3058, 0.0), (3059, 0.0), (3060, 0.0), (3061, 0.0), (3062, 0.0), (3063, 0.0), (3066, 0.0), (3068, 0.0), (3073, 0.0), (3077, 0.0), (3078, 0.0), (3080, 0.0), (3082, 0.0), (3083, 0.0), (3087, 0.0), (3088, 0.0), (3089, 0.0), (3090, 0.0), (3092, 0.0), (3098, 0.0), (3102, 0.0), (3103, 0.0), (3104, 0.0), (3105, 0.0), (3106, 0.0), (3107, 0.0), (3109, 0.0), (3114, 0.0), (3115, 0.0), (3116, 0.0), (3119, 0.0), (3121, 0.0), (3130, 0.0), (3132, 0.0), (3138, 0.0), (3141, 0.0), (3142, 0.0), (3144, 0.0), (3145, 0.0), (3162, 0.0), (3164, 0.0), (3165, 0.0), (3166, 0.0), (3169, 0.0), (3172, 0.0), (3175, 0.0), (3176, 0.0), (3177, 0.0), (3178, 0.0), (3181, 0.0), (3185, 0.0), (3188, 0.0), (3189, 0.0), (3190, 0.0), (3193, 0.0), (3197, 0.0), (3201, 0.0), (3202, 0.0), (3203, 0.0), (3204, 0.0), (3205, 0.0), (3207, 0.0), (3208, 0.0), (3209, 0.0), (3212, 0.0), (3217, 0.0), (3221, 0.0), (3222, 0.0), (3223, 0.0), (3227, 0.0), (3228, 0.0), (3229, 0.0), (3231, 0.0), (3234, 0.0), (3235, 0.0), (3236, 0.0), (3244, 0.0), (3248, 0.0), (3250, 0.0), (3251, 0.0), (3253, 0.0), (3255, 0.0), (3256, 0.0), (3258, 0.0), (3261, 0.0), (3262, 0.0), (3265, 0.0), (3266, 0.0), (3270, 0.0), (3272, 0.0), (3274, 0.0), (3275, 0.0), (3276, 0.0), (3277, 0.0), (3281, 0.0), (3284, 0.0), (3286, 0.0), (3287, 0.0), (3288, 0.0), (3293, 0.0), (3294, 0.0), (3295, 0.0), (3296, 0.0), (3305, 0.0), (3309, 0.0), (3310, 0.0), (3312, 0.0), (3316, 0.0), (3319, 0.0), (3320, 0.0), (3321, 0.0), (3322, 0.0), (3323, 0.0), (3324, 0.0), (3332, 0.0), (3333, 0.0), (3340, 0.0), (3343, 0.0), (3345, 0.0), (3349, 0.0), (3350, 0.0), (3353, 0.0), (3356, 0.0), (3363, 0.0), (3364, 0.0), (3366, 0.0), (3368, 0.0), (3371, 0.0), (3375, 0.0), (3377, 0.0), (3378, 0.0), (3383, 0.0), (3394, 0.0), (3395, 0.0), (3396, 0.0), (3397, 0.0), (3400, 0.0), (3401, 0.0), (3411, 0.0), (3415, 0.0), (3420, 0.0), (3422, 0.0), (3424, 0.0), (3427, 0.0), (3428, 0.0), (3439, 0.0), (3442, 0.0), (3444, 0.0), (3454, 0.0), (3457, 0.0), (3459, 0.0), (3461, 0.0), (3462, 0.0), (3463, 0.0), (3467, 0.0), (3469, 0.0), (3472, 0.0), (3473, 0.0), (3475, 0.0), (3476, 0.0), (3480, 0.0), (3481, 0.0), (3482, 0.0), (3485, 0.0), (3489, 0.0), (3490, 0.0), (3494, 0.0), (3502, 0.0), (3505, 0.0), (3509, 0.0), (3510, 0.0), (3512, 0.0), (3513, 0.0), (3515, 0.0), (3519, 0.0), (3522, 0.0), (3523, 0.0), (3525, 0.0), (3527, 0.0), (3528, 0.0), (3529, 0.0), (3530, 0.0), (3532, 0.0), (3533, 0.0), (3539, 0.0), (3543, 0.0), (3545, 0.0), (3547, 0.0), (3549, 0.0), (3550, 0.0), (3553, 0.0), (3554, 0.0), (3559, 0.0), (3562, 0.0), (3563, 0.0), (3566, 0.0), (3567, 0.0), (3568, 0.0), (3572, 0.0), (3573, 0.0), (3574, 0.0), (3577, 0.0), (3578, 0.0), (3579, 0.0), (3580, 0.0), (3581, 0.0), (3585, 0.0), (3588, 0.0), (3589, 0.0), (3591, 0.0), (3592, 0.0), (3594, 0.0), (3595, 0.0), (3598, 0.0), (3600, 0.0), (3601, 0.0), (3603, 0.0), (3607, 0.0), (3609, 0.0), (3610, 0.0), (3616, 0.0), (3617, 0.0), (3622, 0.0), (3625, 0.0), (3628, 0.0), (3630, 0.0), (3631, 0.0), (3632, 0.0), (3633, 0.0), (3635, 0.0), (3638, 0.0), (3644, 0.0), (3648, 0.0), (3649, 0.0), (3650, 0.0), (3651, 0.0), (3652, 0.0), (3662, 0.0), (3663, 0.0), (3671, 0.0), (3675, 0.0), (3676, 0.0), (3679, 0.0), (3681, 0.0), (3682, 0.0), (3683, 0.0), (3685, 0.0), (3686, 0.0), (3688, 0.0), (3690, 0.0), (3693, 0.0), (3695, 0.0), (3697, 0.0), (3698, 0.0), (3700, 0.0), (3702, 0.0), (3703, 0.0), (3708, 0.0), (3709, 0.0), (3712, 0.0), (3715, 0.0), (3716, 0.0), (3717, 0.0), (3718, 0.0), (3722, 0.0), (3724, 0.0), (3726, 0.0), (3730, 0.0), (3732, 0.0), (3735, 0.0), (3736, 0.0), (3738, 0.0), (3740, 0.0), (3743, 0.0), (3746, 0.0), (3748, 0.0), (3750, 0.0), (3752, 0.0), (3753, 0.0), (3754, 0.0), (3758, 0.0), (3759, 0.0), (3760, 0.0), (3761, 0.0), (3762, 0.0), (3764, 0.0), (3766, 0.0), (3773, 0.0), (3783, 0.0), (3785, 0.0), (3786, 0.0), (3789, 0.0), (3790, 0.0), (3791, 0.0), (3796, 0.0), (3798, 0.0), (3800, 0.0), (3802, 0.0), (3803, 0.0), (3804, 0.0), (3805, 0.0), (3808, 0.0), (3810, 0.0), (3812, 0.0), (3813, 0.0), (3816, 0.0), (3817, 0.0), (3818, 0.0), (3820, 0.0), (3825, 0.0), (3827, 0.0), (3828, 0.0), (3830, 0.0), (3831, 0.0), (3832, 0.0), (3834, 0.0), (3836, 0.0), (3837, 0.0), (3838, 0.0), (3840, 0.0), (3843, 0.0), (3844, 0.0), (3846, 0.0), (3847, 0.0), (3851, 0.0), (3856, 0.0), (3858, 0.0), (3859, 0.0), (3861, 0.0), (3864, 0.0), (3865, 0.0), (3869, 0.0), (3870, 0.0), (3871, 0.0), (3872, 0.0), (3879, 0.0), (3883, 0.0), (3884, 0.0), (3885, 0.0), (3887, 0.0), (3891, 0.0), (3892, 0.0), (3896, 0.0), (3909, 0.0), (3912, 0.0), (3914, 0.0), (3916, 0.0), (3918, 0.0), (3921, 0.0), (3922, 0.0), (3923, 0.0), (3926, 0.0), (3929, 0.0), (3930, 0.0), (3931, 0.0), (3933, 0.0), (3934, 0.0), (3936, 0.0), (3937, 0.0), (3939, 0.0), (3940, 0.0), (3942, 0.0), (3943, 0.0), (3945, 0.0), (3948, 0.0), (3949, 0.0), (3950, 0.0), (3952, 0.0), (3955, 0.0), (3958, 0.0), (3963, 0.0), (3964, 0.0), (3965, 0.0), (3968, 0.0), (3969, 0.0), (3971, 0.0), (3972, 0.0), (3975, 0.0), (3976, 0.0), (3977, 0.0), (3979, 0.0), (3980, 0.0), (3981, 0.0), (3982, 0.0), (3984, 0.0), (3985, 0.0), (3988, 0.0), (3990, 0.0), (3991, 0.0), (3994, 0.0), (3996, 0.0), (3998, 0.0), (4001, 0.0), (4003, 0.0), (4006, 0.0), (4007, 0.0), (4008, 0.0), (4009, 0.0), (4010, 0.0), (4012, 0.0), (4014, 0.0), (4018, 0.0), (4021, 0.0), (4022, 0.0), (4023, 0.0), (4024, 0.0), (4026, 0.0), (4027, 0.0), (4028, 0.0), (4029, 0.0), (4030, 0.0), (4031, 0.0), (4032, 0.0), (4034, 0.0), (4035, 0.0), (4037, 0.0), (4040, 0.0), (4041, 0.0), (4047, 0.0), (4048, 0.0), (4055, 0.0), (4057, 0.0), (4058, 0.0), (4061, 0.0), (4062, 0.0), (4063, 0.0), (4064, 0.0), (4065, 0.0), (4067, 0.0), (4070, 0.0), (4072, 0.0), (4073, 0.0), (4077, 0.0), (4078, 0.0), (4082, 0.0), (4084, 0.0), (4086, 0.0), (4092, 0.0), (4097, 0.0), (4099, 0.0), (4100, 0.0), (4107, 0.0), (4108, 0.0), (4109, 0.0), (4110, 0.0), (4112, 0.0), (4114, 0.0), (4115, 0.0), (4122, 0.0), (4125, 0.0), (4127, 0.0), (4128, 0.0), (4131, 0.0), (4144, 0.0), (4146, 0.0), (4149, 0.0), (4150, 0.0), (4153, 0.0), (4157, 0.0), (4159, 0.0), (4166, 0.0), (4167, 0.0), (4168, 0.0), (4169, 0.0), (4170, 0.0), (4172, 0.0), (4173, 0.0), (4177, 0.0), (4179, 0.0), (4180, 0.0), (4181, 0.0), (4184, 0.0), (4185, 0.0), (4186, 0.0), (4188, 0.0), (4190, 0.0), (4191, 0.0), (4194, 0.0), (4195, 0.0), (4196, 0.0), (4198, 0.0), (4199, 0.0), (4201, 0.0), (4202, 0.0), (4204, 0.0), (4207, 0.0), (4210, 0.0), (4212, 0.0), (4214, 0.0), (4215, 0.0), (4217, 0.0), (4218, 0.0), (4219, 0.0), (4221, 0.0), (4222, 0.0), (4223, 0.0), (4224, 0.0), (4225, 0.0), (4226, 0.0), (4229, 0.0), (4230, 0.0), (4231, 0.0), (4234, 0.0), (4236, 0.0), (4237, 0.0), (4238, 0.0), (4239, 0.0), (4241, 0.0), (4242, 0.0), (4243, 0.0), (4250, 0.0), (4253, 0.0), (4256, 0.0), (4258, 0.0), (4260, 0.0), (4263, 0.0), (4270, 0.0), (4271, 0.0), (4272, 0.0), (4276, 0.0), (4278, 0.0), (4279, 0.0), (4291, 0.0), (4293, 0.0), (4294, 0.0), (4297, 0.0), (4300, 0.0), (4302, 0.0), (4303, 0.0), (4305, 0.0), (4313, 0.0), (4314, 0.0), (4315, 0.0), (4316, 0.0), (4317, 0.0), (4319, 0.0), (4323, 0.0), (4324, 0.0), (4327, 0.0), (4329, 0.0), (4332, 0.0), (4335, 0.0), (4338, 0.0), (4341, 0.0), (4342, 0.0), (4346, 0.0), (4347, 0.0), (4351, 0.0), (4352, 0.0), (4353, 0.0), (4358, 0.0), (4364, 0.0), (4367, 0.0), (4370, 0.0), (4372, 0.0), (4373, 0.0), (4385, 0.0), (4388, 0.0), (4393, 0.0), (4404, 0.0), (4405, 0.0), (4406, 0.0), (4407, 0.0), (4408, 0.0), (4410, 0.0), (4413, 0.0), (4414, 0.0), (4415, 0.0), (4417, 0.0), (4421, 0.0), (4423, 0.0), (4424, 0.0), (4425, 0.0), (4433, 0.0), (4434, 0.0), (4437, 0.0), (4439, 0.0), (4440, 0.0), (4443, 0.0), (4444, 0.0), (4447, 0.0), (4449, 0.0), (4451, 0.0), (4452, 0.0), (4453, 0.0), (4454, 0.0), (4455, 0.0), (4456, 0.0), (4457, 0.0), (4458, 0.0), (4459, 0.0), (4460, 0.0), (4463, 0.0), (4467, 0.0), (4469, 0.0), (4478, 0.0), (4480, 0.0), (4482, 0.0), (4483, 0.0), (4485, 0.0), (4490, 0.0), (4491, 0.0), (4492, 0.0), (4493, 0.0), (4496, 0.0), (4498, 0.0), (4499, 0.0), (4500, 0.0), (4506, 0.0), (4508, 0.0), (4509, 0.0), (4512, 0.0), (4514, 0.0), (4515, 0.0), (4519, 0.0), (4522, 0.0), (4525, 0.0), (4526, 0.0), (4527, 0.0), (4532, 0.0), (4537, 0.0), (4538, 0.0), (4539, 0.0), (4540, 0.0), (4541, 0.0), (4542, 0.0), (4547, 0.0), (4549, 0.0), (4554, 0.0), (4556, 0.0), (4558, 0.0), (4559, 0.0), (4560, 0.0), (4561, 0.0), (4562, 0.0), (4564, 0.0), (4565, 0.0), (4568, 0.0), (4569, 0.0), (4570, 0.0), (4571, 0.0), (4572, 0.0), (4577, 0.0), (4578, 0.0), (4580, 0.0), (4583, 0.0), (4588, 0.0), (4589, 0.0), (4592, 0.0), (4593, 0.0), (4596, 0.0), (4597, 0.0), (4599, 0.0), (4600, 0.0), (4607, 0.0), (4609, 0.0), (4613, 0.0), (4615, 0.0), (4617, 0.0), (4618, 0.0), (4619, 0.0), (4622, 0.0), (4628, 0.0), (4631, 0.0), (4632, 0.0), (4635, 0.0), (4637, 0.0), (4643, 0.0), (4644, 0.0), (4645, 0.0), (4646, 0.0), (4647, 0.0), (4648, 0.0), (4651, 0.0), (4654, 0.0), (4655, 0.0), (4656, 0.0), (4659, 0.0), (4660, 0.0), (4662, 0.0), (4666, 0.0), (4667, 0.0), (4671, 0.0), (4672, 0.0), (4675, 0.0), (4676, 0.0), (4681, 0.0), (4682, 0.0), (4683, 0.0), (4688, 0.0), (4690, 0.0), (4693, 0.0), (4697, 0.0), (4698, 0.0), (4699, 0.0), (4700, 0.0), (4701, 0.0), (4702, 0.0), (4704, 0.0), (4707, 0.0), (4709, 0.0), (4711, 0.0), (4714, 0.0), (4716, 0.0), (4717, 0.0), (4719, 0.0), (4720, 0.0), (4721, 0.0), (4724, 0.0), (4725, 0.0), (4726, 0.0), (4728, 0.0), (4730, 0.0), (4731, 0.0), (4735, 0.0), (4736, 0.0), (4737, 0.0), (4738, 0.0), (4739, 0.0), (4740, 0.0), (4741, 0.0), (4742, 0.0), (4745, 0.0), (4747, 0.0), (4750, 0.0), (4751, 0.0), (4753, 0.0), (4754, 0.0), (4755, 0.0), (4756, 0.0), (4758, 0.0), (4759, 0.0)]\n"
          ]
        }
      ]
    },
    {
      "cell_type": "code",
      "source": [
        "print('top 30 movies suggested to you \\n')\n",
        "\n",
        "i = 1\n",
        "for movies in Sorted_Similar_Movies:\n",
        "  index = movies[0]\n",
        "  title_from_index = df[df.index == index]['Movie_Title'].values[0]\n",
        "  if (i<31):\n",
        "    print(i, '.', title_from_index)\n",
        "    i += 1"
      ],
      "metadata": {
        "colab": {
          "base_uri": "https://localhost:8080/"
        },
        "id": "mUl0ySKy0W1g",
        "outputId": "e15c0b16-54a3-49d5-884d-066e0b6df4e3"
      },
      "execution_count": 84,
      "outputs": [
        {
          "output_type": "stream",
          "name": "stdout",
          "text": [
            "top 30 movies suggested to you \n",
            "\n",
            "1 . Niagara\n",
            "2 . Harry Brown\n",
            "3 . Eye for an Eye\n",
            "4 . Welcome to the Sticks\n",
            "5 . Back to the Future\n",
            "6 . The Curse of Downers Grove\n",
            "7 . Enough\n",
            "8 . Kung Fu Hustle\n",
            "9 . The Raid\n",
            "10 . The Dilemma\n",
            "11 . The End of the Affair\n",
            "12 . The Lost Weekend\n",
            "13 . Factory Girl\n",
            "14 . Just Looking\n",
            "15 . The Oh in Ohio\n",
            "16 . Butterfly on a Wheel\n",
            "17 . Swimfan\n",
            "18 . Please Give\n",
            "19 . Intolerable Cruelty\n",
            "20 . Revolutionary Road\n",
            "21 . Unfaithful\n",
            "22 . House of D\n",
            "23 . The Great Gatsby\n",
            "24 . Election\n",
            "25 . Auto Focus\n",
            "26 . Hugo\n",
            "27 . Dear Wendy\n",
            "28 . Inglourious Basterds\n",
            "29 . Capote\n",
            "30 . Hanna\n"
          ]
        }
      ]
    }
  ]
}